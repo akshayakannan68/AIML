{
 "cells": [
  {
   "cell_type": "code",
   "execution_count": 1373,
   "id": "d80027e1",
   "metadata": {},
   "outputs": [
    {
     "name": "stdout",
     "output_type": "stream",
     "text": [
      "The nb_black extension is already loaded. To reload it, use:\n",
      "  %reload_ext nb_black\n"
     ]
    },
    {
     "data": {
      "application/javascript": [
       "\n",
       "            setTimeout(function() {\n",
       "                var nbb_cell_id = 1373;\n",
       "                var nbb_unformatted_code = \"%load_ext nb_black\\n# structuring python code\";\n",
       "                var nbb_formatted_code = \"%load_ext nb_black\\n# structuring python code\";\n",
       "                var nbb_cells = Jupyter.notebook.get_cells();\n",
       "                for (var i = 0; i < nbb_cells.length; ++i) {\n",
       "                    if (nbb_cells[i].input_prompt_number == nbb_cell_id) {\n",
       "                        if (nbb_cells[i].get_text() == nbb_unformatted_code) {\n",
       "                             nbb_cells[i].set_text(nbb_formatted_code);\n",
       "                        }\n",
       "                        break;\n",
       "                    }\n",
       "                }\n",
       "            }, 500);\n",
       "            "
      ],
      "text/plain": [
       "<IPython.core.display.Javascript object>"
      ]
     },
     "metadata": {},
     "output_type": "display_data"
    }
   ],
   "source": [
    "%load_ext nb_black\n",
    "# structuring python code"
   ]
  },
  {
   "cell_type": "code",
   "execution_count": 1374,
   "id": "d88fe0f3",
   "metadata": {},
   "outputs": [
    {
     "data": {
      "application/javascript": [
       "\n",
       "            setTimeout(function() {\n",
       "                var nbb_cell_id = 1374;\n",
       "                var nbb_unformatted_code = \"# Data assessment libraries\\nimport numpy as np\\nimport pandas as pd\\n\\nimport matplotlib.pyplot as plt\\nimport seaborn as sns\\n\\n# Data visualization libraries\\nsns.set()\\n\\n# Removing/setting limits on displayed columns & rows\\npd.set_option(\\\"display.max_columns\\\", None)\\npd.set_option(\\\"display.max_rows\\\", 200)\\n\\n# Splitting training and testing data\\nfrom sklearn.model_selection import train_test_split\\n\\n# To build linear regression model\\nfrom sklearn.linear_model import LinearRegression\\n\\n# Checking model Performance\\nfrom sklearn.metrics import mean_absolute_error, mean_squared_error, r2_score\";\n",
       "                var nbb_formatted_code = \"# Data assessment libraries\\nimport numpy as np\\nimport pandas as pd\\n\\nimport matplotlib.pyplot as plt\\nimport seaborn as sns\\n\\n# Data visualization libraries\\nsns.set()\\n\\n# Removing/setting limits on displayed columns & rows\\npd.set_option(\\\"display.max_columns\\\", None)\\npd.set_option(\\\"display.max_rows\\\", 200)\\n\\n# Splitting training and testing data\\nfrom sklearn.model_selection import train_test_split\\n\\n# To build linear regression model\\nfrom sklearn.linear_model import LinearRegression\\n\\n# Checking model Performance\\nfrom sklearn.metrics import mean_absolute_error, mean_squared_error, r2_score\";\n",
       "                var nbb_cells = Jupyter.notebook.get_cells();\n",
       "                for (var i = 0; i < nbb_cells.length; ++i) {\n",
       "                    if (nbb_cells[i].input_prompt_number == nbb_cell_id) {\n",
       "                        if (nbb_cells[i].get_text() == nbb_unformatted_code) {\n",
       "                             nbb_cells[i].set_text(nbb_formatted_code);\n",
       "                        }\n",
       "                        break;\n",
       "                    }\n",
       "                }\n",
       "            }, 500);\n",
       "            "
      ],
      "text/plain": [
       "<IPython.core.display.Javascript object>"
      ]
     },
     "metadata": {},
     "output_type": "display_data"
    }
   ],
   "source": [
    "# Data assessment libraries\n",
    "import numpy as np\n",
    "import pandas as pd\n",
    "\n",
    "import matplotlib.pyplot as plt\n",
    "import seaborn as sns\n",
    "\n",
    "# Data visualization libraries\n",
    "sns.set()\n",
    "\n",
    "# Removing/setting limits on displayed columns & rows\n",
    "pd.set_option(\"display.max_columns\", None)\n",
    "pd.set_option(\"display.max_rows\", 200)\n",
    "\n",
    "# Splitting training and testing data\n",
    "from sklearn.model_selection import train_test_split\n",
    "\n",
    "# To build linear regression model\n",
    "from sklearn.linear_model import LinearRegression\n",
    "\n",
    "# Checking model Performance\n",
    "from sklearn.metrics import mean_absolute_error, mean_squared_error, r2_score"
   ]
  },
  {
   "cell_type": "code",
   "execution_count": 1375,
   "id": "a546f087",
   "metadata": {},
   "outputs": [
    {
     "data": {
      "application/javascript": [
       "\n",
       "            setTimeout(function() {\n",
       "                var nbb_cell_id = 1375;\n",
       "                var nbb_unformatted_code = \"import warnings\\n\\nwarnings.filterwarnings(\\\"ignore\\\")\";\n",
       "                var nbb_formatted_code = \"import warnings\\n\\nwarnings.filterwarnings(\\\"ignore\\\")\";\n",
       "                var nbb_cells = Jupyter.notebook.get_cells();\n",
       "                for (var i = 0; i < nbb_cells.length; ++i) {\n",
       "                    if (nbb_cells[i].input_prompt_number == nbb_cell_id) {\n",
       "                        if (nbb_cells[i].get_text() == nbb_unformatted_code) {\n",
       "                             nbb_cells[i].set_text(nbb_formatted_code);\n",
       "                        }\n",
       "                        break;\n",
       "                    }\n",
       "                }\n",
       "            }, 500);\n",
       "            "
      ],
      "text/plain": [
       "<IPython.core.display.Javascript object>"
      ]
     },
     "metadata": {},
     "output_type": "display_data"
    }
   ],
   "source": [
    "import warnings\n",
    "\n",
    "warnings.filterwarnings(\"ignore\")"
   ]
  },
  {
   "cell_type": "code",
   "execution_count": 1376,
   "id": "339532fd",
   "metadata": {},
   "outputs": [
    {
     "data": {
      "application/javascript": [
       "\n",
       "            setTimeout(function() {\n",
       "                var nbb_cell_id = 1376;\n",
       "                var nbb_unformatted_code = \"# reading data\\ndata = pd.read_csv(\\\"used_cars_data.csv\\\")\\n\\n# creating a copy of the data\\ndf = data.copy()\";\n",
       "                var nbb_formatted_code = \"# reading data\\ndata = pd.read_csv(\\\"used_cars_data.csv\\\")\\n\\n# creating a copy of the data\\ndf = data.copy()\";\n",
       "                var nbb_cells = Jupyter.notebook.get_cells();\n",
       "                for (var i = 0; i < nbb_cells.length; ++i) {\n",
       "                    if (nbb_cells[i].input_prompt_number == nbb_cell_id) {\n",
       "                        if (nbb_cells[i].get_text() == nbb_unformatted_code) {\n",
       "                             nbb_cells[i].set_text(nbb_formatted_code);\n",
       "                        }\n",
       "                        break;\n",
       "                    }\n",
       "                }\n",
       "            }, 500);\n",
       "            "
      ],
      "text/plain": [
       "<IPython.core.display.Javascript object>"
      ]
     },
     "metadata": {},
     "output_type": "display_data"
    }
   ],
   "source": [
    "# reading data\n",
    "data = pd.read_csv(\"used_cars_data.csv\")\n",
    "\n",
    "# creating a copy of the data\n",
    "df = data.copy()"
   ]
  },
  {
   "cell_type": "code",
   "execution_count": 1377,
   "id": "dc823ca4",
   "metadata": {},
   "outputs": [
    {
     "data": {
      "text/html": [
       "<div>\n",
       "<style scoped>\n",
       "    .dataframe tbody tr th:only-of-type {\n",
       "        vertical-align: middle;\n",
       "    }\n",
       "\n",
       "    .dataframe tbody tr th {\n",
       "        vertical-align: top;\n",
       "    }\n",
       "\n",
       "    .dataframe thead th {\n",
       "        text-align: right;\n",
       "    }\n",
       "</style>\n",
       "<table border=\"1\" class=\"dataframe\">\n",
       "  <thead>\n",
       "    <tr style=\"text-align: right;\">\n",
       "      <th></th>\n",
       "      <th>S.No.</th>\n",
       "      <th>Name</th>\n",
       "      <th>Location</th>\n",
       "      <th>Year</th>\n",
       "      <th>Kilometers_Driven</th>\n",
       "      <th>Fuel_Type</th>\n",
       "      <th>Transmission</th>\n",
       "      <th>Owner_Type</th>\n",
       "      <th>Mileage</th>\n",
       "      <th>Engine</th>\n",
       "      <th>Power</th>\n",
       "      <th>Seats</th>\n",
       "      <th>New_Price</th>\n",
       "      <th>Price</th>\n",
       "    </tr>\n",
       "  </thead>\n",
       "  <tbody>\n",
       "    <tr>\n",
       "      <th>0</th>\n",
       "      <td>0</td>\n",
       "      <td>Maruti Wagon R LXI CNG</td>\n",
       "      <td>Mumbai</td>\n",
       "      <td>2010</td>\n",
       "      <td>72000</td>\n",
       "      <td>CNG</td>\n",
       "      <td>Manual</td>\n",
       "      <td>First</td>\n",
       "      <td>26.6 km/kg</td>\n",
       "      <td>998 CC</td>\n",
       "      <td>58.16 bhp</td>\n",
       "      <td>5.0</td>\n",
       "      <td>NaN</td>\n",
       "      <td>1.75</td>\n",
       "    </tr>\n",
       "    <tr>\n",
       "      <th>1</th>\n",
       "      <td>1</td>\n",
       "      <td>Hyundai Creta 1.6 CRDi SX Option</td>\n",
       "      <td>Pune</td>\n",
       "      <td>2015</td>\n",
       "      <td>41000</td>\n",
       "      <td>Diesel</td>\n",
       "      <td>Manual</td>\n",
       "      <td>First</td>\n",
       "      <td>19.67 kmpl</td>\n",
       "      <td>1582 CC</td>\n",
       "      <td>126.2 bhp</td>\n",
       "      <td>5.0</td>\n",
       "      <td>NaN</td>\n",
       "      <td>12.50</td>\n",
       "    </tr>\n",
       "    <tr>\n",
       "      <th>2</th>\n",
       "      <td>2</td>\n",
       "      <td>Honda Jazz V</td>\n",
       "      <td>Chennai</td>\n",
       "      <td>2011</td>\n",
       "      <td>46000</td>\n",
       "      <td>Petrol</td>\n",
       "      <td>Manual</td>\n",
       "      <td>First</td>\n",
       "      <td>18.2 kmpl</td>\n",
       "      <td>1199 CC</td>\n",
       "      <td>88.7 bhp</td>\n",
       "      <td>5.0</td>\n",
       "      <td>8.61 Lakh</td>\n",
       "      <td>4.50</td>\n",
       "    </tr>\n",
       "    <tr>\n",
       "      <th>3</th>\n",
       "      <td>3</td>\n",
       "      <td>Maruti Ertiga VDI</td>\n",
       "      <td>Chennai</td>\n",
       "      <td>2012</td>\n",
       "      <td>87000</td>\n",
       "      <td>Diesel</td>\n",
       "      <td>Manual</td>\n",
       "      <td>First</td>\n",
       "      <td>20.77 kmpl</td>\n",
       "      <td>1248 CC</td>\n",
       "      <td>88.76 bhp</td>\n",
       "      <td>7.0</td>\n",
       "      <td>NaN</td>\n",
       "      <td>6.00</td>\n",
       "    </tr>\n",
       "    <tr>\n",
       "      <th>4</th>\n",
       "      <td>4</td>\n",
       "      <td>Audi A4 New 2.0 TDI Multitronic</td>\n",
       "      <td>Coimbatore</td>\n",
       "      <td>2013</td>\n",
       "      <td>40670</td>\n",
       "      <td>Diesel</td>\n",
       "      <td>Automatic</td>\n",
       "      <td>Second</td>\n",
       "      <td>15.2 kmpl</td>\n",
       "      <td>1968 CC</td>\n",
       "      <td>140.8 bhp</td>\n",
       "      <td>5.0</td>\n",
       "      <td>NaN</td>\n",
       "      <td>17.74</td>\n",
       "    </tr>\n",
       "  </tbody>\n",
       "</table>\n",
       "</div>"
      ],
      "text/plain": [
       "   S.No.                              Name    Location  Year  \\\n",
       "0      0            Maruti Wagon R LXI CNG      Mumbai  2010   \n",
       "1      1  Hyundai Creta 1.6 CRDi SX Option        Pune  2015   \n",
       "2      2                      Honda Jazz V     Chennai  2011   \n",
       "3      3                 Maruti Ertiga VDI     Chennai  2012   \n",
       "4      4   Audi A4 New 2.0 TDI Multitronic  Coimbatore  2013   \n",
       "\n",
       "   Kilometers_Driven Fuel_Type Transmission Owner_Type     Mileage   Engine  \\\n",
       "0              72000       CNG       Manual      First  26.6 km/kg   998 CC   \n",
       "1              41000    Diesel       Manual      First  19.67 kmpl  1582 CC   \n",
       "2              46000    Petrol       Manual      First   18.2 kmpl  1199 CC   \n",
       "3              87000    Diesel       Manual      First  20.77 kmpl  1248 CC   \n",
       "4              40670    Diesel    Automatic     Second   15.2 kmpl  1968 CC   \n",
       "\n",
       "       Power  Seats  New_Price  Price  \n",
       "0  58.16 bhp    5.0        NaN   1.75  \n",
       "1  126.2 bhp    5.0        NaN  12.50  \n",
       "2   88.7 bhp    5.0  8.61 Lakh   4.50  \n",
       "3  88.76 bhp    7.0        NaN   6.00  \n",
       "4  140.8 bhp    5.0        NaN  17.74  "
      ]
     },
     "execution_count": 1377,
     "metadata": {},
     "output_type": "execute_result"
    },
    {
     "data": {
      "application/javascript": [
       "\n",
       "            setTimeout(function() {\n",
       "                var nbb_cell_id = 1377;\n",
       "                var nbb_unformatted_code = \"data.head()  # sample of data to view\";\n",
       "                var nbb_formatted_code = \"data.head()  # sample of data to view\";\n",
       "                var nbb_cells = Jupyter.notebook.get_cells();\n",
       "                for (var i = 0; i < nbb_cells.length; ++i) {\n",
       "                    if (nbb_cells[i].input_prompt_number == nbb_cell_id) {\n",
       "                        if (nbb_cells[i].get_text() == nbb_unformatted_code) {\n",
       "                             nbb_cells[i].set_text(nbb_formatted_code);\n",
       "                        }\n",
       "                        break;\n",
       "                    }\n",
       "                }\n",
       "            }, 500);\n",
       "            "
      ],
      "text/plain": [
       "<IPython.core.display.Javascript object>"
      ]
     },
     "metadata": {},
     "output_type": "display_data"
    }
   ],
   "source": [
    "data.head()  # sample of data to view"
   ]
  },
  {
   "cell_type": "code",
   "execution_count": 1378,
   "id": "43caf061",
   "metadata": {},
   "outputs": [
    {
     "data": {
      "application/javascript": [
       "\n",
       "            setTimeout(function() {\n",
       "                var nbb_cell_id = 1378;\n",
       "                var nbb_unformatted_code = \"df.drop([\\\"S.No.\\\"], axis=1, inplace=True)  # not important to find effects on price\";\n",
       "                var nbb_formatted_code = \"df.drop([\\\"S.No.\\\"], axis=1, inplace=True)  # not important to find effects on price\";\n",
       "                var nbb_cells = Jupyter.notebook.get_cells();\n",
       "                for (var i = 0; i < nbb_cells.length; ++i) {\n",
       "                    if (nbb_cells[i].input_prompt_number == nbb_cell_id) {\n",
       "                        if (nbb_cells[i].get_text() == nbb_unformatted_code) {\n",
       "                             nbb_cells[i].set_text(nbb_formatted_code);\n",
       "                        }\n",
       "                        break;\n",
       "                    }\n",
       "                }\n",
       "            }, 500);\n",
       "            "
      ],
      "text/plain": [
       "<IPython.core.display.Javascript object>"
      ]
     },
     "metadata": {},
     "output_type": "display_data"
    }
   ],
   "source": [
    "df.drop([\"S.No.\"], axis=1, inplace=True)  # not important to find effects on price"
   ]
  },
  {
   "cell_type": "code",
   "execution_count": 1379,
   "id": "c31970fe",
   "metadata": {},
   "outputs": [
    {
     "data": {
      "text/plain": [
       "(7253, 13)"
      ]
     },
     "execution_count": 1379,
     "metadata": {},
     "output_type": "execute_result"
    },
    {
     "data": {
      "application/javascript": [
       "\n",
       "            setTimeout(function() {\n",
       "                var nbb_cell_id = 1379;\n",
       "                var nbb_unformatted_code = \"df.shape  # number of rows and columns\";\n",
       "                var nbb_formatted_code = \"df.shape  # number of rows and columns\";\n",
       "                var nbb_cells = Jupyter.notebook.get_cells();\n",
       "                for (var i = 0; i < nbb_cells.length; ++i) {\n",
       "                    if (nbb_cells[i].input_prompt_number == nbb_cell_id) {\n",
       "                        if (nbb_cells[i].get_text() == nbb_unformatted_code) {\n",
       "                             nbb_cells[i].set_text(nbb_formatted_code);\n",
       "                        }\n",
       "                        break;\n",
       "                    }\n",
       "                }\n",
       "            }, 500);\n",
       "            "
      ],
      "text/plain": [
       "<IPython.core.display.Javascript object>"
      ]
     },
     "metadata": {},
     "output_type": "display_data"
    }
   ],
   "source": [
    "df.shape  # number of rows and columns"
   ]
  },
  {
   "cell_type": "code",
   "execution_count": 1380,
   "id": "ed1f20fe",
   "metadata": {},
   "outputs": [
    {
     "name": "stdout",
     "output_type": "stream",
     "text": [
      "Index(['Name', 'Location', 'Year', 'Kilometers_Driven', 'Fuel_Type',\n",
      "       'Transmission', 'Owner_Type', 'Mileage', 'Engine', 'Power', 'Seats',\n",
      "       'New_Price', 'Price'],\n",
      "      dtype='object')\n"
     ]
    },
    {
     "data": {
      "application/javascript": [
       "\n",
       "            setTimeout(function() {\n",
       "                var nbb_cell_id = 1380;\n",
       "                var nbb_unformatted_code = \"print(df.columns)  # column names\";\n",
       "                var nbb_formatted_code = \"print(df.columns)  # column names\";\n",
       "                var nbb_cells = Jupyter.notebook.get_cells();\n",
       "                for (var i = 0; i < nbb_cells.length; ++i) {\n",
       "                    if (nbb_cells[i].input_prompt_number == nbb_cell_id) {\n",
       "                        if (nbb_cells[i].get_text() == nbb_unformatted_code) {\n",
       "                             nbb_cells[i].set_text(nbb_formatted_code);\n",
       "                        }\n",
       "                        break;\n",
       "                    }\n",
       "                }\n",
       "            }, 500);\n",
       "            "
      ],
      "text/plain": [
       "<IPython.core.display.Javascript object>"
      ]
     },
     "metadata": {},
     "output_type": "display_data"
    }
   ],
   "source": [
    "print(df.columns)  # column names"
   ]
  },
  {
   "cell_type": "code",
   "execution_count": 1381,
   "id": "d3b775fe",
   "metadata": {},
   "outputs": [
    {
     "name": "stdout",
     "output_type": "stream",
     "text": [
      "<class 'pandas.core.frame.DataFrame'>\n",
      "RangeIndex: 7253 entries, 0 to 7252\n",
      "Data columns (total 13 columns):\n",
      " #   Column             Non-Null Count  Dtype  \n",
      "---  ------             --------------  -----  \n",
      " 0   Name               7253 non-null   object \n",
      " 1   Location           7253 non-null   object \n",
      " 2   Year               7253 non-null   int64  \n",
      " 3   Kilometers_Driven  7253 non-null   int64  \n",
      " 4   Fuel_Type          7253 non-null   object \n",
      " 5   Transmission       7253 non-null   object \n",
      " 6   Owner_Type         7253 non-null   object \n",
      " 7   Mileage            7251 non-null   object \n",
      " 8   Engine             7207 non-null   object \n",
      " 9   Power              7078 non-null   object \n",
      " 10  Seats              7200 non-null   float64\n",
      " 11  New_Price          1006 non-null   object \n",
      " 12  Price              6019 non-null   float64\n",
      "dtypes: float64(2), int64(2), object(9)\n",
      "memory usage: 736.8+ KB\n"
     ]
    },
    {
     "data": {
      "application/javascript": [
       "\n",
       "            setTimeout(function() {\n",
       "                var nbb_cell_id = 1381;\n",
       "                var nbb_unformatted_code = \"df.info()\";\n",
       "                var nbb_formatted_code = \"df.info()\";\n",
       "                var nbb_cells = Jupyter.notebook.get_cells();\n",
       "                for (var i = 0; i < nbb_cells.length; ++i) {\n",
       "                    if (nbb_cells[i].input_prompt_number == nbb_cell_id) {\n",
       "                        if (nbb_cells[i].get_text() == nbb_unformatted_code) {\n",
       "                             nbb_cells[i].set_text(nbb_formatted_code);\n",
       "                        }\n",
       "                        break;\n",
       "                    }\n",
       "                }\n",
       "            }, 500);\n",
       "            "
      ],
      "text/plain": [
       "<IPython.core.display.Javascript object>"
      ]
     },
     "metadata": {},
     "output_type": "display_data"
    }
   ],
   "source": [
    "df.info()"
   ]
  },
  {
   "cell_type": "markdown",
   "id": "c641e335",
   "metadata": {},
   "source": [
    "There are 3 data types and the dependent variable is of float type. "
   ]
  },
  {
   "cell_type": "code",
   "execution_count": 1382,
   "id": "7b109855",
   "metadata": {},
   "outputs": [
    {
     "data": {
      "text/plain": [
       "Name                    0\n",
       "Location                0\n",
       "Year                    0\n",
       "Kilometers_Driven       0\n",
       "Fuel_Type               0\n",
       "Transmission            0\n",
       "Owner_Type              0\n",
       "Mileage                 2\n",
       "Engine                 46\n",
       "Power                 175\n",
       "Seats                  53\n",
       "New_Price            6247\n",
       "Price                1234\n",
       "dtype: int64"
      ]
     },
     "execution_count": 1382,
     "metadata": {},
     "output_type": "execute_result"
    },
    {
     "data": {
      "application/javascript": [
       "\n",
       "            setTimeout(function() {\n",
       "                var nbb_cell_id = 1382;\n",
       "                var nbb_unformatted_code = \"df.isnull().sum()  # checking for missing values\";\n",
       "                var nbb_formatted_code = \"df.isnull().sum()  # checking for missing values\";\n",
       "                var nbb_cells = Jupyter.notebook.get_cells();\n",
       "                for (var i = 0; i < nbb_cells.length; ++i) {\n",
       "                    if (nbb_cells[i].input_prompt_number == nbb_cell_id) {\n",
       "                        if (nbb_cells[i].get_text() == nbb_unformatted_code) {\n",
       "                             nbb_cells[i].set_text(nbb_formatted_code);\n",
       "                        }\n",
       "                        break;\n",
       "                    }\n",
       "                }\n",
       "            }, 500);\n",
       "            "
      ],
      "text/plain": [
       "<IPython.core.display.Javascript object>"
      ]
     },
     "metadata": {},
     "output_type": "display_data"
    }
   ],
   "source": [
    "df.isnull().sum()  # checking for missing values"
   ]
  },
  {
   "cell_type": "markdown",
   "id": "61e5ae08",
   "metadata": {},
   "source": [
    "There are a lot of missing values, especially with new car and used car prices. However, most of the columns seem to have data filled in. "
   ]
  },
  {
   "cell_type": "code",
   "execution_count": 1383,
   "id": "95b8c77b",
   "metadata": {},
   "outputs": [
    {
     "data": {
      "text/html": [
       "<div>\n",
       "<style scoped>\n",
       "    .dataframe tbody tr th:only-of-type {\n",
       "        vertical-align: middle;\n",
       "    }\n",
       "\n",
       "    .dataframe tbody tr th {\n",
       "        vertical-align: top;\n",
       "    }\n",
       "\n",
       "    .dataframe thead th {\n",
       "        text-align: right;\n",
       "    }\n",
       "</style>\n",
       "<table border=\"1\" class=\"dataframe\">\n",
       "  <thead>\n",
       "    <tr style=\"text-align: right;\">\n",
       "      <th></th>\n",
       "      <th>count</th>\n",
       "      <th>unique</th>\n",
       "      <th>top</th>\n",
       "      <th>freq</th>\n",
       "      <th>mean</th>\n",
       "      <th>std</th>\n",
       "      <th>min</th>\n",
       "      <th>25%</th>\n",
       "      <th>50%</th>\n",
       "      <th>75%</th>\n",
       "      <th>max</th>\n",
       "    </tr>\n",
       "  </thead>\n",
       "  <tbody>\n",
       "    <tr>\n",
       "      <th>Name</th>\n",
       "      <td>7253</td>\n",
       "      <td>2041</td>\n",
       "      <td>Mahindra XUV500 W8 2WD</td>\n",
       "      <td>55</td>\n",
       "      <td>NaN</td>\n",
       "      <td>NaN</td>\n",
       "      <td>NaN</td>\n",
       "      <td>NaN</td>\n",
       "      <td>NaN</td>\n",
       "      <td>NaN</td>\n",
       "      <td>NaN</td>\n",
       "    </tr>\n",
       "    <tr>\n",
       "      <th>Location</th>\n",
       "      <td>7253</td>\n",
       "      <td>11</td>\n",
       "      <td>Mumbai</td>\n",
       "      <td>949</td>\n",
       "      <td>NaN</td>\n",
       "      <td>NaN</td>\n",
       "      <td>NaN</td>\n",
       "      <td>NaN</td>\n",
       "      <td>NaN</td>\n",
       "      <td>NaN</td>\n",
       "      <td>NaN</td>\n",
       "    </tr>\n",
       "    <tr>\n",
       "      <th>Year</th>\n",
       "      <td>7253.0</td>\n",
       "      <td>NaN</td>\n",
       "      <td>NaN</td>\n",
       "      <td>NaN</td>\n",
       "      <td>2013.365366</td>\n",
       "      <td>3.254421</td>\n",
       "      <td>1996.0</td>\n",
       "      <td>2011.0</td>\n",
       "      <td>2014.0</td>\n",
       "      <td>2016.0</td>\n",
       "      <td>2019.0</td>\n",
       "    </tr>\n",
       "    <tr>\n",
       "      <th>Kilometers_Driven</th>\n",
       "      <td>7253.0</td>\n",
       "      <td>NaN</td>\n",
       "      <td>NaN</td>\n",
       "      <td>NaN</td>\n",
       "      <td>58699.063146</td>\n",
       "      <td>84427.720583</td>\n",
       "      <td>171.0</td>\n",
       "      <td>34000.0</td>\n",
       "      <td>53416.0</td>\n",
       "      <td>73000.0</td>\n",
       "      <td>6500000.0</td>\n",
       "    </tr>\n",
       "    <tr>\n",
       "      <th>Fuel_Type</th>\n",
       "      <td>7253</td>\n",
       "      <td>5</td>\n",
       "      <td>Diesel</td>\n",
       "      <td>3852</td>\n",
       "      <td>NaN</td>\n",
       "      <td>NaN</td>\n",
       "      <td>NaN</td>\n",
       "      <td>NaN</td>\n",
       "      <td>NaN</td>\n",
       "      <td>NaN</td>\n",
       "      <td>NaN</td>\n",
       "    </tr>\n",
       "    <tr>\n",
       "      <th>Transmission</th>\n",
       "      <td>7253</td>\n",
       "      <td>2</td>\n",
       "      <td>Manual</td>\n",
       "      <td>5204</td>\n",
       "      <td>NaN</td>\n",
       "      <td>NaN</td>\n",
       "      <td>NaN</td>\n",
       "      <td>NaN</td>\n",
       "      <td>NaN</td>\n",
       "      <td>NaN</td>\n",
       "      <td>NaN</td>\n",
       "    </tr>\n",
       "    <tr>\n",
       "      <th>Owner_Type</th>\n",
       "      <td>7253</td>\n",
       "      <td>4</td>\n",
       "      <td>First</td>\n",
       "      <td>5952</td>\n",
       "      <td>NaN</td>\n",
       "      <td>NaN</td>\n",
       "      <td>NaN</td>\n",
       "      <td>NaN</td>\n",
       "      <td>NaN</td>\n",
       "      <td>NaN</td>\n",
       "      <td>NaN</td>\n",
       "    </tr>\n",
       "    <tr>\n",
       "      <th>Mileage</th>\n",
       "      <td>7251</td>\n",
       "      <td>450</td>\n",
       "      <td>17.0 kmpl</td>\n",
       "      <td>207</td>\n",
       "      <td>NaN</td>\n",
       "      <td>NaN</td>\n",
       "      <td>NaN</td>\n",
       "      <td>NaN</td>\n",
       "      <td>NaN</td>\n",
       "      <td>NaN</td>\n",
       "      <td>NaN</td>\n",
       "    </tr>\n",
       "    <tr>\n",
       "      <th>Engine</th>\n",
       "      <td>7207</td>\n",
       "      <td>150</td>\n",
       "      <td>1197 CC</td>\n",
       "      <td>732</td>\n",
       "      <td>NaN</td>\n",
       "      <td>NaN</td>\n",
       "      <td>NaN</td>\n",
       "      <td>NaN</td>\n",
       "      <td>NaN</td>\n",
       "      <td>NaN</td>\n",
       "      <td>NaN</td>\n",
       "    </tr>\n",
       "    <tr>\n",
       "      <th>Power</th>\n",
       "      <td>7078</td>\n",
       "      <td>385</td>\n",
       "      <td>74 bhp</td>\n",
       "      <td>280</td>\n",
       "      <td>NaN</td>\n",
       "      <td>NaN</td>\n",
       "      <td>NaN</td>\n",
       "      <td>NaN</td>\n",
       "      <td>NaN</td>\n",
       "      <td>NaN</td>\n",
       "      <td>NaN</td>\n",
       "    </tr>\n",
       "    <tr>\n",
       "      <th>Seats</th>\n",
       "      <td>7200.0</td>\n",
       "      <td>NaN</td>\n",
       "      <td>NaN</td>\n",
       "      <td>NaN</td>\n",
       "      <td>5.279722</td>\n",
       "      <td>0.81166</td>\n",
       "      <td>0.0</td>\n",
       "      <td>5.0</td>\n",
       "      <td>5.0</td>\n",
       "      <td>5.0</td>\n",
       "      <td>10.0</td>\n",
       "    </tr>\n",
       "    <tr>\n",
       "      <th>New_Price</th>\n",
       "      <td>1006</td>\n",
       "      <td>625</td>\n",
       "      <td>4.78 Lakh</td>\n",
       "      <td>6</td>\n",
       "      <td>NaN</td>\n",
       "      <td>NaN</td>\n",
       "      <td>NaN</td>\n",
       "      <td>NaN</td>\n",
       "      <td>NaN</td>\n",
       "      <td>NaN</td>\n",
       "      <td>NaN</td>\n",
       "    </tr>\n",
       "    <tr>\n",
       "      <th>Price</th>\n",
       "      <td>6019.0</td>\n",
       "      <td>NaN</td>\n",
       "      <td>NaN</td>\n",
       "      <td>NaN</td>\n",
       "      <td>9.479468</td>\n",
       "      <td>11.187917</td>\n",
       "      <td>0.44</td>\n",
       "      <td>3.5</td>\n",
       "      <td>5.64</td>\n",
       "      <td>9.95</td>\n",
       "      <td>160.0</td>\n",
       "    </tr>\n",
       "  </tbody>\n",
       "</table>\n",
       "</div>"
      ],
      "text/plain": [
       "                    count unique                     top  freq          mean  \\\n",
       "Name                 7253   2041  Mahindra XUV500 W8 2WD    55           NaN   \n",
       "Location             7253     11                  Mumbai   949           NaN   \n",
       "Year               7253.0    NaN                     NaN   NaN   2013.365366   \n",
       "Kilometers_Driven  7253.0    NaN                     NaN   NaN  58699.063146   \n",
       "Fuel_Type            7253      5                  Diesel  3852           NaN   \n",
       "Transmission         7253      2                  Manual  5204           NaN   \n",
       "Owner_Type           7253      4                   First  5952           NaN   \n",
       "Mileage              7251    450               17.0 kmpl   207           NaN   \n",
       "Engine               7207    150                 1197 CC   732           NaN   \n",
       "Power                7078    385                  74 bhp   280           NaN   \n",
       "Seats              7200.0    NaN                     NaN   NaN      5.279722   \n",
       "New_Price            1006    625               4.78 Lakh     6           NaN   \n",
       "Price              6019.0    NaN                     NaN   NaN      9.479468   \n",
       "\n",
       "                            std     min      25%      50%      75%        max  \n",
       "Name                        NaN     NaN      NaN      NaN      NaN        NaN  \n",
       "Location                    NaN     NaN      NaN      NaN      NaN        NaN  \n",
       "Year                   3.254421  1996.0   2011.0   2014.0   2016.0     2019.0  \n",
       "Kilometers_Driven  84427.720583   171.0  34000.0  53416.0  73000.0  6500000.0  \n",
       "Fuel_Type                   NaN     NaN      NaN      NaN      NaN        NaN  \n",
       "Transmission                NaN     NaN      NaN      NaN      NaN        NaN  \n",
       "Owner_Type                  NaN     NaN      NaN      NaN      NaN        NaN  \n",
       "Mileage                     NaN     NaN      NaN      NaN      NaN        NaN  \n",
       "Engine                      NaN     NaN      NaN      NaN      NaN        NaN  \n",
       "Power                       NaN     NaN      NaN      NaN      NaN        NaN  \n",
       "Seats                   0.81166     0.0      5.0      5.0      5.0       10.0  \n",
       "New_Price                   NaN     NaN      NaN      NaN      NaN        NaN  \n",
       "Price                 11.187917    0.44      3.5     5.64     9.95      160.0  "
      ]
     },
     "execution_count": 1383,
     "metadata": {},
     "output_type": "execute_result"
    },
    {
     "data": {
      "application/javascript": [
       "\n",
       "            setTimeout(function() {\n",
       "                var nbb_cell_id = 1383;\n",
       "                var nbb_unformatted_code = \"df.describe(include=\\\"all\\\").T\";\n",
       "                var nbb_formatted_code = \"df.describe(include=\\\"all\\\").T\";\n",
       "                var nbb_cells = Jupyter.notebook.get_cells();\n",
       "                for (var i = 0; i < nbb_cells.length; ++i) {\n",
       "                    if (nbb_cells[i].input_prompt_number == nbb_cell_id) {\n",
       "                        if (nbb_cells[i].get_text() == nbb_unformatted_code) {\n",
       "                             nbb_cells[i].set_text(nbb_formatted_code);\n",
       "                        }\n",
       "                        break;\n",
       "                    }\n",
       "                }\n",
       "            }, 500);\n",
       "            "
      ],
      "text/plain": [
       "<IPython.core.display.Javascript object>"
      ]
     },
     "metadata": {},
     "output_type": "display_data"
    }
   ],
   "source": [
    "df.describe(include=\"all\").T"
   ]
  },
  {
   "cell_type": "markdown",
   "id": "1554df3c",
   "metadata": {},
   "source": [
    "- The manufacturing dates of the cars range from 1996 to 2019. \n",
    "- There seems to be a wide range of kilometers driven, from about 85k to 6.5M\n",
    "- Most common fuel type seems to be Diesel \n",
    "- Most common transmission type is Manual and its mostly first owners that are selling their cars used. \n",
    "- Some of the numerically based columns don't have statistical analyses due to being classified as a non-numerical data type, will have to fix that (Mileage, Engine, Power, New Price, Price)"
   ]
  },
  {
   "cell_type": "markdown",
   "id": "e2a38da1",
   "metadata": {},
   "source": [
    "# Data Preprocessing"
   ]
  },
  {
   "cell_type": "code",
   "execution_count": 1384,
   "id": "5a133a3a",
   "metadata": {},
   "outputs": [
    {
     "data": {
      "application/javascript": [
       "\n",
       "            setTimeout(function() {\n",
       "                var nbb_cell_id = 1384;\n",
       "                var nbb_unformatted_code = \"# dropping the column containing the target variable\\ndf.dropna(subset=[\\\"Price\\\"], inplace=True)\";\n",
       "                var nbb_formatted_code = \"# dropping the column containing the target variable\\ndf.dropna(subset=[\\\"Price\\\"], inplace=True)\";\n",
       "                var nbb_cells = Jupyter.notebook.get_cells();\n",
       "                for (var i = 0; i < nbb_cells.length; ++i) {\n",
       "                    if (nbb_cells[i].input_prompt_number == nbb_cell_id) {\n",
       "                        if (nbb_cells[i].get_text() == nbb_unformatted_code) {\n",
       "                             nbb_cells[i].set_text(nbb_formatted_code);\n",
       "                        }\n",
       "                        break;\n",
       "                    }\n",
       "                }\n",
       "            }, 500);\n",
       "            "
      ],
      "text/plain": [
       "<IPython.core.display.Javascript object>"
      ]
     },
     "metadata": {},
     "output_type": "display_data"
    }
   ],
   "source": [
    "# dropping the column containing the target variable\n",
    "df.dropna(subset=[\"Price\"], inplace=True)"
   ]
  },
  {
   "cell_type": "code",
   "execution_count": 1385,
   "id": "317833ef",
   "metadata": {},
   "outputs": [
    {
     "data": {
      "text/plain": [
       "Name                    0\n",
       "Location                0\n",
       "Year                    0\n",
       "Kilometers_Driven       0\n",
       "Fuel_Type               0\n",
       "Transmission            0\n",
       "Owner_Type              0\n",
       "Mileage                 2\n",
       "Engine                 36\n",
       "Power                 143\n",
       "Seats                  42\n",
       "New_Price            5195\n",
       "Price                   0\n",
       "dtype: int64"
      ]
     },
     "execution_count": 1385,
     "metadata": {},
     "output_type": "execute_result"
    },
    {
     "data": {
      "application/javascript": [
       "\n",
       "            setTimeout(function() {\n",
       "                var nbb_cell_id = 1385;\n",
       "                var nbb_unformatted_code = \"# checking for missing values in the rest of the data\\ndf.isnull().sum()\";\n",
       "                var nbb_formatted_code = \"# checking for missing values in the rest of the data\\ndf.isnull().sum()\";\n",
       "                var nbb_cells = Jupyter.notebook.get_cells();\n",
       "                for (var i = 0; i < nbb_cells.length; ++i) {\n",
       "                    if (nbb_cells[i].input_prompt_number == nbb_cell_id) {\n",
       "                        if (nbb_cells[i].get_text() == nbb_unformatted_code) {\n",
       "                             nbb_cells[i].set_text(nbb_formatted_code);\n",
       "                        }\n",
       "                        break;\n",
       "                    }\n",
       "                }\n",
       "            }, 500);\n",
       "            "
      ],
      "text/plain": [
       "<IPython.core.display.Javascript object>"
      ]
     },
     "metadata": {},
     "output_type": "display_data"
    }
   ],
   "source": [
    "# checking for missing values in the rest of the data\n",
    "df.isnull().sum()"
   ]
  },
  {
   "cell_type": "code",
   "execution_count": 1386,
   "id": "23e79b59",
   "metadata": {},
   "outputs": [
    {
     "data": {
      "text/html": [
       "<div>\n",
       "<style scoped>\n",
       "    .dataframe tbody tr th:only-of-type {\n",
       "        vertical-align: middle;\n",
       "    }\n",
       "\n",
       "    .dataframe tbody tr th {\n",
       "        vertical-align: top;\n",
       "    }\n",
       "\n",
       "    .dataframe thead th {\n",
       "        text-align: right;\n",
       "    }\n",
       "</style>\n",
       "<table border=\"1\" class=\"dataframe\">\n",
       "  <thead>\n",
       "    <tr style=\"text-align: right;\">\n",
       "      <th></th>\n",
       "      <th>Name</th>\n",
       "      <th>Location</th>\n",
       "      <th>Year</th>\n",
       "      <th>Kilometers_Driven</th>\n",
       "      <th>Fuel_Type</th>\n",
       "      <th>Transmission</th>\n",
       "      <th>Owner_Type</th>\n",
       "      <th>Mileage</th>\n",
       "      <th>Engine</th>\n",
       "      <th>Power</th>\n",
       "      <th>Seats</th>\n",
       "      <th>New_Price</th>\n",
       "      <th>Price</th>\n",
       "    </tr>\n",
       "  </thead>\n",
       "  <tbody>\n",
       "    <tr>\n",
       "      <th>4446</th>\n",
       "      <td>Mahindra E Verito D4</td>\n",
       "      <td>Chennai</td>\n",
       "      <td>2016</td>\n",
       "      <td>50000</td>\n",
       "      <td>Electric</td>\n",
       "      <td>Automatic</td>\n",
       "      <td>First</td>\n",
       "      <td>NaN</td>\n",
       "      <td>72 CC</td>\n",
       "      <td>41 bhp</td>\n",
       "      <td>5.0</td>\n",
       "      <td>13.58 Lakh</td>\n",
       "      <td>13.00</td>\n",
       "    </tr>\n",
       "    <tr>\n",
       "      <th>4904</th>\n",
       "      <td>Toyota Prius 2009-2016 Z4</td>\n",
       "      <td>Mumbai</td>\n",
       "      <td>2011</td>\n",
       "      <td>44000</td>\n",
       "      <td>Electric</td>\n",
       "      <td>Automatic</td>\n",
       "      <td>First</td>\n",
       "      <td>NaN</td>\n",
       "      <td>1798 CC</td>\n",
       "      <td>73 bhp</td>\n",
       "      <td>5.0</td>\n",
       "      <td>NaN</td>\n",
       "      <td>12.75</td>\n",
       "    </tr>\n",
       "  </tbody>\n",
       "</table>\n",
       "</div>"
      ],
      "text/plain": [
       "                           Name Location  Year  Kilometers_Driven Fuel_Type  \\\n",
       "4446       Mahindra E Verito D4  Chennai  2016              50000  Electric   \n",
       "4904  Toyota Prius 2009-2016 Z4   Mumbai  2011              44000  Electric   \n",
       "\n",
       "     Transmission Owner_Type Mileage   Engine   Power  Seats   New_Price  \\\n",
       "4446    Automatic      First     NaN    72 CC  41 bhp    5.0  13.58 Lakh   \n",
       "4904    Automatic      First     NaN  1798 CC  73 bhp    5.0         NaN   \n",
       "\n",
       "      Price  \n",
       "4446  13.00  \n",
       "4904  12.75  "
      ]
     },
     "execution_count": 1386,
     "metadata": {},
     "output_type": "execute_result"
    },
    {
     "data": {
      "application/javascript": [
       "\n",
       "            setTimeout(function() {\n",
       "                var nbb_cell_id = 1386;\n",
       "                var nbb_unformatted_code = \"# starting with entries with no mileage\\ndf[df.Mileage.isnull()]\";\n",
       "                var nbb_formatted_code = \"# starting with entries with no mileage\\ndf[df.Mileage.isnull()]\";\n",
       "                var nbb_cells = Jupyter.notebook.get_cells();\n",
       "                for (var i = 0; i < nbb_cells.length; ++i) {\n",
       "                    if (nbb_cells[i].input_prompt_number == nbb_cell_id) {\n",
       "                        if (nbb_cells[i].get_text() == nbb_unformatted_code) {\n",
       "                             nbb_cells[i].set_text(nbb_formatted_code);\n",
       "                        }\n",
       "                        break;\n",
       "                    }\n",
       "                }\n",
       "            }, 500);\n",
       "            "
      ],
      "text/plain": [
       "<IPython.core.display.Javascript object>"
      ]
     },
     "metadata": {},
     "output_type": "display_data"
    }
   ],
   "source": [
    "# starting with entries with no mileage\n",
    "df[df.Mileage.isnull()]"
   ]
  },
  {
   "cell_type": "code",
   "execution_count": 1387,
   "id": "374b17dd",
   "metadata": {},
   "outputs": [
    {
     "data": {
      "application/javascript": [
       "\n",
       "            setTimeout(function() {\n",
       "                var nbb_cell_id = 1387;\n",
       "                var nbb_unformatted_code = \"# mileage has strng so this will convert it to a float so it can be properly, statistically analyzed.\\ndef mileage_to_num(Mileage):\\n    if isinstance(Mileage, str):\\n        return float(Mileage.split(\\\" \\\")[0])\\n    else:\\n        return np.nan\\n\\n\\nmileage_col = [\\\"Mileage\\\"]\\n\\nfor colname in mileage_col:\\n    df[colname] = df[colname].apply(mileage_to_num)\";\n",
       "                var nbb_formatted_code = \"# mileage has strng so this will convert it to a float so it can be properly, statistically analyzed.\\ndef mileage_to_num(Mileage):\\n    if isinstance(Mileage, str):\\n        return float(Mileage.split(\\\" \\\")[0])\\n    else:\\n        return np.nan\\n\\n\\nmileage_col = [\\\"Mileage\\\"]\\n\\nfor colname in mileage_col:\\n    df[colname] = df[colname].apply(mileage_to_num)\";\n",
       "                var nbb_cells = Jupyter.notebook.get_cells();\n",
       "                for (var i = 0; i < nbb_cells.length; ++i) {\n",
       "                    if (nbb_cells[i].input_prompt_number == nbb_cell_id) {\n",
       "                        if (nbb_cells[i].get_text() == nbb_unformatted_code) {\n",
       "                             nbb_cells[i].set_text(nbb_formatted_code);\n",
       "                        }\n",
       "                        break;\n",
       "                    }\n",
       "                }\n",
       "            }, 500);\n",
       "            "
      ],
      "text/plain": [
       "<IPython.core.display.Javascript object>"
      ]
     },
     "metadata": {},
     "output_type": "display_data"
    }
   ],
   "source": [
    "# mileage has strng so this will convert it to a float so it can be properly, statistically analyzed.\n",
    "def mileage_to_num(Mileage):\n",
    "    if isinstance(Mileage, str):\n",
    "        return float(Mileage.split(\" \")[0])\n",
    "    else:\n",
    "        return np.nan\n",
    "\n",
    "\n",
    "mileage_col = [\"Mileage\"]\n",
    "\n",
    "for colname in mileage_col:\n",
    "    df[colname] = df[colname].apply(mileage_to_num)"
   ]
  },
  {
   "cell_type": "code",
   "execution_count": 1388,
   "id": "a992de0b",
   "metadata": {},
   "outputs": [
    {
     "data": {
      "application/javascript": [
       "\n",
       "            setTimeout(function() {\n",
       "                var nbb_cell_id = 1388;\n",
       "                var nbb_unformatted_code = \"# dropping these because milage cannot be calculated for electric cars\\ndf.dropna(subset=[\\\"Mileage\\\"], inplace=True)\";\n",
       "                var nbb_formatted_code = \"# dropping these because milage cannot be calculated for electric cars\\ndf.dropna(subset=[\\\"Mileage\\\"], inplace=True)\";\n",
       "                var nbb_cells = Jupyter.notebook.get_cells();\n",
       "                for (var i = 0; i < nbb_cells.length; ++i) {\n",
       "                    if (nbb_cells[i].input_prompt_number == nbb_cell_id) {\n",
       "                        if (nbb_cells[i].get_text() == nbb_unformatted_code) {\n",
       "                             nbb_cells[i].set_text(nbb_formatted_code);\n",
       "                        }\n",
       "                        break;\n",
       "                    }\n",
       "                }\n",
       "            }, 500);\n",
       "            "
      ],
      "text/plain": [
       "<IPython.core.display.Javascript object>"
      ]
     },
     "metadata": {},
     "output_type": "display_data"
    }
   ],
   "source": [
    "# dropping these because milage cannot be calculated for electric cars\n",
    "df.dropna(subset=[\"Mileage\"], inplace=True)"
   ]
  },
  {
   "cell_type": "code",
   "execution_count": 1389,
   "id": "b3dbcc39",
   "metadata": {},
   "outputs": [
    {
     "data": {
      "application/javascript": [
       "\n",
       "            setTimeout(function() {\n",
       "                var nbb_cell_id = 1389;\n",
       "                var nbb_unformatted_code = \"# resetting dataframe index\\ndf.reset_index(inplace=True, drop=True)\";\n",
       "                var nbb_formatted_code = \"# resetting dataframe index\\ndf.reset_index(inplace=True, drop=True)\";\n",
       "                var nbb_cells = Jupyter.notebook.get_cells();\n",
       "                for (var i = 0; i < nbb_cells.length; ++i) {\n",
       "                    if (nbb_cells[i].input_prompt_number == nbb_cell_id) {\n",
       "                        if (nbb_cells[i].get_text() == nbb_unformatted_code) {\n",
       "                             nbb_cells[i].set_text(nbb_formatted_code);\n",
       "                        }\n",
       "                        break;\n",
       "                    }\n",
       "                }\n",
       "            }, 500);\n",
       "            "
      ],
      "text/plain": [
       "<IPython.core.display.Javascript object>"
      ]
     },
     "metadata": {},
     "output_type": "display_data"
    }
   ],
   "source": [
    "# resetting dataframe index\n",
    "df.reset_index(inplace=True, drop=True)"
   ]
  },
  {
   "cell_type": "code",
   "execution_count": 1390,
   "id": "401b9e0d",
   "metadata": {},
   "outputs": [
    {
     "data": {
      "text/plain": [
       "Name                    0\n",
       "Location                0\n",
       "Year                    0\n",
       "Kilometers_Driven       0\n",
       "Fuel_Type               0\n",
       "Transmission            0\n",
       "Owner_Type              0\n",
       "Mileage                 0\n",
       "Engine                 36\n",
       "Power                 143\n",
       "Seats                  42\n",
       "New_Price            5194\n",
       "Price                   0\n",
       "dtype: int64"
      ]
     },
     "execution_count": 1390,
     "metadata": {},
     "output_type": "execute_result"
    },
    {
     "data": {
      "application/javascript": [
       "\n",
       "            setTimeout(function() {\n",
       "                var nbb_cell_id = 1390;\n",
       "                var nbb_unformatted_code = \"# checking for missing values in the rest of the data\\ndf.isnull().sum()\";\n",
       "                var nbb_formatted_code = \"# checking for missing values in the rest of the data\\ndf.isnull().sum()\";\n",
       "                var nbb_cells = Jupyter.notebook.get_cells();\n",
       "                for (var i = 0; i < nbb_cells.length; ++i) {\n",
       "                    if (nbb_cells[i].input_prompt_number == nbb_cell_id) {\n",
       "                        if (nbb_cells[i].get_text() == nbb_unformatted_code) {\n",
       "                             nbb_cells[i].set_text(nbb_formatted_code);\n",
       "                        }\n",
       "                        break;\n",
       "                    }\n",
       "                }\n",
       "            }, 500);\n",
       "            "
      ],
      "text/plain": [
       "<IPython.core.display.Javascript object>"
      ]
     },
     "metadata": {},
     "output_type": "display_data"
    }
   ],
   "source": [
    "# checking for missing values in the rest of the data\n",
    "df.isnull().sum()"
   ]
  },
  {
   "cell_type": "markdown",
   "id": "dd62ed04",
   "metadata": {},
   "source": [
    "### Entries with no Engine Values"
   ]
  },
  {
   "cell_type": "code",
   "execution_count": 1391,
   "id": "1e3cbcc8",
   "metadata": {},
   "outputs": [
    {
     "data": {
      "text/html": [
       "<div>\n",
       "<style scoped>\n",
       "    .dataframe tbody tr th:only-of-type {\n",
       "        vertical-align: middle;\n",
       "    }\n",
       "\n",
       "    .dataframe tbody tr th {\n",
       "        vertical-align: top;\n",
       "    }\n",
       "\n",
       "    .dataframe thead th {\n",
       "        text-align: right;\n",
       "    }\n",
       "</style>\n",
       "<table border=\"1\" class=\"dataframe\">\n",
       "  <thead>\n",
       "    <tr style=\"text-align: right;\">\n",
       "      <th></th>\n",
       "      <th>Name</th>\n",
       "      <th>Location</th>\n",
       "      <th>Year</th>\n",
       "      <th>Kilometers_Driven</th>\n",
       "      <th>Fuel_Type</th>\n",
       "      <th>Transmission</th>\n",
       "      <th>Owner_Type</th>\n",
       "      <th>Mileage</th>\n",
       "      <th>Engine</th>\n",
       "      <th>Power</th>\n",
       "      <th>Seats</th>\n",
       "      <th>New_Price</th>\n",
       "      <th>Price</th>\n",
       "    </tr>\n",
       "  </thead>\n",
       "  <tbody>\n",
       "    <tr>\n",
       "      <th>194</th>\n",
       "      <td>Honda City 1.5 GXI</td>\n",
       "      <td>Ahmedabad</td>\n",
       "      <td>2007</td>\n",
       "      <td>60006</td>\n",
       "      <td>Petrol</td>\n",
       "      <td>Manual</td>\n",
       "      <td>First</td>\n",
       "      <td>0.00</td>\n",
       "      <td>NaN</td>\n",
       "      <td>NaN</td>\n",
       "      <td>NaN</td>\n",
       "      <td>NaN</td>\n",
       "      <td>2.95</td>\n",
       "    </tr>\n",
       "    <tr>\n",
       "      <th>208</th>\n",
       "      <td>Maruti Swift 1.3 VXi</td>\n",
       "      <td>Kolkata</td>\n",
       "      <td>2010</td>\n",
       "      <td>42001</td>\n",
       "      <td>Petrol</td>\n",
       "      <td>Manual</td>\n",
       "      <td>First</td>\n",
       "      <td>16.10</td>\n",
       "      <td>NaN</td>\n",
       "      <td>NaN</td>\n",
       "      <td>NaN</td>\n",
       "      <td>NaN</td>\n",
       "      <td>2.11</td>\n",
       "    </tr>\n",
       "    <tr>\n",
       "      <th>733</th>\n",
       "      <td>Maruti Swift 1.3 VXi</td>\n",
       "      <td>Chennai</td>\n",
       "      <td>2006</td>\n",
       "      <td>97800</td>\n",
       "      <td>Petrol</td>\n",
       "      <td>Manual</td>\n",
       "      <td>Third</td>\n",
       "      <td>16.10</td>\n",
       "      <td>NaN</td>\n",
       "      <td>NaN</td>\n",
       "      <td>NaN</td>\n",
       "      <td>NaN</td>\n",
       "      <td>1.75</td>\n",
       "    </tr>\n",
       "    <tr>\n",
       "      <th>749</th>\n",
       "      <td>Land Rover Range Rover 3.0 D</td>\n",
       "      <td>Mumbai</td>\n",
       "      <td>2008</td>\n",
       "      <td>55001</td>\n",
       "      <td>Diesel</td>\n",
       "      <td>Automatic</td>\n",
       "      <td>Second</td>\n",
       "      <td>0.00</td>\n",
       "      <td>NaN</td>\n",
       "      <td>NaN</td>\n",
       "      <td>NaN</td>\n",
       "      <td>NaN</td>\n",
       "      <td>26.50</td>\n",
       "    </tr>\n",
       "    <tr>\n",
       "      <th>1294</th>\n",
       "      <td>Honda City 1.3 DX</td>\n",
       "      <td>Delhi</td>\n",
       "      <td>2009</td>\n",
       "      <td>55005</td>\n",
       "      <td>Petrol</td>\n",
       "      <td>Manual</td>\n",
       "      <td>First</td>\n",
       "      <td>12.80</td>\n",
       "      <td>NaN</td>\n",
       "      <td>NaN</td>\n",
       "      <td>NaN</td>\n",
       "      <td>NaN</td>\n",
       "      <td>3.20</td>\n",
       "    </tr>\n",
       "    <tr>\n",
       "      <th>1327</th>\n",
       "      <td>Maruti Swift 1.3 ZXI</td>\n",
       "      <td>Hyderabad</td>\n",
       "      <td>2015</td>\n",
       "      <td>50295</td>\n",
       "      <td>Petrol</td>\n",
       "      <td>Manual</td>\n",
       "      <td>First</td>\n",
       "      <td>16.10</td>\n",
       "      <td>NaN</td>\n",
       "      <td>NaN</td>\n",
       "      <td>NaN</td>\n",
       "      <td>NaN</td>\n",
       "      <td>5.80</td>\n",
       "    </tr>\n",
       "    <tr>\n",
       "      <th>1385</th>\n",
       "      <td>Honda City 1.5 GXI</td>\n",
       "      <td>Pune</td>\n",
       "      <td>2004</td>\n",
       "      <td>115000</td>\n",
       "      <td>Petrol</td>\n",
       "      <td>Manual</td>\n",
       "      <td>Second</td>\n",
       "      <td>0.00</td>\n",
       "      <td>NaN</td>\n",
       "      <td>NaN</td>\n",
       "      <td>NaN</td>\n",
       "      <td>NaN</td>\n",
       "      <td>1.50</td>\n",
       "    </tr>\n",
       "    <tr>\n",
       "      <th>1460</th>\n",
       "      <td>Land Rover Range Rover Sport 2005 2012 Sport</td>\n",
       "      <td>Coimbatore</td>\n",
       "      <td>2008</td>\n",
       "      <td>69078</td>\n",
       "      <td>Petrol</td>\n",
       "      <td>Manual</td>\n",
       "      <td>First</td>\n",
       "      <td>0.00</td>\n",
       "      <td>NaN</td>\n",
       "      <td>NaN</td>\n",
       "      <td>NaN</td>\n",
       "      <td>NaN</td>\n",
       "      <td>40.88</td>\n",
       "    </tr>\n",
       "    <tr>\n",
       "      <th>2074</th>\n",
       "      <td>Maruti Swift 1.3 LXI</td>\n",
       "      <td>Pune</td>\n",
       "      <td>2011</td>\n",
       "      <td>24255</td>\n",
       "      <td>Petrol</td>\n",
       "      <td>Manual</td>\n",
       "      <td>First</td>\n",
       "      <td>16.10</td>\n",
       "      <td>NaN</td>\n",
       "      <td>NaN</td>\n",
       "      <td>NaN</td>\n",
       "      <td>NaN</td>\n",
       "      <td>3.15</td>\n",
       "    </tr>\n",
       "    <tr>\n",
       "      <th>2096</th>\n",
       "      <td>Hyundai Santro LP zipPlus</td>\n",
       "      <td>Coimbatore</td>\n",
       "      <td>2004</td>\n",
       "      <td>52146</td>\n",
       "      <td>Petrol</td>\n",
       "      <td>Manual</td>\n",
       "      <td>First</td>\n",
       "      <td>0.00</td>\n",
       "      <td>NaN</td>\n",
       "      <td>NaN</td>\n",
       "      <td>NaN</td>\n",
       "      <td>NaN</td>\n",
       "      <td>1.93</td>\n",
       "    </tr>\n",
       "    <tr>\n",
       "      <th>2264</th>\n",
       "      <td>Toyota Etios Liva V</td>\n",
       "      <td>Pune</td>\n",
       "      <td>2012</td>\n",
       "      <td>24500</td>\n",
       "      <td>Petrol</td>\n",
       "      <td>Manual</td>\n",
       "      <td>Second</td>\n",
       "      <td>18.30</td>\n",
       "      <td>NaN</td>\n",
       "      <td>NaN</td>\n",
       "      <td>NaN</td>\n",
       "      <td>NaN</td>\n",
       "      <td>2.95</td>\n",
       "    </tr>\n",
       "    <tr>\n",
       "      <th>2325</th>\n",
       "      <td>Maruti Swift 1.3 VXI ABS</td>\n",
       "      <td>Pune</td>\n",
       "      <td>2015</td>\n",
       "      <td>67000</td>\n",
       "      <td>Petrol</td>\n",
       "      <td>Manual</td>\n",
       "      <td>First</td>\n",
       "      <td>16.10</td>\n",
       "      <td>NaN</td>\n",
       "      <td>NaN</td>\n",
       "      <td>NaN</td>\n",
       "      <td>NaN</td>\n",
       "      <td>4.70</td>\n",
       "    </tr>\n",
       "    <tr>\n",
       "      <th>2335</th>\n",
       "      <td>Maruti Swift 1.3 VXi</td>\n",
       "      <td>Mumbai</td>\n",
       "      <td>2007</td>\n",
       "      <td>55000</td>\n",
       "      <td>Petrol</td>\n",
       "      <td>Manual</td>\n",
       "      <td>Second</td>\n",
       "      <td>16.10</td>\n",
       "      <td>NaN</td>\n",
       "      <td>NaN</td>\n",
       "      <td>NaN</td>\n",
       "      <td>NaN</td>\n",
       "      <td>1.75</td>\n",
       "    </tr>\n",
       "    <tr>\n",
       "      <th>2530</th>\n",
       "      <td>BMW 5 Series 520d Sedan</td>\n",
       "      <td>Kochi</td>\n",
       "      <td>2014</td>\n",
       "      <td>64158</td>\n",
       "      <td>Diesel</td>\n",
       "      <td>Automatic</td>\n",
       "      <td>First</td>\n",
       "      <td>18.48</td>\n",
       "      <td>NaN</td>\n",
       "      <td>NaN</td>\n",
       "      <td>NaN</td>\n",
       "      <td>NaN</td>\n",
       "      <td>17.89</td>\n",
       "    </tr>\n",
       "    <tr>\n",
       "      <th>2542</th>\n",
       "      <td>Hyundai Santro GLS II - Euro II</td>\n",
       "      <td>Bangalore</td>\n",
       "      <td>2011</td>\n",
       "      <td>65000</td>\n",
       "      <td>Petrol</td>\n",
       "      <td>Manual</td>\n",
       "      <td>Second</td>\n",
       "      <td>0.00</td>\n",
       "      <td>NaN</td>\n",
       "      <td>NaN</td>\n",
       "      <td>NaN</td>\n",
       "      <td>NaN</td>\n",
       "      <td>3.15</td>\n",
       "    </tr>\n",
       "    <tr>\n",
       "      <th>2623</th>\n",
       "      <td>BMW 5 Series 520d Sedan</td>\n",
       "      <td>Pune</td>\n",
       "      <td>2012</td>\n",
       "      <td>95000</td>\n",
       "      <td>Diesel</td>\n",
       "      <td>Automatic</td>\n",
       "      <td>Second</td>\n",
       "      <td>18.48</td>\n",
       "      <td>NaN</td>\n",
       "      <td>NaN</td>\n",
       "      <td>NaN</td>\n",
       "      <td>NaN</td>\n",
       "      <td>18.00</td>\n",
       "    </tr>\n",
       "    <tr>\n",
       "      <th>2668</th>\n",
       "      <td>Maruti Swift 1.3 VXi</td>\n",
       "      <td>Kolkata</td>\n",
       "      <td>2014</td>\n",
       "      <td>32986</td>\n",
       "      <td>Petrol</td>\n",
       "      <td>Manual</td>\n",
       "      <td>First</td>\n",
       "      <td>16.10</td>\n",
       "      <td>NaN</td>\n",
       "      <td>NaN</td>\n",
       "      <td>NaN</td>\n",
       "      <td>NaN</td>\n",
       "      <td>4.24</td>\n",
       "    </tr>\n",
       "    <tr>\n",
       "      <th>2737</th>\n",
       "      <td>Maruti Wagon R Vx</td>\n",
       "      <td>Jaipur</td>\n",
       "      <td>2001</td>\n",
       "      <td>200000</td>\n",
       "      <td>Petrol</td>\n",
       "      <td>Manual</td>\n",
       "      <td>First</td>\n",
       "      <td>12.00</td>\n",
       "      <td>NaN</td>\n",
       "      <td>NaN</td>\n",
       "      <td>NaN</td>\n",
       "      <td>NaN</td>\n",
       "      <td>0.70</td>\n",
       "    </tr>\n",
       "    <tr>\n",
       "      <th>2780</th>\n",
       "      <td>Hyundai Santro GLS II - Euro II</td>\n",
       "      <td>Pune</td>\n",
       "      <td>2009</td>\n",
       "      <td>100000</td>\n",
       "      <td>Petrol</td>\n",
       "      <td>Manual</td>\n",
       "      <td>First</td>\n",
       "      <td>0.00</td>\n",
       "      <td>NaN</td>\n",
       "      <td>NaN</td>\n",
       "      <td>NaN</td>\n",
       "      <td>NaN</td>\n",
       "      <td>1.60</td>\n",
       "    </tr>\n",
       "    <tr>\n",
       "      <th>2842</th>\n",
       "      <td>Hyundai Santro GLS II - Euro II</td>\n",
       "      <td>Bangalore</td>\n",
       "      <td>2012</td>\n",
       "      <td>43000</td>\n",
       "      <td>Petrol</td>\n",
       "      <td>Manual</td>\n",
       "      <td>First</td>\n",
       "      <td>0.00</td>\n",
       "      <td>NaN</td>\n",
       "      <td>NaN</td>\n",
       "      <td>NaN</td>\n",
       "      <td>NaN</td>\n",
       "      <td>3.25</td>\n",
       "    </tr>\n",
       "    <tr>\n",
       "      <th>3272</th>\n",
       "      <td>BMW 5 Series 520d Sedan</td>\n",
       "      <td>Mumbai</td>\n",
       "      <td>2008</td>\n",
       "      <td>81000</td>\n",
       "      <td>Diesel</td>\n",
       "      <td>Automatic</td>\n",
       "      <td>Second</td>\n",
       "      <td>18.48</td>\n",
       "      <td>NaN</td>\n",
       "      <td>NaN</td>\n",
       "      <td>NaN</td>\n",
       "      <td>NaN</td>\n",
       "      <td>10.50</td>\n",
       "    </tr>\n",
       "    <tr>\n",
       "      <th>3404</th>\n",
       "      <td>Maruti Swift 1.3 VXi</td>\n",
       "      <td>Jaipur</td>\n",
       "      <td>2006</td>\n",
       "      <td>125000</td>\n",
       "      <td>Petrol</td>\n",
       "      <td>Manual</td>\n",
       "      <td>Fourth &amp; Above</td>\n",
       "      <td>16.10</td>\n",
       "      <td>NaN</td>\n",
       "      <td>NaN</td>\n",
       "      <td>NaN</td>\n",
       "      <td>NaN</td>\n",
       "      <td>2.35</td>\n",
       "    </tr>\n",
       "    <tr>\n",
       "      <th>3520</th>\n",
       "      <td>BMW 5 Series 520d Sedan</td>\n",
       "      <td>Delhi</td>\n",
       "      <td>2012</td>\n",
       "      <td>90000</td>\n",
       "      <td>Diesel</td>\n",
       "      <td>Automatic</td>\n",
       "      <td>First</td>\n",
       "      <td>18.48</td>\n",
       "      <td>NaN</td>\n",
       "      <td>NaN</td>\n",
       "      <td>NaN</td>\n",
       "      <td>NaN</td>\n",
       "      <td>14.50</td>\n",
       "    </tr>\n",
       "    <tr>\n",
       "      <th>3522</th>\n",
       "      <td>Hyundai Santro GLS II - Euro II</td>\n",
       "      <td>Kochi</td>\n",
       "      <td>2012</td>\n",
       "      <td>66400</td>\n",
       "      <td>Petrol</td>\n",
       "      <td>Manual</td>\n",
       "      <td>First</td>\n",
       "      <td>0.00</td>\n",
       "      <td>NaN</td>\n",
       "      <td>NaN</td>\n",
       "      <td>NaN</td>\n",
       "      <td>NaN</td>\n",
       "      <td>2.66</td>\n",
       "    </tr>\n",
       "    <tr>\n",
       "      <th>3810</th>\n",
       "      <td>Honda CR-V AT With Sun Roof</td>\n",
       "      <td>Kolkata</td>\n",
       "      <td>2013</td>\n",
       "      <td>27000</td>\n",
       "      <td>Petrol</td>\n",
       "      <td>Automatic</td>\n",
       "      <td>First</td>\n",
       "      <td>14.00</td>\n",
       "      <td>NaN</td>\n",
       "      <td>NaN</td>\n",
       "      <td>NaN</td>\n",
       "      <td>NaN</td>\n",
       "      <td>11.99</td>\n",
       "    </tr>\n",
       "    <tr>\n",
       "      <th>4011</th>\n",
       "      <td>Fiat Punto 1.3 Emotion</td>\n",
       "      <td>Pune</td>\n",
       "      <td>2011</td>\n",
       "      <td>45271</td>\n",
       "      <td>Diesel</td>\n",
       "      <td>Manual</td>\n",
       "      <td>First</td>\n",
       "      <td>20.30</td>\n",
       "      <td>NaN</td>\n",
       "      <td>NaN</td>\n",
       "      <td>NaN</td>\n",
       "      <td>NaN</td>\n",
       "      <td>2.60</td>\n",
       "    </tr>\n",
       "    <tr>\n",
       "      <th>4152</th>\n",
       "      <td>Land Rover Range Rover 3.0 D</td>\n",
       "      <td>Mumbai</td>\n",
       "      <td>2003</td>\n",
       "      <td>75000</td>\n",
       "      <td>Diesel</td>\n",
       "      <td>Automatic</td>\n",
       "      <td>Second</td>\n",
       "      <td>0.00</td>\n",
       "      <td>NaN</td>\n",
       "      <td>NaN</td>\n",
       "      <td>NaN</td>\n",
       "      <td>NaN</td>\n",
       "      <td>16.11</td>\n",
       "    </tr>\n",
       "    <tr>\n",
       "      <th>4229</th>\n",
       "      <td>Hyundai Santro Xing XG</td>\n",
       "      <td>Bangalore</td>\n",
       "      <td>2005</td>\n",
       "      <td>79000</td>\n",
       "      <td>Petrol</td>\n",
       "      <td>Manual</td>\n",
       "      <td>Second</td>\n",
       "      <td>17.00</td>\n",
       "      <td>NaN</td>\n",
       "      <td>NaN</td>\n",
       "      <td>NaN</td>\n",
       "      <td>NaN</td>\n",
       "      <td>1.65</td>\n",
       "    </tr>\n",
       "    <tr>\n",
       "      <th>4576</th>\n",
       "      <td>BMW 5 Series 520d Sedan</td>\n",
       "      <td>Delhi</td>\n",
       "      <td>2012</td>\n",
       "      <td>72000</td>\n",
       "      <td>Diesel</td>\n",
       "      <td>Automatic</td>\n",
       "      <td>Third</td>\n",
       "      <td>18.48</td>\n",
       "      <td>NaN</td>\n",
       "      <td>NaN</td>\n",
       "      <td>NaN</td>\n",
       "      <td>NaN</td>\n",
       "      <td>13.85</td>\n",
       "    </tr>\n",
       "    <tr>\n",
       "      <th>4603</th>\n",
       "      <td>Honda Jazz Select Edition</td>\n",
       "      <td>Pune</td>\n",
       "      <td>2011</td>\n",
       "      <td>98000</td>\n",
       "      <td>Petrol</td>\n",
       "      <td>Manual</td>\n",
       "      <td>First</td>\n",
       "      <td>16.70</td>\n",
       "      <td>NaN</td>\n",
       "      <td>NaN</td>\n",
       "      <td>NaN</td>\n",
       "      <td>NaN</td>\n",
       "      <td>3.15</td>\n",
       "    </tr>\n",
       "    <tr>\n",
       "      <th>4696</th>\n",
       "      <td>Fiat Punto 1.2 Dynamic</td>\n",
       "      <td>Kochi</td>\n",
       "      <td>2017</td>\n",
       "      <td>17941</td>\n",
       "      <td>Petrol</td>\n",
       "      <td>Manual</td>\n",
       "      <td>First</td>\n",
       "      <td>15.70</td>\n",
       "      <td>NaN</td>\n",
       "      <td>NaN</td>\n",
       "      <td>NaN</td>\n",
       "      <td>NaN</td>\n",
       "      <td>3.93</td>\n",
       "    </tr>\n",
       "    <tr>\n",
       "      <th>4711</th>\n",
       "      <td>Hyundai Santro Xing XG</td>\n",
       "      <td>Pune</td>\n",
       "      <td>2003</td>\n",
       "      <td>80000</td>\n",
       "      <td>Petrol</td>\n",
       "      <td>Manual</td>\n",
       "      <td>Second</td>\n",
       "      <td>17.00</td>\n",
       "      <td>NaN</td>\n",
       "      <td>NaN</td>\n",
       "      <td>NaN</td>\n",
       "      <td>NaN</td>\n",
       "      <td>0.90</td>\n",
       "    </tr>\n",
       "    <tr>\n",
       "      <th>4950</th>\n",
       "      <td>Fiat Punto 1.4 Emotion</td>\n",
       "      <td>Kolkata</td>\n",
       "      <td>2010</td>\n",
       "      <td>47000</td>\n",
       "      <td>Petrol</td>\n",
       "      <td>Manual</td>\n",
       "      <td>First</td>\n",
       "      <td>14.60</td>\n",
       "      <td>NaN</td>\n",
       "      <td>NaN</td>\n",
       "      <td>NaN</td>\n",
       "      <td>NaN</td>\n",
       "      <td>1.49</td>\n",
       "    </tr>\n",
       "    <tr>\n",
       "      <th>5013</th>\n",
       "      <td>Maruti Swift 1.3 VXi</td>\n",
       "      <td>Delhi</td>\n",
       "      <td>2006</td>\n",
       "      <td>63000</td>\n",
       "      <td>Petrol</td>\n",
       "      <td>Manual</td>\n",
       "      <td>First</td>\n",
       "      <td>16.10</td>\n",
       "      <td>NaN</td>\n",
       "      <td>NaN</td>\n",
       "      <td>NaN</td>\n",
       "      <td>NaN</td>\n",
       "      <td>1.60</td>\n",
       "    </tr>\n",
       "    <tr>\n",
       "      <th>5183</th>\n",
       "      <td>Maruti Swift 1.3 LXI</td>\n",
       "      <td>Delhi</td>\n",
       "      <td>2012</td>\n",
       "      <td>52000</td>\n",
       "      <td>Petrol</td>\n",
       "      <td>Manual</td>\n",
       "      <td>First</td>\n",
       "      <td>16.10</td>\n",
       "      <td>NaN</td>\n",
       "      <td>NaN</td>\n",
       "      <td>NaN</td>\n",
       "      <td>NaN</td>\n",
       "      <td>3.65</td>\n",
       "    </tr>\n",
       "    <tr>\n",
       "      <th>5268</th>\n",
       "      <td>Honda City 1.5 GXI</td>\n",
       "      <td>Bangalore</td>\n",
       "      <td>2002</td>\n",
       "      <td>53000</td>\n",
       "      <td>Petrol</td>\n",
       "      <td>Manual</td>\n",
       "      <td>Second</td>\n",
       "      <td>0.00</td>\n",
       "      <td>NaN</td>\n",
       "      <td>NaN</td>\n",
       "      <td>NaN</td>\n",
       "      <td>NaN</td>\n",
       "      <td>1.85</td>\n",
       "    </tr>\n",
       "  </tbody>\n",
       "</table>\n",
       "</div>"
      ],
      "text/plain": [
       "                                              Name    Location  Year  \\\n",
       "194                             Honda City 1.5 GXI   Ahmedabad  2007   \n",
       "208                           Maruti Swift 1.3 VXi     Kolkata  2010   \n",
       "733                           Maruti Swift 1.3 VXi     Chennai  2006   \n",
       "749                   Land Rover Range Rover 3.0 D      Mumbai  2008   \n",
       "1294                             Honda City 1.3 DX       Delhi  2009   \n",
       "1327                          Maruti Swift 1.3 ZXI   Hyderabad  2015   \n",
       "1385                            Honda City 1.5 GXI        Pune  2004   \n",
       "1460  Land Rover Range Rover Sport 2005 2012 Sport  Coimbatore  2008   \n",
       "2074                          Maruti Swift 1.3 LXI        Pune  2011   \n",
       "2096                     Hyundai Santro LP zipPlus  Coimbatore  2004   \n",
       "2264                           Toyota Etios Liva V        Pune  2012   \n",
       "2325                      Maruti Swift 1.3 VXI ABS        Pune  2015   \n",
       "2335                          Maruti Swift 1.3 VXi      Mumbai  2007   \n",
       "2530                       BMW 5 Series 520d Sedan       Kochi  2014   \n",
       "2542               Hyundai Santro GLS II - Euro II   Bangalore  2011   \n",
       "2623                       BMW 5 Series 520d Sedan        Pune  2012   \n",
       "2668                          Maruti Swift 1.3 VXi     Kolkata  2014   \n",
       "2737                             Maruti Wagon R Vx      Jaipur  2001   \n",
       "2780               Hyundai Santro GLS II - Euro II        Pune  2009   \n",
       "2842               Hyundai Santro GLS II - Euro II   Bangalore  2012   \n",
       "3272                       BMW 5 Series 520d Sedan      Mumbai  2008   \n",
       "3404                          Maruti Swift 1.3 VXi      Jaipur  2006   \n",
       "3520                       BMW 5 Series 520d Sedan       Delhi  2012   \n",
       "3522               Hyundai Santro GLS II - Euro II       Kochi  2012   \n",
       "3810                   Honda CR-V AT With Sun Roof     Kolkata  2013   \n",
       "4011                        Fiat Punto 1.3 Emotion        Pune  2011   \n",
       "4152                  Land Rover Range Rover 3.0 D      Mumbai  2003   \n",
       "4229                        Hyundai Santro Xing XG   Bangalore  2005   \n",
       "4576                       BMW 5 Series 520d Sedan       Delhi  2012   \n",
       "4603                     Honda Jazz Select Edition        Pune  2011   \n",
       "4696                        Fiat Punto 1.2 Dynamic       Kochi  2017   \n",
       "4711                        Hyundai Santro Xing XG        Pune  2003   \n",
       "4950                        Fiat Punto 1.4 Emotion     Kolkata  2010   \n",
       "5013                          Maruti Swift 1.3 VXi       Delhi  2006   \n",
       "5183                          Maruti Swift 1.3 LXI       Delhi  2012   \n",
       "5268                            Honda City 1.5 GXI   Bangalore  2002   \n",
       "\n",
       "      Kilometers_Driven Fuel_Type Transmission      Owner_Type  Mileage  \\\n",
       "194               60006    Petrol       Manual           First     0.00   \n",
       "208               42001    Petrol       Manual           First    16.10   \n",
       "733               97800    Petrol       Manual           Third    16.10   \n",
       "749               55001    Diesel    Automatic          Second     0.00   \n",
       "1294              55005    Petrol       Manual           First    12.80   \n",
       "1327              50295    Petrol       Manual           First    16.10   \n",
       "1385             115000    Petrol       Manual          Second     0.00   \n",
       "1460              69078    Petrol       Manual           First     0.00   \n",
       "2074              24255    Petrol       Manual           First    16.10   \n",
       "2096              52146    Petrol       Manual           First     0.00   \n",
       "2264              24500    Petrol       Manual          Second    18.30   \n",
       "2325              67000    Petrol       Manual           First    16.10   \n",
       "2335              55000    Petrol       Manual          Second    16.10   \n",
       "2530              64158    Diesel    Automatic           First    18.48   \n",
       "2542              65000    Petrol       Manual          Second     0.00   \n",
       "2623              95000    Diesel    Automatic          Second    18.48   \n",
       "2668              32986    Petrol       Manual           First    16.10   \n",
       "2737             200000    Petrol       Manual           First    12.00   \n",
       "2780             100000    Petrol       Manual           First     0.00   \n",
       "2842              43000    Petrol       Manual           First     0.00   \n",
       "3272              81000    Diesel    Automatic          Second    18.48   \n",
       "3404             125000    Petrol       Manual  Fourth & Above    16.10   \n",
       "3520              90000    Diesel    Automatic           First    18.48   \n",
       "3522              66400    Petrol       Manual           First     0.00   \n",
       "3810              27000    Petrol    Automatic           First    14.00   \n",
       "4011              45271    Diesel       Manual           First    20.30   \n",
       "4152              75000    Diesel    Automatic          Second     0.00   \n",
       "4229              79000    Petrol       Manual          Second    17.00   \n",
       "4576              72000    Diesel    Automatic           Third    18.48   \n",
       "4603              98000    Petrol       Manual           First    16.70   \n",
       "4696              17941    Petrol       Manual           First    15.70   \n",
       "4711              80000    Petrol       Manual          Second    17.00   \n",
       "4950              47000    Petrol       Manual           First    14.60   \n",
       "5013              63000    Petrol       Manual           First    16.10   \n",
       "5183              52000    Petrol       Manual           First    16.10   \n",
       "5268              53000    Petrol       Manual          Second     0.00   \n",
       "\n",
       "     Engine Power  Seats New_Price  Price  \n",
       "194     NaN   NaN    NaN       NaN   2.95  \n",
       "208     NaN   NaN    NaN       NaN   2.11  \n",
       "733     NaN   NaN    NaN       NaN   1.75  \n",
       "749     NaN   NaN    NaN       NaN  26.50  \n",
       "1294    NaN   NaN    NaN       NaN   3.20  \n",
       "1327    NaN   NaN    NaN       NaN   5.80  \n",
       "1385    NaN   NaN    NaN       NaN   1.50  \n",
       "1460    NaN   NaN    NaN       NaN  40.88  \n",
       "2074    NaN   NaN    NaN       NaN   3.15  \n",
       "2096    NaN   NaN    NaN       NaN   1.93  \n",
       "2264    NaN   NaN    NaN       NaN   2.95  \n",
       "2325    NaN   NaN    NaN       NaN   4.70  \n",
       "2335    NaN   NaN    NaN       NaN   1.75  \n",
       "2530    NaN   NaN    NaN       NaN  17.89  \n",
       "2542    NaN   NaN    NaN       NaN   3.15  \n",
       "2623    NaN   NaN    NaN       NaN  18.00  \n",
       "2668    NaN   NaN    NaN       NaN   4.24  \n",
       "2737    NaN   NaN    NaN       NaN   0.70  \n",
       "2780    NaN   NaN    NaN       NaN   1.60  \n",
       "2842    NaN   NaN    NaN       NaN   3.25  \n",
       "3272    NaN   NaN    NaN       NaN  10.50  \n",
       "3404    NaN   NaN    NaN       NaN   2.35  \n",
       "3520    NaN   NaN    NaN       NaN  14.50  \n",
       "3522    NaN   NaN    NaN       NaN   2.66  \n",
       "3810    NaN   NaN    NaN       NaN  11.99  \n",
       "4011    NaN   NaN    NaN       NaN   2.60  \n",
       "4152    NaN   NaN    NaN       NaN  16.11  \n",
       "4229    NaN   NaN    NaN       NaN   1.65  \n",
       "4576    NaN   NaN    NaN       NaN  13.85  \n",
       "4603    NaN   NaN    NaN       NaN   3.15  \n",
       "4696    NaN   NaN    NaN       NaN   3.93  \n",
       "4711    NaN   NaN    NaN       NaN   0.90  \n",
       "4950    NaN   NaN    NaN       NaN   1.49  \n",
       "5013    NaN   NaN    NaN       NaN   1.60  \n",
       "5183    NaN   NaN    NaN       NaN   3.65  \n",
       "5268    NaN   NaN    NaN       NaN   1.85  "
      ]
     },
     "execution_count": 1391,
     "metadata": {},
     "output_type": "execute_result"
    },
    {
     "data": {
      "application/javascript": [
       "\n",
       "            setTimeout(function() {\n",
       "                var nbb_cell_id = 1391;\n",
       "                var nbb_unformatted_code = \"df[df.Engine.isnull()]\";\n",
       "                var nbb_formatted_code = \"df[df.Engine.isnull()]\";\n",
       "                var nbb_cells = Jupyter.notebook.get_cells();\n",
       "                for (var i = 0; i < nbb_cells.length; ++i) {\n",
       "                    if (nbb_cells[i].input_prompt_number == nbb_cell_id) {\n",
       "                        if (nbb_cells[i].get_text() == nbb_unformatted_code) {\n",
       "                             nbb_cells[i].set_text(nbb_formatted_code);\n",
       "                        }\n",
       "                        break;\n",
       "                    }\n",
       "                }\n",
       "            }, 500);\n",
       "            "
      ],
      "text/plain": [
       "<IPython.core.display.Javascript object>"
      ]
     },
     "metadata": {},
     "output_type": "display_data"
    }
   ],
   "source": [
    "df[df.Engine.isnull()]"
   ]
  },
  {
   "cell_type": "code",
   "execution_count": 1392,
   "id": "327a93c1",
   "metadata": {},
   "outputs": [
    {
     "data": {
      "application/javascript": [
       "\n",
       "            setTimeout(function() {\n",
       "                var nbb_cell_id = 1392;\n",
       "                var nbb_unformatted_code = \"# Engine has strng so this will convert it to an int64 so it can be properly, statistically analyzed.\\ndef engine_to_num(Engine):\\n    if isinstance(Engine, str):\\n        return int64(Engine.split(\\\" \\\")[0])\\n    else:\\n        return np.nan\\n\\n\\nengine_col = [\\\"Engine\\\"]\\n\\nfor colname in engine_col:\\n    df[colname] = df[colname].apply(mileage_to_num)\";\n",
       "                var nbb_formatted_code = \"# Engine has strng so this will convert it to an int64 so it can be properly, statistically analyzed.\\ndef engine_to_num(Engine):\\n    if isinstance(Engine, str):\\n        return int64(Engine.split(\\\" \\\")[0])\\n    else:\\n        return np.nan\\n\\n\\nengine_col = [\\\"Engine\\\"]\\n\\nfor colname in engine_col:\\n    df[colname] = df[colname].apply(mileage_to_num)\";\n",
       "                var nbb_cells = Jupyter.notebook.get_cells();\n",
       "                for (var i = 0; i < nbb_cells.length; ++i) {\n",
       "                    if (nbb_cells[i].input_prompt_number == nbb_cell_id) {\n",
       "                        if (nbb_cells[i].get_text() == nbb_unformatted_code) {\n",
       "                             nbb_cells[i].set_text(nbb_formatted_code);\n",
       "                        }\n",
       "                        break;\n",
       "                    }\n",
       "                }\n",
       "            }, 500);\n",
       "            "
      ],
      "text/plain": [
       "<IPython.core.display.Javascript object>"
      ]
     },
     "metadata": {},
     "output_type": "display_data"
    }
   ],
   "source": [
    "# Engine has strng so this will convert it to an int64 so it can be properly, statistically analyzed.\n",
    "def engine_to_num(Engine):\n",
    "    if isinstance(Engine, str):\n",
    "        return int64(Engine.split(\" \")[0])\n",
    "    else:\n",
    "        return np.nan\n",
    "\n",
    "\n",
    "engine_col = [\"Engine\"]\n",
    "\n",
    "for colname in engine_col:\n",
    "    df[colname] = df[colname].apply(mileage_to_num)"
   ]
  },
  {
   "cell_type": "code",
   "execution_count": 1393,
   "id": "096d22d0",
   "metadata": {},
   "outputs": [
    {
     "data": {
      "text/plain": [
       "count    5981.000000\n",
       "mean     1621.505935\n",
       "std       601.117630\n",
       "min       624.000000\n",
       "25%      1198.000000\n",
       "50%      1493.000000\n",
       "75%      1984.000000\n",
       "max      5998.000000\n",
       "Name: Engine, dtype: float64"
      ]
     },
     "execution_count": 1393,
     "metadata": {},
     "output_type": "execute_result"
    },
    {
     "data": {
      "application/javascript": [
       "\n",
       "            setTimeout(function() {\n",
       "                var nbb_cell_id = 1393;\n",
       "                var nbb_unformatted_code = \"df[\\\"Engine\\\"].describe()\";\n",
       "                var nbb_formatted_code = \"df[\\\"Engine\\\"].describe()\";\n",
       "                var nbb_cells = Jupyter.notebook.get_cells();\n",
       "                for (var i = 0; i < nbb_cells.length; ++i) {\n",
       "                    if (nbb_cells[i].input_prompt_number == nbb_cell_id) {\n",
       "                        if (nbb_cells[i].get_text() == nbb_unformatted_code) {\n",
       "                             nbb_cells[i].set_text(nbb_formatted_code);\n",
       "                        }\n",
       "                        break;\n",
       "                    }\n",
       "                }\n",
       "            }, 500);\n",
       "            "
      ],
      "text/plain": [
       "<IPython.core.display.Javascript object>"
      ]
     },
     "metadata": {},
     "output_type": "display_data"
    }
   ],
   "source": [
    "df[\"Engine\"].describe()"
   ]
  },
  {
   "cell_type": "markdown",
   "id": "38d8030a",
   "metadata": {},
   "source": [
    "Since the values of the engine vary a large amount, I will replace the values with the median as the mean is likely skewed by the large numbers. "
   ]
  },
  {
   "cell_type": "code",
   "execution_count": 1394,
   "id": "a49871bb",
   "metadata": {},
   "outputs": [
    {
     "data": {
      "application/javascript": [
       "\n",
       "            setTimeout(function() {\n",
       "                var nbb_cell_id = 1394;\n",
       "                var nbb_unformatted_code = \"# fill in engine null values with the median\\ndf[\\\"Engine\\\"] = df[\\\"Engine\\\"].fillna(df[\\\"Engine\\\"].median())\";\n",
       "                var nbb_formatted_code = \"# fill in engine null values with the median\\ndf[\\\"Engine\\\"] = df[\\\"Engine\\\"].fillna(df[\\\"Engine\\\"].median())\";\n",
       "                var nbb_cells = Jupyter.notebook.get_cells();\n",
       "                for (var i = 0; i < nbb_cells.length; ++i) {\n",
       "                    if (nbb_cells[i].input_prompt_number == nbb_cell_id) {\n",
       "                        if (nbb_cells[i].get_text() == nbb_unformatted_code) {\n",
       "                             nbb_cells[i].set_text(nbb_formatted_code);\n",
       "                        }\n",
       "                        break;\n",
       "                    }\n",
       "                }\n",
       "            }, 500);\n",
       "            "
      ],
      "text/plain": [
       "<IPython.core.display.Javascript object>"
      ]
     },
     "metadata": {},
     "output_type": "display_data"
    }
   ],
   "source": [
    "# fill in engine null values with the median\n",
    "df[\"Engine\"] = df[\"Engine\"].fillna(df[\"Engine\"].median())"
   ]
  },
  {
   "cell_type": "markdown",
   "id": "684945de",
   "metadata": {},
   "source": [
    "### Entries with no Power Values"
   ]
  },
  {
   "cell_type": "code",
   "execution_count": 1395,
   "id": "2bf88a9a",
   "metadata": {},
   "outputs": [
    {
     "data": {
      "application/javascript": [
       "\n",
       "            setTimeout(function() {\n",
       "                var nbb_cell_id = 1395;\n",
       "                var nbb_unformatted_code = \"# power has strng so this will convert it to a float so it can be properly, statistically analyzed.\\ndef power_to_num(Power):\\n    if isinstance(Power, str):\\n        return float(Power.split(\\\" \\\")[0])\\n    else:\\n        return np.nan\\n\\n\\npower_col = [\\\"Power\\\"]\\n\\nfor colname in power_col:\\n    df[colname] = df[colname].apply(power_to_num)\";\n",
       "                var nbb_formatted_code = \"# power has strng so this will convert it to a float so it can be properly, statistically analyzed.\\ndef power_to_num(Power):\\n    if isinstance(Power, str):\\n        return float(Power.split(\\\" \\\")[0])\\n    else:\\n        return np.nan\\n\\n\\npower_col = [\\\"Power\\\"]\\n\\nfor colname in power_col:\\n    df[colname] = df[colname].apply(power_to_num)\";\n",
       "                var nbb_cells = Jupyter.notebook.get_cells();\n",
       "                for (var i = 0; i < nbb_cells.length; ++i) {\n",
       "                    if (nbb_cells[i].input_prompt_number == nbb_cell_id) {\n",
       "                        if (nbb_cells[i].get_text() == nbb_unformatted_code) {\n",
       "                             nbb_cells[i].set_text(nbb_formatted_code);\n",
       "                        }\n",
       "                        break;\n",
       "                    }\n",
       "                }\n",
       "            }, 500);\n",
       "            "
      ],
      "text/plain": [
       "<IPython.core.display.Javascript object>"
      ]
     },
     "metadata": {},
     "output_type": "display_data"
    }
   ],
   "source": [
    "# power has strng so this will convert it to a float so it can be properly, statistically analyzed.\n",
    "def power_to_num(Power):\n",
    "    if isinstance(Power, str):\n",
    "        return float(Power.split(\" \")[0])\n",
    "    else:\n",
    "        return np.nan\n",
    "\n",
    "\n",
    "power_col = [\"Power\"]\n",
    "\n",
    "for colname in power_col:\n",
    "    df[colname] = df[colname].apply(power_to_num)"
   ]
  },
  {
   "cell_type": "code",
   "execution_count": 1396,
   "id": "f26bacc4",
   "metadata": {},
   "outputs": [
    {
     "data": {
      "text/plain": [
       "count    5874.000000\n",
       "mean      113.272203\n",
       "std        53.873317\n",
       "min        34.200000\n",
       "25%        75.000000\n",
       "50%        97.700000\n",
       "75%       138.100000\n",
       "max       560.000000\n",
       "Name: Power, dtype: float64"
      ]
     },
     "execution_count": 1396,
     "metadata": {},
     "output_type": "execute_result"
    },
    {
     "data": {
      "application/javascript": [
       "\n",
       "            setTimeout(function() {\n",
       "                var nbb_cell_id = 1396;\n",
       "                var nbb_unformatted_code = \"df[\\\"Power\\\"].describe()\";\n",
       "                var nbb_formatted_code = \"df[\\\"Power\\\"].describe()\";\n",
       "                var nbb_cells = Jupyter.notebook.get_cells();\n",
       "                for (var i = 0; i < nbb_cells.length; ++i) {\n",
       "                    if (nbb_cells[i].input_prompt_number == nbb_cell_id) {\n",
       "                        if (nbb_cells[i].get_text() == nbb_unformatted_code) {\n",
       "                             nbb_cells[i].set_text(nbb_formatted_code);\n",
       "                        }\n",
       "                        break;\n",
       "                    }\n",
       "                }\n",
       "            }, 500);\n",
       "            "
      ],
      "text/plain": [
       "<IPython.core.display.Javascript object>"
      ]
     },
     "metadata": {},
     "output_type": "display_data"
    }
   ],
   "source": [
    "df[\"Power\"].describe()"
   ]
  },
  {
   "cell_type": "markdown",
   "id": "0b6b800b",
   "metadata": {},
   "source": [
    "Power has a wide range of values (34-560) so I will be replace the missing values with the median as it is less affected by skew. "
   ]
  },
  {
   "cell_type": "code",
   "execution_count": 1397,
   "id": "743c8e14",
   "metadata": {},
   "outputs": [
    {
     "data": {
      "application/javascript": [
       "\n",
       "            setTimeout(function() {\n",
       "                var nbb_cell_id = 1397;\n",
       "                var nbb_unformatted_code = \"# fill in power null values with the median\\ndf[\\\"Power\\\"] = df[\\\"Power\\\"].fillna(df[\\\"Power\\\"].median())\";\n",
       "                var nbb_formatted_code = \"# fill in power null values with the median\\ndf[\\\"Power\\\"] = df[\\\"Power\\\"].fillna(df[\\\"Power\\\"].median())\";\n",
       "                var nbb_cells = Jupyter.notebook.get_cells();\n",
       "                for (var i = 0; i < nbb_cells.length; ++i) {\n",
       "                    if (nbb_cells[i].input_prompt_number == nbb_cell_id) {\n",
       "                        if (nbb_cells[i].get_text() == nbb_unformatted_code) {\n",
       "                             nbb_cells[i].set_text(nbb_formatted_code);\n",
       "                        }\n",
       "                        break;\n",
       "                    }\n",
       "                }\n",
       "            }, 500);\n",
       "            "
      ],
      "text/plain": [
       "<IPython.core.display.Javascript object>"
      ]
     },
     "metadata": {},
     "output_type": "display_data"
    }
   ],
   "source": [
    "# fill in power null values with the median\n",
    "df[\"Power\"] = df[\"Power\"].fillna(df[\"Power\"].median())"
   ]
  },
  {
   "cell_type": "markdown",
   "id": "c0c99ff5",
   "metadata": {},
   "source": [
    "### Entries with no Seat Values"
   ]
  },
  {
   "cell_type": "code",
   "execution_count": 1398,
   "id": "abc955dd",
   "metadata": {},
   "outputs": [
    {
     "data": {
      "text/plain": [
       "count    5975.000000\n",
       "mean        5.278828\n",
       "std         0.808959\n",
       "min         0.000000\n",
       "25%         5.000000\n",
       "50%         5.000000\n",
       "75%         5.000000\n",
       "max        10.000000\n",
       "Name: Seats, dtype: float64"
      ]
     },
     "execution_count": 1398,
     "metadata": {},
     "output_type": "execute_result"
    },
    {
     "data": {
      "application/javascript": [
       "\n",
       "            setTimeout(function() {\n",
       "                var nbb_cell_id = 1398;\n",
       "                var nbb_unformatted_code = \"df[\\\"Seats\\\"].describe()\";\n",
       "                var nbb_formatted_code = \"df[\\\"Seats\\\"].describe()\";\n",
       "                var nbb_cells = Jupyter.notebook.get_cells();\n",
       "                for (var i = 0; i < nbb_cells.length; ++i) {\n",
       "                    if (nbb_cells[i].input_prompt_number == nbb_cell_id) {\n",
       "                        if (nbb_cells[i].get_text() == nbb_unformatted_code) {\n",
       "                             nbb_cells[i].set_text(nbb_formatted_code);\n",
       "                        }\n",
       "                        break;\n",
       "                    }\n",
       "                }\n",
       "            }, 500);\n",
       "            "
      ],
      "text/plain": [
       "<IPython.core.display.Javascript object>"
      ]
     },
     "metadata": {},
     "output_type": "display_data"
    }
   ],
   "source": [
    "df[\"Seats\"].describe()"
   ]
  },
  {
   "cell_type": "markdown",
   "id": "de93ae93",
   "metadata": {},
   "source": [
    "The most common seat number seems to be 5 seats. Therefore, I will be filling in empty seat values with the median # of seats, 5."
   ]
  },
  {
   "cell_type": "code",
   "execution_count": 1399,
   "id": "e28bb273",
   "metadata": {},
   "outputs": [
    {
     "data": {
      "application/javascript": [
       "\n",
       "            setTimeout(function() {\n",
       "                var nbb_cell_id = 1399;\n",
       "                var nbb_unformatted_code = \"# fill in seats null values with the median\\ndf[\\\"Seats\\\"] = df[\\\"Seats\\\"].fillna(df[\\\"Seats\\\"].median())\";\n",
       "                var nbb_formatted_code = \"# fill in seats null values with the median\\ndf[\\\"Seats\\\"] = df[\\\"Seats\\\"].fillna(df[\\\"Seats\\\"].median())\";\n",
       "                var nbb_cells = Jupyter.notebook.get_cells();\n",
       "                for (var i = 0; i < nbb_cells.length; ++i) {\n",
       "                    if (nbb_cells[i].input_prompt_number == nbb_cell_id) {\n",
       "                        if (nbb_cells[i].get_text() == nbb_unformatted_code) {\n",
       "                             nbb_cells[i].set_text(nbb_formatted_code);\n",
       "                        }\n",
       "                        break;\n",
       "                    }\n",
       "                }\n",
       "            }, 500);\n",
       "            "
      ],
      "text/plain": [
       "<IPython.core.display.Javascript object>"
      ]
     },
     "metadata": {},
     "output_type": "display_data"
    }
   ],
   "source": [
    "# fill in seats null values with the median\n",
    "df[\"Seats\"] = df[\"Seats\"].fillna(df[\"Seats\"].median())"
   ]
  },
  {
   "cell_type": "code",
   "execution_count": 1400,
   "id": "23414366",
   "metadata": {},
   "outputs": [
    {
     "data": {
      "text/plain": [
       "Name                    0\n",
       "Location                0\n",
       "Year                    0\n",
       "Kilometers_Driven       0\n",
       "Fuel_Type               0\n",
       "Transmission            0\n",
       "Owner_Type              0\n",
       "Mileage                 0\n",
       "Engine                  0\n",
       "Power                   0\n",
       "Seats                   0\n",
       "New_Price            5194\n",
       "Price                   0\n",
       "dtype: int64"
      ]
     },
     "execution_count": 1400,
     "metadata": {},
     "output_type": "execute_result"
    },
    {
     "data": {
      "application/javascript": [
       "\n",
       "            setTimeout(function() {\n",
       "                var nbb_cell_id = 1400;\n",
       "                var nbb_unformatted_code = \"# Look for more missing values\\ndf.isnull().sum()\";\n",
       "                var nbb_formatted_code = \"# Look for more missing values\\ndf.isnull().sum()\";\n",
       "                var nbb_cells = Jupyter.notebook.get_cells();\n",
       "                for (var i = 0; i < nbb_cells.length; ++i) {\n",
       "                    if (nbb_cells[i].input_prompt_number == nbb_cell_id) {\n",
       "                        if (nbb_cells[i].get_text() == nbb_unformatted_code) {\n",
       "                             nbb_cells[i].set_text(nbb_formatted_code);\n",
       "                        }\n",
       "                        break;\n",
       "                    }\n",
       "                }\n",
       "            }, 500);\n",
       "            "
      ],
      "text/plain": [
       "<IPython.core.display.Javascript object>"
      ]
     },
     "metadata": {},
     "output_type": "display_data"
    }
   ],
   "source": [
    "# Look for more missing values\n",
    "df.isnull().sum()"
   ]
  },
  {
   "cell_type": "code",
   "execution_count": 1401,
   "id": "d9ac6366",
   "metadata": {},
   "outputs": [
    {
     "data": {
      "application/javascript": [
       "\n",
       "            setTimeout(function() {\n",
       "                var nbb_cell_id = 1401;\n",
       "                var nbb_unformatted_code = \"# Examining Car Brand names\\ndf[\\\"Brand\\\"] = df[\\\"Name\\\"].str.split(\\\" \\\").str[0]  # separating the brand from name column\";\n",
       "                var nbb_formatted_code = \"# Examining Car Brand names\\ndf[\\\"Brand\\\"] = df[\\\"Name\\\"].str.split(\\\" \\\").str[0]  # separating the brand from name column\";\n",
       "                var nbb_cells = Jupyter.notebook.get_cells();\n",
       "                for (var i = 0; i < nbb_cells.length; ++i) {\n",
       "                    if (nbb_cells[i].input_prompt_number == nbb_cell_id) {\n",
       "                        if (nbb_cells[i].get_text() == nbb_unformatted_code) {\n",
       "                             nbb_cells[i].set_text(nbb_formatted_code);\n",
       "                        }\n",
       "                        break;\n",
       "                    }\n",
       "                }\n",
       "            }, 500);\n",
       "            "
      ],
      "text/plain": [
       "<IPython.core.display.Javascript object>"
      ]
     },
     "metadata": {},
     "output_type": "display_data"
    }
   ],
   "source": [
    "# Examining Car Brand names\n",
    "df[\"Brand\"] = df[\"Name\"].str.split(\" \").str[0]  # separating the brand from name column"
   ]
  },
  {
   "cell_type": "code",
   "execution_count": 1402,
   "id": "cf657207",
   "metadata": {},
   "outputs": [
    {
     "data": {
      "text/plain": [
       "array(['Maruti', 'Hyundai', 'Honda', 'Audi', 'Nissan', 'Toyota',\n",
       "       'Volkswagen', 'Tata', 'Land', 'Mitsubishi', 'Renault',\n",
       "       'Mercedes-Benz', 'BMW', 'Mahindra', 'Ford', 'Porsche', 'Datsun',\n",
       "       'Jaguar', 'Volvo', 'Chevrolet', 'Skoda', 'Mini', 'Fiat', 'Jeep',\n",
       "       'Smart', 'Ambassador', 'Isuzu', 'ISUZU', 'Force', 'Bentley',\n",
       "       'Lamborghini'], dtype=object)"
      ]
     },
     "execution_count": 1402,
     "metadata": {},
     "output_type": "execute_result"
    },
    {
     "data": {
      "application/javascript": [
       "\n",
       "            setTimeout(function() {\n",
       "                var nbb_cell_id = 1402;\n",
       "                var nbb_unformatted_code = \"df[\\\"Brand\\\"].unique()\";\n",
       "                var nbb_formatted_code = \"df[\\\"Brand\\\"].unique()\";\n",
       "                var nbb_cells = Jupyter.notebook.get_cells();\n",
       "                for (var i = 0; i < nbb_cells.length; ++i) {\n",
       "                    if (nbb_cells[i].input_prompt_number == nbb_cell_id) {\n",
       "                        if (nbb_cells[i].get_text() == nbb_unformatted_code) {\n",
       "                             nbb_cells[i].set_text(nbb_formatted_code);\n",
       "                        }\n",
       "                        break;\n",
       "                    }\n",
       "                }\n",
       "            }, 500);\n",
       "            "
      ],
      "text/plain": [
       "<IPython.core.display.Javascript object>"
      ]
     },
     "metadata": {},
     "output_type": "display_data"
    }
   ],
   "source": [
    "df[\"Brand\"].unique()"
   ]
  },
  {
   "cell_type": "code",
   "execution_count": 1403,
   "id": "0fd4c40c",
   "metadata": {},
   "outputs": [
    {
     "data": {
      "application/javascript": [
       "\n",
       "            setTimeout(function() {\n",
       "                var nbb_cell_id = 1403;\n",
       "                var nbb_unformatted_code = \"# correcting some incorrect names from extracted brands\\ndf.loc[df.Brand == \\\"ISUZU\\\", \\\"Brand\\\"] = \\\"Isuzu\\\"\\ndf.loc[df.Brand == \\\"Mini\\\", \\\"Brand\\\"] = \\\"Mini Cooper\\\"\\ndf.loc[df.Brand == \\\"Land\\\", \\\"Brand\\\"] = \\\"Land Rover\\\"\";\n",
       "                var nbb_formatted_code = \"# correcting some incorrect names from extracted brands\\ndf.loc[df.Brand == \\\"ISUZU\\\", \\\"Brand\\\"] = \\\"Isuzu\\\"\\ndf.loc[df.Brand == \\\"Mini\\\", \\\"Brand\\\"] = \\\"Mini Cooper\\\"\\ndf.loc[df.Brand == \\\"Land\\\", \\\"Brand\\\"] = \\\"Land Rover\\\"\";\n",
       "                var nbb_cells = Jupyter.notebook.get_cells();\n",
       "                for (var i = 0; i < nbb_cells.length; ++i) {\n",
       "                    if (nbb_cells[i].input_prompt_number == nbb_cell_id) {\n",
       "                        if (nbb_cells[i].get_text() == nbb_unformatted_code) {\n",
       "                             nbb_cells[i].set_text(nbb_formatted_code);\n",
       "                        }\n",
       "                        break;\n",
       "                    }\n",
       "                }\n",
       "            }, 500);\n",
       "            "
      ],
      "text/plain": [
       "<IPython.core.display.Javascript object>"
      ]
     },
     "metadata": {},
     "output_type": "display_data"
    }
   ],
   "source": [
    "# correcting some incorrect names from extracted brands\n",
    "df.loc[df.Brand == \"ISUZU\", \"Brand\"] = \"Isuzu\"\n",
    "df.loc[df.Brand == \"Mini\", \"Brand\"] = \"Mini Cooper\"\n",
    "df.loc[df.Brand == \"Land\", \"Brand\"] = \"Land Rover\""
   ]
  },
  {
   "cell_type": "markdown",
   "id": "ab2ba720",
   "metadata": {},
   "source": [
    "### Entries with no New Price Values"
   ]
  },
  {
   "cell_type": "code",
   "execution_count": 1404,
   "id": "61d8e37b",
   "metadata": {},
   "outputs": [
    {
     "data": {
      "text/plain": [
       "count            823\n",
       "unique           540\n",
       "top       63.71 Lakh\n",
       "freq               6\n",
       "Name: New_Price, dtype: object"
      ]
     },
     "execution_count": 1404,
     "metadata": {},
     "output_type": "execute_result"
    },
    {
     "data": {
      "application/javascript": [
       "\n",
       "            setTimeout(function() {\n",
       "                var nbb_cell_id = 1404;\n",
       "                var nbb_unformatted_code = \"# looking at price range\\ndf[\\\"New_Price\\\"].describe()\";\n",
       "                var nbb_formatted_code = \"# looking at price range\\ndf[\\\"New_Price\\\"].describe()\";\n",
       "                var nbb_cells = Jupyter.notebook.get_cells();\n",
       "                for (var i = 0; i < nbb_cells.length; ++i) {\n",
       "                    if (nbb_cells[i].input_prompt_number == nbb_cell_id) {\n",
       "                        if (nbb_cells[i].get_text() == nbb_unformatted_code) {\n",
       "                             nbb_cells[i].set_text(nbb_formatted_code);\n",
       "                        }\n",
       "                        break;\n",
       "                    }\n",
       "                }\n",
       "            }, 500);\n",
       "            "
      ],
      "text/plain": [
       "<IPython.core.display.Javascript object>"
      ]
     },
     "metadata": {},
     "output_type": "display_data"
    }
   ],
   "source": [
    "# looking at price range\n",
    "df[\"New_Price\"].describe()"
   ]
  },
  {
   "cell_type": "markdown",
   "id": "1d55fcd9",
   "metadata": {},
   "source": [
    "The data type is an object so we have to convert it into a float before we can look at the stats of the column"
   ]
  },
  {
   "cell_type": "code",
   "execution_count": 1405,
   "id": "e0df2229",
   "metadata": {},
   "outputs": [
    {
     "data": {
      "application/javascript": [
       "\n",
       "            setTimeout(function() {\n",
       "                var nbb_cell_id = 1405;\n",
       "                var nbb_unformatted_code = \"# changing some crore values to lakhs\\ndef CroreToLakhs(x):\\n    if str(x).find(\\\"Cr\\\") != -1:\\n        convertedvalue = float(str(x)[:-3]) * 100\\n        convertedvalue = str(round(convertedvalue, 2)) + \\\" Lakh\\\"\\n        return converted\\n    else:\\n        return x\";\n",
       "                var nbb_formatted_code = \"# changing some crore values to lakhs\\ndef CroreToLakhs(x):\\n    if str(x).find(\\\"Cr\\\") != -1:\\n        convertedvalue = float(str(x)[:-3]) * 100\\n        convertedvalue = str(round(convertedvalue, 2)) + \\\" Lakh\\\"\\n        return converted\\n    else:\\n        return x\";\n",
       "                var nbb_cells = Jupyter.notebook.get_cells();\n",
       "                for (var i = 0; i < nbb_cells.length; ++i) {\n",
       "                    if (nbb_cells[i].input_prompt_number == nbb_cell_id) {\n",
       "                        if (nbb_cells[i].get_text() == nbb_unformatted_code) {\n",
       "                             nbb_cells[i].set_text(nbb_formatted_code);\n",
       "                        }\n",
       "                        break;\n",
       "                    }\n",
       "                }\n",
       "            }, 500);\n",
       "            "
      ],
      "text/plain": [
       "<IPython.core.display.Javascript object>"
      ]
     },
     "metadata": {},
     "output_type": "display_data"
    }
   ],
   "source": [
    "# changing some crore values to lakhs\n",
    "def CroreToLakhs(x):\n",
    "    if str(x).find(\"Cr\") != -1:\n",
    "        convertedvalue = float(str(x)[:-3]) * 100\n",
    "        convertedvalue = str(round(convertedvalue, 2)) + \" Lakh\"\n",
    "        return converted\n",
    "    else:\n",
    "        return x"
   ]
  },
  {
   "cell_type": "code",
   "execution_count": 1406,
   "id": "7e2b154c",
   "metadata": {},
   "outputs": [
    {
     "data": {
      "application/javascript": [
       "\n",
       "            setTimeout(function() {\n",
       "                var nbb_cell_id = 1406;\n",
       "                var nbb_unformatted_code = \"# New Price has strng so this will convert it to a float so it can be properly, statistically analyzed.\\ndef newprice_to_num(New_Price):\\n    if isinstance(New_Price, str):\\n        return float(New_Price.split(\\\" \\\")[0])\\n    else:\\n        return np.nan\\n\\n\\nnewprice_col = [\\\"New_Price\\\"]\\n\\nfor colname in newprice_col:\\n    df[colname] = df[colname].apply(newprice_to_num)\";\n",
       "                var nbb_formatted_code = \"# New Price has strng so this will convert it to a float so it can be properly, statistically analyzed.\\ndef newprice_to_num(New_Price):\\n    if isinstance(New_Price, str):\\n        return float(New_Price.split(\\\" \\\")[0])\\n    else:\\n        return np.nan\\n\\n\\nnewprice_col = [\\\"New_Price\\\"]\\n\\nfor colname in newprice_col:\\n    df[colname] = df[colname].apply(newprice_to_num)\";\n",
       "                var nbb_cells = Jupyter.notebook.get_cells();\n",
       "                for (var i = 0; i < nbb_cells.length; ++i) {\n",
       "                    if (nbb_cells[i].input_prompt_number == nbb_cell_id) {\n",
       "                        if (nbb_cells[i].get_text() == nbb_unformatted_code) {\n",
       "                             nbb_cells[i].set_text(nbb_formatted_code);\n",
       "                        }\n",
       "                        break;\n",
       "                    }\n",
       "                }\n",
       "            }, 500);\n",
       "            "
      ],
      "text/plain": [
       "<IPython.core.display.Javascript object>"
      ]
     },
     "metadata": {},
     "output_type": "display_data"
    }
   ],
   "source": [
    "# New Price has strng so this will convert it to a float so it can be properly, statistically analyzed.\n",
    "def newprice_to_num(New_Price):\n",
    "    if isinstance(New_Price, str):\n",
    "        return float(New_Price.split(\" \")[0])\n",
    "    else:\n",
    "        return np.nan\n",
    "\n",
    "\n",
    "newprice_col = [\"New_Price\"]\n",
    "\n",
    "for colname in newprice_col:\n",
    "    df[colname] = df[colname].apply(newprice_to_num)"
   ]
  },
  {
   "cell_type": "code",
   "execution_count": 1407,
   "id": "7a1ea27a",
   "metadata": {},
   "outputs": [
    {
     "data": {
      "text/plain": [
       "count    823.000000\n",
       "mean      20.328906\n",
       "std       20.209032\n",
       "min        1.000000\n",
       "25%        7.840000\n",
       "50%       11.390000\n",
       "75%       24.010000\n",
       "max       99.920000\n",
       "Name: New_Price, dtype: float64"
      ]
     },
     "execution_count": 1407,
     "metadata": {},
     "output_type": "execute_result"
    },
    {
     "data": {
      "application/javascript": [
       "\n",
       "            setTimeout(function() {\n",
       "                var nbb_cell_id = 1407;\n",
       "                var nbb_unformatted_code = \"# looking at the stats after datatype conversion\\ndf[\\\"New_Price\\\"].describe()\";\n",
       "                var nbb_formatted_code = \"# looking at the stats after datatype conversion\\ndf[\\\"New_Price\\\"].describe()\";\n",
       "                var nbb_cells = Jupyter.notebook.get_cells();\n",
       "                for (var i = 0; i < nbb_cells.length; ++i) {\n",
       "                    if (nbb_cells[i].input_prompt_number == nbb_cell_id) {\n",
       "                        if (nbb_cells[i].get_text() == nbb_unformatted_code) {\n",
       "                             nbb_cells[i].set_text(nbb_formatted_code);\n",
       "                        }\n",
       "                        break;\n",
       "                    }\n",
       "                }\n",
       "            }, 500);\n",
       "            "
      ],
      "text/plain": [
       "<IPython.core.display.Javascript object>"
      ]
     },
     "metadata": {},
     "output_type": "display_data"
    }
   ],
   "source": [
    "# looking at the stats after datatype conversion\n",
    "df[\"New_Price\"].describe()"
   ]
  },
  {
   "cell_type": "code",
   "execution_count": 1408,
   "id": "933d1a44",
   "metadata": {},
   "outputs": [
    {
     "data": {
      "text/plain": [
       "Brand\n",
       "Mercedes-Benz    64.355\n",
       "BMW              54.700\n",
       "Jaguar           53.565\n",
       "Audi             51.770\n",
       "Volvo            45.670\n",
       "Mini Cooper      42.300\n",
       "Isuzu            33.680\n",
       "Mitsubishi       33.560\n",
       "Skoda            32.540\n",
       "Toyota           23.250\n",
       "Jeep             23.190\n",
       "Mahindra         11.280\n",
       "Ford             11.270\n",
       "Volkswagen       11.105\n",
       "Honda            10.940\n",
       "Nissan            9.510\n",
       "Fiat              9.500\n",
       "Hyundai           9.290\n",
       "Maruti            7.910\n",
       "Tata              7.690\n",
       "Renault           4.930\n",
       "Datsun            4.050\n",
       "Land Rover        1.950\n",
       "Porsche           1.360\n",
       "Ambassador          NaN\n",
       "Bentley             NaN\n",
       "Chevrolet           NaN\n",
       "Force               NaN\n",
       "Lamborghini         NaN\n",
       "Smart               NaN\n",
       "Name: New_Price, dtype: float64"
      ]
     },
     "execution_count": 1408,
     "metadata": {},
     "output_type": "execute_result"
    },
    {
     "data": {
      "application/javascript": [
       "\n",
       "            setTimeout(function() {\n",
       "                var nbb_cell_id = 1408;\n",
       "                var nbb_unformatted_code = \"# getting the median of each car brand based off of given data\\ndf.groupby([\\\"Brand\\\"])[\\\"New_Price\\\"].median().sort_values(ascending=False)\";\n",
       "                var nbb_formatted_code = \"# getting the median of each car brand based off of given data\\ndf.groupby([\\\"Brand\\\"])[\\\"New_Price\\\"].median().sort_values(ascending=False)\";\n",
       "                var nbb_cells = Jupyter.notebook.get_cells();\n",
       "                for (var i = 0; i < nbb_cells.length; ++i) {\n",
       "                    if (nbb_cells[i].input_prompt_number == nbb_cell_id) {\n",
       "                        if (nbb_cells[i].get_text() == nbb_unformatted_code) {\n",
       "                             nbb_cells[i].set_text(nbb_formatted_code);\n",
       "                        }\n",
       "                        break;\n",
       "                    }\n",
       "                }\n",
       "            }, 500);\n",
       "            "
      ],
      "text/plain": [
       "<IPython.core.display.Javascript object>"
      ]
     },
     "metadata": {},
     "output_type": "display_data"
    }
   ],
   "source": [
    "# getting the median of each car brand based off of given data\n",
    "df.groupby([\"Brand\"])[\"New_Price\"].median().sort_values(ascending=False)"
   ]
  },
  {
   "cell_type": "markdown",
   "id": "43340807",
   "metadata": {},
   "source": [
    "Quite a few of median values are missing here and the values seem to be skewed as well so I will go ahead and use the overall median"
   ]
  },
  {
   "cell_type": "code",
   "execution_count": 1409,
   "id": "6187aeb0",
   "metadata": {},
   "outputs": [
    {
     "data": {
      "application/javascript": [
       "\n",
       "            setTimeout(function() {\n",
       "                var nbb_cell_id = 1409;\n",
       "                var nbb_unformatted_code = \"# fill in New Prices null values with the median\\ndf[\\\"New_Price\\\"] = df[\\\"New_Price\\\"].fillna(df[\\\"New_Price\\\"].median())\";\n",
       "                var nbb_formatted_code = \"# fill in New Prices null values with the median\\ndf[\\\"New_Price\\\"] = df[\\\"New_Price\\\"].fillna(df[\\\"New_Price\\\"].median())\";\n",
       "                var nbb_cells = Jupyter.notebook.get_cells();\n",
       "                for (var i = 0; i < nbb_cells.length; ++i) {\n",
       "                    if (nbb_cells[i].input_prompt_number == nbb_cell_id) {\n",
       "                        if (nbb_cells[i].get_text() == nbb_unformatted_code) {\n",
       "                             nbb_cells[i].set_text(nbb_formatted_code);\n",
       "                        }\n",
       "                        break;\n",
       "                    }\n",
       "                }\n",
       "            }, 500);\n",
       "            "
      ],
      "text/plain": [
       "<IPython.core.display.Javascript object>"
      ]
     },
     "metadata": {},
     "output_type": "display_data"
    }
   ],
   "source": [
    "# fill in New Prices null values with the median\n",
    "df[\"New_Price\"] = df[\"New_Price\"].fillna(df[\"New_Price\"].median())\n"
   ]
  },
  {
   "cell_type": "code",
   "execution_count": 1410,
   "id": "44f59e6c",
   "metadata": {},
   "outputs": [
    {
     "data": {
      "text/plain": [
       "Name                 0\n",
       "Location             0\n",
       "Year                 0\n",
       "Kilometers_Driven    0\n",
       "Fuel_Type            0\n",
       "Transmission         0\n",
       "Owner_Type           0\n",
       "Mileage              0\n",
       "Engine               0\n",
       "Power                0\n",
       "Seats                0\n",
       "New_Price            0\n",
       "Price                0\n",
       "Brand                0\n",
       "dtype: int64"
      ]
     },
     "execution_count": 1410,
     "metadata": {},
     "output_type": "execute_result"
    },
    {
     "data": {
      "application/javascript": [
       "\n",
       "            setTimeout(function() {\n",
       "                var nbb_cell_id = 1410;\n",
       "                var nbb_unformatted_code = \"# checking for any more missing values\\ndf.isnull().sum()\";\n",
       "                var nbb_formatted_code = \"# checking for any more missing values\\ndf.isnull().sum()\";\n",
       "                var nbb_cells = Jupyter.notebook.get_cells();\n",
       "                for (var i = 0; i < nbb_cells.length; ++i) {\n",
       "                    if (nbb_cells[i].input_prompt_number == nbb_cell_id) {\n",
       "                        if (nbb_cells[i].get_text() == nbb_unformatted_code) {\n",
       "                             nbb_cells[i].set_text(nbb_formatted_code);\n",
       "                        }\n",
       "                        break;\n",
       "                    }\n",
       "                }\n",
       "            }, 500);\n",
       "            "
      ],
      "text/plain": [
       "<IPython.core.display.Javascript object>"
      ]
     },
     "metadata": {},
     "output_type": "display_data"
    }
   ],
   "source": [
    "# checking for any more missing values\n",
    "df.isnull().sum()"
   ]
  },
  {
   "cell_type": "code",
   "execution_count": 1411,
   "id": "d694d4bd",
   "metadata": {},
   "outputs": [
    {
     "data": {
      "application/javascript": [
       "\n",
       "            setTimeout(function() {\n",
       "                var nbb_cell_id = 1411;\n",
       "                var nbb_unformatted_code = \"# processing Year to find age of car\\ndf[\\\"Current_year\\\"] = 2021\\ndf[\\\"Car_Age\\\"] = df[\\\"Current_year\\\"] - df[\\\"Year\\\"]\\ndf.drop(\\\"Current_year\\\", axis=1, inplace=True)\";\n",
       "                var nbb_formatted_code = \"# processing Year to find age of car\\ndf[\\\"Current_year\\\"] = 2021\\ndf[\\\"Car_Age\\\"] = df[\\\"Current_year\\\"] - df[\\\"Year\\\"]\\ndf.drop(\\\"Current_year\\\", axis=1, inplace=True)\";\n",
       "                var nbb_cells = Jupyter.notebook.get_cells();\n",
       "                for (var i = 0; i < nbb_cells.length; ++i) {\n",
       "                    if (nbb_cells[i].input_prompt_number == nbb_cell_id) {\n",
       "                        if (nbb_cells[i].get_text() == nbb_unformatted_code) {\n",
       "                             nbb_cells[i].set_text(nbb_formatted_code);\n",
       "                        }\n",
       "                        break;\n",
       "                    }\n",
       "                }\n",
       "            }, 500);\n",
       "            "
      ],
      "text/plain": [
       "<IPython.core.display.Javascript object>"
      ]
     },
     "metadata": {},
     "output_type": "display_data"
    }
   ],
   "source": [
    "# processing Year to find age of car\n",
    "df[\"Current_year\"] = 2021\n",
    "df[\"Car_Age\"] = df[\"Current_year\"] - df[\"Year\"]\n",
    "df.drop(\"Current_year\", axis=1, inplace=True)"
   ]
  },
  {
   "cell_type": "code",
   "execution_count": 1412,
   "id": "840f5b87",
   "metadata": {
    "scrolled": true
   },
   "outputs": [
    {
     "data": {
      "text/html": [
       "<div>\n",
       "<style scoped>\n",
       "    .dataframe tbody tr th:only-of-type {\n",
       "        vertical-align: middle;\n",
       "    }\n",
       "\n",
       "    .dataframe tbody tr th {\n",
       "        vertical-align: top;\n",
       "    }\n",
       "\n",
       "    .dataframe thead th {\n",
       "        text-align: right;\n",
       "    }\n",
       "</style>\n",
       "<table border=\"1\" class=\"dataframe\">\n",
       "  <thead>\n",
       "    <tr style=\"text-align: right;\">\n",
       "      <th></th>\n",
       "      <th>Name</th>\n",
       "      <th>Location</th>\n",
       "      <th>Year</th>\n",
       "      <th>Kilometers_Driven</th>\n",
       "      <th>Fuel_Type</th>\n",
       "      <th>Transmission</th>\n",
       "      <th>Owner_Type</th>\n",
       "      <th>Mileage</th>\n",
       "      <th>Engine</th>\n",
       "      <th>Power</th>\n",
       "      <th>Seats</th>\n",
       "      <th>New_Price</th>\n",
       "      <th>Price</th>\n",
       "      <th>Brand</th>\n",
       "      <th>Car_Age</th>\n",
       "    </tr>\n",
       "  </thead>\n",
       "  <tbody>\n",
       "    <tr>\n",
       "      <th>0</th>\n",
       "      <td>Maruti Wagon R LXI CNG</td>\n",
       "      <td>Mumbai</td>\n",
       "      <td>2010</td>\n",
       "      <td>72000</td>\n",
       "      <td>CNG</td>\n",
       "      <td>Manual</td>\n",
       "      <td>First</td>\n",
       "      <td>26.60</td>\n",
       "      <td>998.0</td>\n",
       "      <td>58.16</td>\n",
       "      <td>5.0</td>\n",
       "      <td>11.39</td>\n",
       "      <td>1.75</td>\n",
       "      <td>Maruti</td>\n",
       "      <td>11</td>\n",
       "    </tr>\n",
       "    <tr>\n",
       "      <th>1</th>\n",
       "      <td>Hyundai Creta 1.6 CRDi SX Option</td>\n",
       "      <td>Pune</td>\n",
       "      <td>2015</td>\n",
       "      <td>41000</td>\n",
       "      <td>Diesel</td>\n",
       "      <td>Manual</td>\n",
       "      <td>First</td>\n",
       "      <td>19.67</td>\n",
       "      <td>1582.0</td>\n",
       "      <td>126.20</td>\n",
       "      <td>5.0</td>\n",
       "      <td>11.39</td>\n",
       "      <td>12.50</td>\n",
       "      <td>Hyundai</td>\n",
       "      <td>6</td>\n",
       "    </tr>\n",
       "    <tr>\n",
       "      <th>2</th>\n",
       "      <td>Honda Jazz V</td>\n",
       "      <td>Chennai</td>\n",
       "      <td>2011</td>\n",
       "      <td>46000</td>\n",
       "      <td>Petrol</td>\n",
       "      <td>Manual</td>\n",
       "      <td>First</td>\n",
       "      <td>18.20</td>\n",
       "      <td>1199.0</td>\n",
       "      <td>88.70</td>\n",
       "      <td>5.0</td>\n",
       "      <td>8.61</td>\n",
       "      <td>4.50</td>\n",
       "      <td>Honda</td>\n",
       "      <td>10</td>\n",
       "    </tr>\n",
       "    <tr>\n",
       "      <th>3</th>\n",
       "      <td>Maruti Ertiga VDI</td>\n",
       "      <td>Chennai</td>\n",
       "      <td>2012</td>\n",
       "      <td>87000</td>\n",
       "      <td>Diesel</td>\n",
       "      <td>Manual</td>\n",
       "      <td>First</td>\n",
       "      <td>20.77</td>\n",
       "      <td>1248.0</td>\n",
       "      <td>88.76</td>\n",
       "      <td>7.0</td>\n",
       "      <td>11.39</td>\n",
       "      <td>6.00</td>\n",
       "      <td>Maruti</td>\n",
       "      <td>9</td>\n",
       "    </tr>\n",
       "    <tr>\n",
       "      <th>4</th>\n",
       "      <td>Audi A4 New 2.0 TDI Multitronic</td>\n",
       "      <td>Coimbatore</td>\n",
       "      <td>2013</td>\n",
       "      <td>40670</td>\n",
       "      <td>Diesel</td>\n",
       "      <td>Automatic</td>\n",
       "      <td>Second</td>\n",
       "      <td>15.20</td>\n",
       "      <td>1968.0</td>\n",
       "      <td>140.80</td>\n",
       "      <td>5.0</td>\n",
       "      <td>11.39</td>\n",
       "      <td>17.74</td>\n",
       "      <td>Audi</td>\n",
       "      <td>8</td>\n",
       "    </tr>\n",
       "  </tbody>\n",
       "</table>\n",
       "</div>"
      ],
      "text/plain": [
       "                               Name    Location  Year  Kilometers_Driven  \\\n",
       "0            Maruti Wagon R LXI CNG      Mumbai  2010              72000   \n",
       "1  Hyundai Creta 1.6 CRDi SX Option        Pune  2015              41000   \n",
       "2                      Honda Jazz V     Chennai  2011              46000   \n",
       "3                 Maruti Ertiga VDI     Chennai  2012              87000   \n",
       "4   Audi A4 New 2.0 TDI Multitronic  Coimbatore  2013              40670   \n",
       "\n",
       "  Fuel_Type Transmission Owner_Type  Mileage  Engine   Power  Seats  \\\n",
       "0       CNG       Manual      First    26.60   998.0   58.16    5.0   \n",
       "1    Diesel       Manual      First    19.67  1582.0  126.20    5.0   \n",
       "2    Petrol       Manual      First    18.20  1199.0   88.70    5.0   \n",
       "3    Diesel       Manual      First    20.77  1248.0   88.76    7.0   \n",
       "4    Diesel    Automatic     Second    15.20  1968.0  140.80    5.0   \n",
       "\n",
       "   New_Price  Price    Brand  Car_Age  \n",
       "0      11.39   1.75   Maruti       11  \n",
       "1      11.39  12.50  Hyundai        6  \n",
       "2       8.61   4.50    Honda       10  \n",
       "3      11.39   6.00   Maruti        9  \n",
       "4      11.39  17.74     Audi        8  "
      ]
     },
     "execution_count": 1412,
     "metadata": {},
     "output_type": "execute_result"
    },
    {
     "data": {
      "application/javascript": [
       "\n",
       "            setTimeout(function() {\n",
       "                var nbb_cell_id = 1412;\n",
       "                var nbb_unformatted_code = \"# double checking dataframe to see results\\ndf.head()\";\n",
       "                var nbb_formatted_code = \"# double checking dataframe to see results\\ndf.head()\";\n",
       "                var nbb_cells = Jupyter.notebook.get_cells();\n",
       "                for (var i = 0; i < nbb_cells.length; ++i) {\n",
       "                    if (nbb_cells[i].input_prompt_number == nbb_cell_id) {\n",
       "                        if (nbb_cells[i].get_text() == nbb_unformatted_code) {\n",
       "                             nbb_cells[i].set_text(nbb_formatted_code);\n",
       "                        }\n",
       "                        break;\n",
       "                    }\n",
       "                }\n",
       "            }, 500);\n",
       "            "
      ],
      "text/plain": [
       "<IPython.core.display.Javascript object>"
      ]
     },
     "metadata": {},
     "output_type": "display_data"
    }
   ],
   "source": [
    "# double checking dataframe to see results\n",
    "df.head()"
   ]
  },
  {
   "cell_type": "code",
   "execution_count": 1413,
   "id": "9849d944",
   "metadata": {},
   "outputs": [
    {
     "data": {
      "application/javascript": [
       "\n",
       "            setTimeout(function() {\n",
       "                var nbb_cell_id = 1413;\n",
       "                var nbb_unformatted_code = \"# converting categorical variables to dtype category\\ndf[\\\"Fuel_Type\\\"] = df[\\\"Fuel_Type\\\"].astype(\\\"category\\\")\\ndf[\\\"Transmission\\\"] = df[\\\"Transmission\\\"].astype(\\\"category\\\")\\ndf[\\\"Owner_Type\\\"] = df[\\\"Owner_Type\\\"].astype(\\\"category\\\")\\ndf[\\\"Location\\\"] = df[\\\"Location\\\"].astype(\\\"category\\\")\\ndf[\\\"Brand\\\"] = df[\\\"Brand\\\"].astype(\\\"category\\\")\";\n",
       "                var nbb_formatted_code = \"# converting categorical variables to dtype category\\ndf[\\\"Fuel_Type\\\"] = df[\\\"Fuel_Type\\\"].astype(\\\"category\\\")\\ndf[\\\"Transmission\\\"] = df[\\\"Transmission\\\"].astype(\\\"category\\\")\\ndf[\\\"Owner_Type\\\"] = df[\\\"Owner_Type\\\"].astype(\\\"category\\\")\\ndf[\\\"Location\\\"] = df[\\\"Location\\\"].astype(\\\"category\\\")\\ndf[\\\"Brand\\\"] = df[\\\"Brand\\\"].astype(\\\"category\\\")\";\n",
       "                var nbb_cells = Jupyter.notebook.get_cells();\n",
       "                for (var i = 0; i < nbb_cells.length; ++i) {\n",
       "                    if (nbb_cells[i].input_prompt_number == nbb_cell_id) {\n",
       "                        if (nbb_cells[i].get_text() == nbb_unformatted_code) {\n",
       "                             nbb_cells[i].set_text(nbb_formatted_code);\n",
       "                        }\n",
       "                        break;\n",
       "                    }\n",
       "                }\n",
       "            }, 500);\n",
       "            "
      ],
      "text/plain": [
       "<IPython.core.display.Javascript object>"
      ]
     },
     "metadata": {},
     "output_type": "display_data"
    }
   ],
   "source": [
    "# converting categorical variables to dtype category\n",
    "df[\"Fuel_Type\"] = df[\"Fuel_Type\"].astype(\"category\")\n",
    "df[\"Transmission\"] = df[\"Transmission\"].astype(\"category\")\n",
    "df[\"Owner_Type\"] = df[\"Owner_Type\"].astype(\"category\")\n",
    "df[\"Location\"] = df[\"Location\"].astype(\"category\")\n",
    "df[\"Brand\"] = df[\"Brand\"].astype(\"category\")"
   ]
  },
  {
   "cell_type": "code",
   "execution_count": 1414,
   "id": "5f9caae4",
   "metadata": {},
   "outputs": [
    {
     "name": "stdout",
     "output_type": "stream",
     "text": [
      "<class 'pandas.core.frame.DataFrame'>\n",
      "RangeIndex: 6017 entries, 0 to 6016\n",
      "Data columns (total 15 columns):\n",
      " #   Column             Non-Null Count  Dtype   \n",
      "---  ------             --------------  -----   \n",
      " 0   Name               6017 non-null   object  \n",
      " 1   Location           6017 non-null   category\n",
      " 2   Year               6017 non-null   int64   \n",
      " 3   Kilometers_Driven  6017 non-null   int64   \n",
      " 4   Fuel_Type          6017 non-null   category\n",
      " 5   Transmission       6017 non-null   category\n",
      " 6   Owner_Type         6017 non-null   category\n",
      " 7   Mileage            6017 non-null   float64 \n",
      " 8   Engine             6017 non-null   float64 \n",
      " 9   Power              6017 non-null   float64 \n",
      " 10  Seats              6017 non-null   float64 \n",
      " 11  New_Price          6017 non-null   float64 \n",
      " 12  Price              6017 non-null   float64 \n",
      " 13  Brand              6017 non-null   category\n",
      " 14  Car_Age            6017 non-null   int64   \n",
      "dtypes: category(5), float64(6), int64(3), object(1)\n",
      "memory usage: 501.8+ KB\n"
     ]
    },
    {
     "data": {
      "application/javascript": [
       "\n",
       "            setTimeout(function() {\n",
       "                var nbb_cell_id = 1414;\n",
       "                var nbb_unformatted_code = \"# checking to see whether dtype successfully converted\\ndf.info()\";\n",
       "                var nbb_formatted_code = \"# checking to see whether dtype successfully converted\\ndf.info()\";\n",
       "                var nbb_cells = Jupyter.notebook.get_cells();\n",
       "                for (var i = 0; i < nbb_cells.length; ++i) {\n",
       "                    if (nbb_cells[i].input_prompt_number == nbb_cell_id) {\n",
       "                        if (nbb_cells[i].get_text() == nbb_unformatted_code) {\n",
       "                             nbb_cells[i].set_text(nbb_formatted_code);\n",
       "                        }\n",
       "                        break;\n",
       "                    }\n",
       "                }\n",
       "            }, 500);\n",
       "            "
      ],
      "text/plain": [
       "<IPython.core.display.Javascript object>"
      ]
     },
     "metadata": {},
     "output_type": "display_data"
    }
   ],
   "source": [
    "# checking to see whether dtype successfully converted\n",
    "df.info()"
   ]
  },
  {
   "cell_type": "code",
   "execution_count": 1415,
   "id": "7dfc222c",
   "metadata": {},
   "outputs": [
    {
     "data": {
      "text/html": [
       "<div>\n",
       "<style scoped>\n",
       "    .dataframe tbody tr th:only-of-type {\n",
       "        vertical-align: middle;\n",
       "    }\n",
       "\n",
       "    .dataframe tbody tr th {\n",
       "        vertical-align: top;\n",
       "    }\n",
       "\n",
       "    .dataframe thead th {\n",
       "        text-align: right;\n",
       "    }\n",
       "</style>\n",
       "<table border=\"1\" class=\"dataframe\">\n",
       "  <thead>\n",
       "    <tr style=\"text-align: right;\">\n",
       "      <th></th>\n",
       "      <th>Year</th>\n",
       "      <th>Kilometers_Driven</th>\n",
       "      <th>Mileage</th>\n",
       "      <th>Engine</th>\n",
       "      <th>Power</th>\n",
       "      <th>Seats</th>\n",
       "      <th>New_Price</th>\n",
       "      <th>Price</th>\n",
       "      <th>Car_Age</th>\n",
       "    </tr>\n",
       "  </thead>\n",
       "  <tbody>\n",
       "    <tr>\n",
       "      <th>count</th>\n",
       "      <td>6017.000000</td>\n",
       "      <td>6.017000e+03</td>\n",
       "      <td>6017.000000</td>\n",
       "      <td>6017.000000</td>\n",
       "      <td>6017.000000</td>\n",
       "      <td>6017.000000</td>\n",
       "      <td>6017.000000</td>\n",
       "      <td>6017.000000</td>\n",
       "      <td>6017.000000</td>\n",
       "    </tr>\n",
       "    <tr>\n",
       "      <th>mean</th>\n",
       "      <td>2013.358152</td>\n",
       "      <td>5.874228e+04</td>\n",
       "      <td>18.134961</td>\n",
       "      <td>1620.737078</td>\n",
       "      <td>112.902114</td>\n",
       "      <td>5.276882</td>\n",
       "      <td>12.612656</td>\n",
       "      <td>9.478340</td>\n",
       "      <td>7.641848</td>\n",
       "    </tr>\n",
       "    <tr>\n",
       "      <th>std</th>\n",
       "      <td>3.269967</td>\n",
       "      <td>9.128375e+04</td>\n",
       "      <td>4.582289</td>\n",
       "      <td>599.398319</td>\n",
       "      <td>53.282014</td>\n",
       "      <td>0.806464</td>\n",
       "      <td>8.077039</td>\n",
       "      <td>11.189605</td>\n",
       "      <td>3.269967</td>\n",
       "    </tr>\n",
       "    <tr>\n",
       "      <th>min</th>\n",
       "      <td>1998.000000</td>\n",
       "      <td>1.710000e+02</td>\n",
       "      <td>0.000000</td>\n",
       "      <td>624.000000</td>\n",
       "      <td>34.200000</td>\n",
       "      <td>0.000000</td>\n",
       "      <td>1.000000</td>\n",
       "      <td>0.440000</td>\n",
       "      <td>2.000000</td>\n",
       "    </tr>\n",
       "    <tr>\n",
       "      <th>25%</th>\n",
       "      <td>2011.000000</td>\n",
       "      <td>3.400000e+04</td>\n",
       "      <td>15.170000</td>\n",
       "      <td>1198.000000</td>\n",
       "      <td>78.000000</td>\n",
       "      <td>5.000000</td>\n",
       "      <td>11.390000</td>\n",
       "      <td>3.500000</td>\n",
       "      <td>5.000000</td>\n",
       "    </tr>\n",
       "    <tr>\n",
       "      <th>50%</th>\n",
       "      <td>2014.000000</td>\n",
       "      <td>5.300000e+04</td>\n",
       "      <td>18.150000</td>\n",
       "      <td>1493.000000</td>\n",
       "      <td>97.700000</td>\n",
       "      <td>5.000000</td>\n",
       "      <td>11.390000</td>\n",
       "      <td>5.640000</td>\n",
       "      <td>7.000000</td>\n",
       "    </tr>\n",
       "    <tr>\n",
       "      <th>75%</th>\n",
       "      <td>2016.000000</td>\n",
       "      <td>7.300000e+04</td>\n",
       "      <td>21.100000</td>\n",
       "      <td>1969.000000</td>\n",
       "      <td>138.030000</td>\n",
       "      <td>5.000000</td>\n",
       "      <td>11.390000</td>\n",
       "      <td>9.950000</td>\n",
       "      <td>10.000000</td>\n",
       "    </tr>\n",
       "    <tr>\n",
       "      <th>max</th>\n",
       "      <td>2019.000000</td>\n",
       "      <td>6.500000e+06</td>\n",
       "      <td>33.540000</td>\n",
       "      <td>5998.000000</td>\n",
       "      <td>560.000000</td>\n",
       "      <td>10.000000</td>\n",
       "      <td>99.920000</td>\n",
       "      <td>160.000000</td>\n",
       "      <td>23.000000</td>\n",
       "    </tr>\n",
       "  </tbody>\n",
       "</table>\n",
       "</div>"
      ],
      "text/plain": [
       "              Year  Kilometers_Driven      Mileage       Engine        Power  \\\n",
       "count  6017.000000       6.017000e+03  6017.000000  6017.000000  6017.000000   \n",
       "mean   2013.358152       5.874228e+04    18.134961  1620.737078   112.902114   \n",
       "std       3.269967       9.128375e+04     4.582289   599.398319    53.282014   \n",
       "min    1998.000000       1.710000e+02     0.000000   624.000000    34.200000   \n",
       "25%    2011.000000       3.400000e+04    15.170000  1198.000000    78.000000   \n",
       "50%    2014.000000       5.300000e+04    18.150000  1493.000000    97.700000   \n",
       "75%    2016.000000       7.300000e+04    21.100000  1969.000000   138.030000   \n",
       "max    2019.000000       6.500000e+06    33.540000  5998.000000   560.000000   \n",
       "\n",
       "             Seats    New_Price        Price      Car_Age  \n",
       "count  6017.000000  6017.000000  6017.000000  6017.000000  \n",
       "mean      5.276882    12.612656     9.478340     7.641848  \n",
       "std       0.806464     8.077039    11.189605     3.269967  \n",
       "min       0.000000     1.000000     0.440000     2.000000  \n",
       "25%       5.000000    11.390000     3.500000     5.000000  \n",
       "50%       5.000000    11.390000     5.640000     7.000000  \n",
       "75%       5.000000    11.390000     9.950000    10.000000  \n",
       "max      10.000000    99.920000   160.000000    23.000000  "
      ]
     },
     "execution_count": 1415,
     "metadata": {},
     "output_type": "execute_result"
    },
    {
     "data": {
      "application/javascript": [
       "\n",
       "            setTimeout(function() {\n",
       "                var nbb_cell_id = 1415;\n",
       "                var nbb_unformatted_code = \"# further data analysis now that it's relatively cleaned up\\ndf.describe()\";\n",
       "                var nbb_formatted_code = \"# further data analysis now that it's relatively cleaned up\\ndf.describe()\";\n",
       "                var nbb_cells = Jupyter.notebook.get_cells();\n",
       "                for (var i = 0; i < nbb_cells.length; ++i) {\n",
       "                    if (nbb_cells[i].input_prompt_number == nbb_cell_id) {\n",
       "                        if (nbb_cells[i].get_text() == nbb_unformatted_code) {\n",
       "                             nbb_cells[i].set_text(nbb_formatted_code);\n",
       "                        }\n",
       "                        break;\n",
       "                    }\n",
       "                }\n",
       "            }, 500);\n",
       "            "
      ],
      "text/plain": [
       "<IPython.core.display.Javascript object>"
      ]
     },
     "metadata": {},
     "output_type": "display_data"
    }
   ],
   "source": [
    "# further data analysis now that it's relatively cleaned up\n",
    "df.describe()"
   ]
  },
  {
   "cell_type": "markdown",
   "id": "6ab0f600",
   "metadata": {},
   "source": [
    "- Years is skewed to the left as most cars seem to be centered around the year 2014.\n",
    "- The age of the cars ranges from 2 years to 23 years\n",
    "- Mileage seems to be evenly distributed as the mean and median fall along the same number\n",
    "- Power is also almost evenly distributed\n",
    "- The new prices and current prices are also skewed as 99 lakhs and 160 lakhs, respecticely, are much higher numbers than most of the data."
   ]
  },
  {
   "cell_type": "code",
   "execution_count": 1416,
   "id": "173a38f6",
   "metadata": {},
   "outputs": [
    {
     "data": {
      "text/html": [
       "<div>\n",
       "<style scoped>\n",
       "    .dataframe tbody tr th:only-of-type {\n",
       "        vertical-align: middle;\n",
       "    }\n",
       "\n",
       "    .dataframe tbody tr th {\n",
       "        vertical-align: top;\n",
       "    }\n",
       "\n",
       "    .dataframe thead th {\n",
       "        text-align: right;\n",
       "    }\n",
       "</style>\n",
       "<table border=\"1\" class=\"dataframe\">\n",
       "  <thead>\n",
       "    <tr style=\"text-align: right;\">\n",
       "      <th></th>\n",
       "      <th>Name</th>\n",
       "      <th>Location</th>\n",
       "      <th>Year</th>\n",
       "      <th>Kilometers_Driven</th>\n",
       "      <th>Fuel_Type</th>\n",
       "      <th>Transmission</th>\n",
       "      <th>Owner_Type</th>\n",
       "      <th>Mileage</th>\n",
       "      <th>Engine</th>\n",
       "      <th>Power</th>\n",
       "      <th>Seats</th>\n",
       "      <th>New_Price</th>\n",
       "      <th>Price</th>\n",
       "      <th>Brand</th>\n",
       "      <th>Car_Age</th>\n",
       "    </tr>\n",
       "  </thead>\n",
       "  <tbody>\n",
       "    <tr>\n",
       "      <th>0</th>\n",
       "      <td>Maruti Wagon R LXI CNG</td>\n",
       "      <td>Mumbai</td>\n",
       "      <td>2010</td>\n",
       "      <td>72000</td>\n",
       "      <td>CNG</td>\n",
       "      <td>Manual</td>\n",
       "      <td>First</td>\n",
       "      <td>26.60</td>\n",
       "      <td>998.0</td>\n",
       "      <td>58.16</td>\n",
       "      <td>5.0</td>\n",
       "      <td>11.39</td>\n",
       "      <td>1.75</td>\n",
       "      <td>Maruti</td>\n",
       "      <td>11</td>\n",
       "    </tr>\n",
       "    <tr>\n",
       "      <th>1</th>\n",
       "      <td>Hyundai Creta 1.6 CRDi SX Option</td>\n",
       "      <td>Pune</td>\n",
       "      <td>2015</td>\n",
       "      <td>41000</td>\n",
       "      <td>Diesel</td>\n",
       "      <td>Manual</td>\n",
       "      <td>First</td>\n",
       "      <td>19.67</td>\n",
       "      <td>1582.0</td>\n",
       "      <td>126.20</td>\n",
       "      <td>5.0</td>\n",
       "      <td>11.39</td>\n",
       "      <td>12.50</td>\n",
       "      <td>Hyundai</td>\n",
       "      <td>6</td>\n",
       "    </tr>\n",
       "    <tr>\n",
       "      <th>2</th>\n",
       "      <td>Honda Jazz V</td>\n",
       "      <td>Chennai</td>\n",
       "      <td>2011</td>\n",
       "      <td>46000</td>\n",
       "      <td>Petrol</td>\n",
       "      <td>Manual</td>\n",
       "      <td>First</td>\n",
       "      <td>18.20</td>\n",
       "      <td>1199.0</td>\n",
       "      <td>88.70</td>\n",
       "      <td>5.0</td>\n",
       "      <td>8.61</td>\n",
       "      <td>4.50</td>\n",
       "      <td>Honda</td>\n",
       "      <td>10</td>\n",
       "    </tr>\n",
       "    <tr>\n",
       "      <th>3</th>\n",
       "      <td>Maruti Ertiga VDI</td>\n",
       "      <td>Chennai</td>\n",
       "      <td>2012</td>\n",
       "      <td>87000</td>\n",
       "      <td>Diesel</td>\n",
       "      <td>Manual</td>\n",
       "      <td>First</td>\n",
       "      <td>20.77</td>\n",
       "      <td>1248.0</td>\n",
       "      <td>88.76</td>\n",
       "      <td>7.0</td>\n",
       "      <td>11.39</td>\n",
       "      <td>6.00</td>\n",
       "      <td>Maruti</td>\n",
       "      <td>9</td>\n",
       "    </tr>\n",
       "    <tr>\n",
       "      <th>4</th>\n",
       "      <td>Audi A4 New 2.0 TDI Multitronic</td>\n",
       "      <td>Coimbatore</td>\n",
       "      <td>2013</td>\n",
       "      <td>40670</td>\n",
       "      <td>Diesel</td>\n",
       "      <td>Automatic</td>\n",
       "      <td>Second</td>\n",
       "      <td>15.20</td>\n",
       "      <td>1968.0</td>\n",
       "      <td>140.80</td>\n",
       "      <td>5.0</td>\n",
       "      <td>11.39</td>\n",
       "      <td>17.74</td>\n",
       "      <td>Audi</td>\n",
       "      <td>8</td>\n",
       "    </tr>\n",
       "    <tr>\n",
       "      <th>...</th>\n",
       "      <td>...</td>\n",
       "      <td>...</td>\n",
       "      <td>...</td>\n",
       "      <td>...</td>\n",
       "      <td>...</td>\n",
       "      <td>...</td>\n",
       "      <td>...</td>\n",
       "      <td>...</td>\n",
       "      <td>...</td>\n",
       "      <td>...</td>\n",
       "      <td>...</td>\n",
       "      <td>...</td>\n",
       "      <td>...</td>\n",
       "      <td>...</td>\n",
       "      <td>...</td>\n",
       "    </tr>\n",
       "    <tr>\n",
       "      <th>6012</th>\n",
       "      <td>Maruti Swift VDI</td>\n",
       "      <td>Delhi</td>\n",
       "      <td>2014</td>\n",
       "      <td>27365</td>\n",
       "      <td>Diesel</td>\n",
       "      <td>Manual</td>\n",
       "      <td>First</td>\n",
       "      <td>28.40</td>\n",
       "      <td>1248.0</td>\n",
       "      <td>74.00</td>\n",
       "      <td>5.0</td>\n",
       "      <td>7.88</td>\n",
       "      <td>4.75</td>\n",
       "      <td>Maruti</td>\n",
       "      <td>7</td>\n",
       "    </tr>\n",
       "    <tr>\n",
       "      <th>6013</th>\n",
       "      <td>Hyundai Xcent 1.1 CRDi S</td>\n",
       "      <td>Jaipur</td>\n",
       "      <td>2015</td>\n",
       "      <td>100000</td>\n",
       "      <td>Diesel</td>\n",
       "      <td>Manual</td>\n",
       "      <td>First</td>\n",
       "      <td>24.40</td>\n",
       "      <td>1120.0</td>\n",
       "      <td>71.00</td>\n",
       "      <td>5.0</td>\n",
       "      <td>11.39</td>\n",
       "      <td>4.00</td>\n",
       "      <td>Hyundai</td>\n",
       "      <td>6</td>\n",
       "    </tr>\n",
       "    <tr>\n",
       "      <th>6014</th>\n",
       "      <td>Mahindra Xylo D4 BSIV</td>\n",
       "      <td>Jaipur</td>\n",
       "      <td>2012</td>\n",
       "      <td>55000</td>\n",
       "      <td>Diesel</td>\n",
       "      <td>Manual</td>\n",
       "      <td>Second</td>\n",
       "      <td>14.00</td>\n",
       "      <td>2498.0</td>\n",
       "      <td>112.00</td>\n",
       "      <td>8.0</td>\n",
       "      <td>11.39</td>\n",
       "      <td>2.90</td>\n",
       "      <td>Mahindra</td>\n",
       "      <td>9</td>\n",
       "    </tr>\n",
       "    <tr>\n",
       "      <th>6015</th>\n",
       "      <td>Maruti Wagon R VXI</td>\n",
       "      <td>Kolkata</td>\n",
       "      <td>2013</td>\n",
       "      <td>46000</td>\n",
       "      <td>Petrol</td>\n",
       "      <td>Manual</td>\n",
       "      <td>First</td>\n",
       "      <td>18.90</td>\n",
       "      <td>998.0</td>\n",
       "      <td>67.10</td>\n",
       "      <td>5.0</td>\n",
       "      <td>11.39</td>\n",
       "      <td>2.65</td>\n",
       "      <td>Maruti</td>\n",
       "      <td>8</td>\n",
       "    </tr>\n",
       "    <tr>\n",
       "      <th>6016</th>\n",
       "      <td>Chevrolet Beat Diesel</td>\n",
       "      <td>Hyderabad</td>\n",
       "      <td>2011</td>\n",
       "      <td>47000</td>\n",
       "      <td>Diesel</td>\n",
       "      <td>Manual</td>\n",
       "      <td>First</td>\n",
       "      <td>25.44</td>\n",
       "      <td>936.0</td>\n",
       "      <td>57.60</td>\n",
       "      <td>5.0</td>\n",
       "      <td>11.39</td>\n",
       "      <td>2.50</td>\n",
       "      <td>Chevrolet</td>\n",
       "      <td>10</td>\n",
       "    </tr>\n",
       "  </tbody>\n",
       "</table>\n",
       "<p>6017 rows × 15 columns</p>\n",
       "</div>"
      ],
      "text/plain": [
       "                                  Name    Location  Year  Kilometers_Driven  \\\n",
       "0               Maruti Wagon R LXI CNG      Mumbai  2010              72000   \n",
       "1     Hyundai Creta 1.6 CRDi SX Option        Pune  2015              41000   \n",
       "2                         Honda Jazz V     Chennai  2011              46000   \n",
       "3                    Maruti Ertiga VDI     Chennai  2012              87000   \n",
       "4      Audi A4 New 2.0 TDI Multitronic  Coimbatore  2013              40670   \n",
       "...                                ...         ...   ...                ...   \n",
       "6012                  Maruti Swift VDI       Delhi  2014              27365   \n",
       "6013          Hyundai Xcent 1.1 CRDi S      Jaipur  2015             100000   \n",
       "6014             Mahindra Xylo D4 BSIV      Jaipur  2012              55000   \n",
       "6015                Maruti Wagon R VXI     Kolkata  2013              46000   \n",
       "6016             Chevrolet Beat Diesel   Hyderabad  2011              47000   \n",
       "\n",
       "     Fuel_Type Transmission Owner_Type  Mileage  Engine   Power  Seats  \\\n",
       "0          CNG       Manual      First    26.60   998.0   58.16    5.0   \n",
       "1       Diesel       Manual      First    19.67  1582.0  126.20    5.0   \n",
       "2       Petrol       Manual      First    18.20  1199.0   88.70    5.0   \n",
       "3       Diesel       Manual      First    20.77  1248.0   88.76    7.0   \n",
       "4       Diesel    Automatic     Second    15.20  1968.0  140.80    5.0   \n",
       "...        ...          ...        ...      ...     ...     ...    ...   \n",
       "6012    Diesel       Manual      First    28.40  1248.0   74.00    5.0   \n",
       "6013    Diesel       Manual      First    24.40  1120.0   71.00    5.0   \n",
       "6014    Diesel       Manual     Second    14.00  2498.0  112.00    8.0   \n",
       "6015    Petrol       Manual      First    18.90   998.0   67.10    5.0   \n",
       "6016    Diesel       Manual      First    25.44   936.0   57.60    5.0   \n",
       "\n",
       "      New_Price  Price      Brand  Car_Age  \n",
       "0         11.39   1.75     Maruti       11  \n",
       "1         11.39  12.50    Hyundai        6  \n",
       "2          8.61   4.50      Honda       10  \n",
       "3         11.39   6.00     Maruti        9  \n",
       "4         11.39  17.74       Audi        8  \n",
       "...         ...    ...        ...      ...  \n",
       "6012       7.88   4.75     Maruti        7  \n",
       "6013      11.39   4.00    Hyundai        6  \n",
       "6014      11.39   2.90   Mahindra        9  \n",
       "6015      11.39   2.65     Maruti        8  \n",
       "6016      11.39   2.50  Chevrolet       10  \n",
       "\n",
       "[6017 rows x 15 columns]"
      ]
     },
     "execution_count": 1416,
     "metadata": {},
     "output_type": "execute_result"
    },
    {
     "data": {
      "application/javascript": [
       "\n",
       "            setTimeout(function() {\n",
       "                var nbb_cell_id = 1416;\n",
       "                var nbb_unformatted_code = \"df\";\n",
       "                var nbb_formatted_code = \"df\";\n",
       "                var nbb_cells = Jupyter.notebook.get_cells();\n",
       "                for (var i = 0; i < nbb_cells.length; ++i) {\n",
       "                    if (nbb_cells[i].input_prompt_number == nbb_cell_id) {\n",
       "                        if (nbb_cells[i].get_text() == nbb_unformatted_code) {\n",
       "                             nbb_cells[i].set_text(nbb_formatted_code);\n",
       "                        }\n",
       "                        break;\n",
       "                    }\n",
       "                }\n",
       "            }, 500);\n",
       "            "
      ],
      "text/plain": [
       "<IPython.core.display.Javascript object>"
      ]
     },
     "metadata": {},
     "output_type": "display_data"
    }
   ],
   "source": [
    "df"
   ]
  },
  {
   "cell_type": "code",
   "execution_count": 1417,
   "id": "0c72fbe4",
   "metadata": {},
   "outputs": [
    {
     "data": {
      "text/plain": [
       "(6017, 15)"
      ]
     },
     "execution_count": 1417,
     "metadata": {},
     "output_type": "execute_result"
    },
    {
     "data": {
      "application/javascript": [
       "\n",
       "            setTimeout(function() {\n",
       "                var nbb_cell_id = 1417;\n",
       "                var nbb_unformatted_code = \"df.shape\";\n",
       "                var nbb_formatted_code = \"df.shape\";\n",
       "                var nbb_cells = Jupyter.notebook.get_cells();\n",
       "                for (var i = 0; i < nbb_cells.length; ++i) {\n",
       "                    if (nbb_cells[i].input_prompt_number == nbb_cell_id) {\n",
       "                        if (nbb_cells[i].get_text() == nbb_unformatted_code) {\n",
       "                             nbb_cells[i].set_text(nbb_formatted_code);\n",
       "                        }\n",
       "                        break;\n",
       "                    }\n",
       "                }\n",
       "            }, 500);\n",
       "            "
      ],
      "text/plain": [
       "<IPython.core.display.Javascript object>"
      ]
     },
     "metadata": {},
     "output_type": "display_data"
    }
   ],
   "source": [
    "df.shape"
   ]
  },
  {
   "cell_type": "markdown",
   "id": "b012d83a",
   "metadata": {},
   "source": [
    "### Univariate\n"
   ]
  },
  {
   "cell_type": "code",
   "execution_count": 1418,
   "id": "6dcd61ff",
   "metadata": {},
   "outputs": [
    {
     "data": {
      "application/javascript": [
       "\n",
       "            setTimeout(function() {\n",
       "                var nbb_cell_id = 1418;\n",
       "                var nbb_unformatted_code = \"# Code to cleanly display features during univariate analysis\\n\\n\\ndef histogram_boxplot(feature, figsize=(15, 10), bins=None):\\n\\n    f2, (ax_box2, ax_hist2) = plt.subplots(\\n        nrows=2,  # Number of rows of the subplot grid= 2\\n        sharex=True,  # x-axis will be shared among all subplots\\n        gridspec_kw={\\\"height_ratios\\\": (0.25, 0.75)},\\n        figsize=figsize,\\n    )  # creating the 2 subplots\\n    sns.boxplot(\\n        feature, ax=ax_box2, showmeans=True, color=\\\"violet\\\"\\n    )  # boxplot will be created and a star will indicate the mean value of the column\\n    sns.distplot(\\n        feature, kde=F, ax=ax_hist2, bins=bins, palette=\\\"winter\\\"\\n    ) if bins else sns.distplot(\\n        feature, kde=False, ax=ax_hist2\\n    )  # For histogram\\n    ax_hist2.axvline(\\n        feature.mean(), color=\\\"green\\\", linestyle=\\\"--\\\"\\n    )  # Add mean to the histogram\\n    ax_hist2.axvline(\\n        feature.median(), color=\\\"black\\\", linestyle=\\\"-\\\"\\n    )  # Add median to the histogram\";\n",
       "                var nbb_formatted_code = \"# Code to cleanly display features during univariate analysis\\n\\n\\ndef histogram_boxplot(feature, figsize=(15, 10), bins=None):\\n\\n    f2, (ax_box2, ax_hist2) = plt.subplots(\\n        nrows=2,  # Number of rows of the subplot grid= 2\\n        sharex=True,  # x-axis will be shared among all subplots\\n        gridspec_kw={\\\"height_ratios\\\": (0.25, 0.75)},\\n        figsize=figsize,\\n    )  # creating the 2 subplots\\n    sns.boxplot(\\n        feature, ax=ax_box2, showmeans=True, color=\\\"violet\\\"\\n    )  # boxplot will be created and a star will indicate the mean value of the column\\n    sns.distplot(\\n        feature, kde=F, ax=ax_hist2, bins=bins, palette=\\\"winter\\\"\\n    ) if bins else sns.distplot(\\n        feature, kde=False, ax=ax_hist2\\n    )  # For histogram\\n    ax_hist2.axvline(\\n        feature.mean(), color=\\\"green\\\", linestyle=\\\"--\\\"\\n    )  # Add mean to the histogram\\n    ax_hist2.axvline(\\n        feature.median(), color=\\\"black\\\", linestyle=\\\"-\\\"\\n    )  # Add median to the histogram\";\n",
       "                var nbb_cells = Jupyter.notebook.get_cells();\n",
       "                for (var i = 0; i < nbb_cells.length; ++i) {\n",
       "                    if (nbb_cells[i].input_prompt_number == nbb_cell_id) {\n",
       "                        if (nbb_cells[i].get_text() == nbb_unformatted_code) {\n",
       "                             nbb_cells[i].set_text(nbb_formatted_code);\n",
       "                        }\n",
       "                        break;\n",
       "                    }\n",
       "                }\n",
       "            }, 500);\n",
       "            "
      ],
      "text/plain": [
       "<IPython.core.display.Javascript object>"
      ]
     },
     "metadata": {},
     "output_type": "display_data"
    }
   ],
   "source": [
    "# Code to cleanly display features during univariate analysis\n",
    "\n",
    "\n",
    "def histogram_boxplot(feature, figsize=(15, 10), bins=None):\n",
    "\n",
    "    f2, (ax_box2, ax_hist2) = plt.subplots(\n",
    "        nrows=2,  # Number of rows of the subplot grid= 2\n",
    "        sharex=True,  # x-axis will be shared among all subplots\n",
    "        gridspec_kw={\"height_ratios\": (0.25, 0.75)},\n",
    "        figsize=figsize,\n",
    "    )  # creating the 2 subplots\n",
    "    sns.boxplot(\n",
    "        feature, ax=ax_box2, showmeans=True, color=\"violet\"\n",
    "    )  # boxplot will be created and a star will indicate the mean value of the column\n",
    "    sns.distplot(\n",
    "        feature, kde=F, ax=ax_hist2, bins=bins, palette=\"winter\"\n",
    "    ) if bins else sns.distplot(\n",
    "        feature, kde=False, ax=ax_hist2\n",
    "    )  # For histogram\n",
    "    ax_hist2.axvline(\n",
    "        feature.mean(), color=\"green\", linestyle=\"--\"\n",
    "    )  # Add mean to the histogram\n",
    "    ax_hist2.axvline(\n",
    "        feature.median(), color=\"black\", linestyle=\"-\"\n",
    "    )  # Add median to the histogram"
   ]
  },
  {
   "cell_type": "code",
   "execution_count": 1419,
   "id": "52c677f1",
   "metadata": {},
   "outputs": [
    {
     "data": {
      "image/png": "[encoded data removed]",
      "text/plain": [
       "<Figure size 1080x720 with 2 Axes>"
      ]
     },
     "metadata": {},
     "output_type": "display_data"
    },
    {
     "data": {
      "application/javascript": [
       "\n",
       "            setTimeout(function() {\n",
       "                var nbb_cell_id = 1419;\n",
       "                var nbb_unformatted_code = \"histogram_boxplot(df[\\\"Mileage\\\"])\";\n",
       "                var nbb_formatted_code = \"histogram_boxplot(df[\\\"Mileage\\\"])\";\n",
       "                var nbb_cells = Jupyter.notebook.get_cells();\n",
       "                for (var i = 0; i < nbb_cells.length; ++i) {\n",
       "                    if (nbb_cells[i].input_prompt_number == nbb_cell_id) {\n",
       "                        if (nbb_cells[i].get_text() == nbb_unformatted_code) {\n",
       "                             nbb_cells[i].set_text(nbb_formatted_code);\n",
       "                        }\n",
       "                        break;\n",
       "                    }\n",
       "                }\n",
       "            }, 500);\n",
       "            "
      ],
      "text/plain": [
       "<IPython.core.display.Javascript object>"
      ]
     },
     "metadata": {},
     "output_type": "display_data"
    }
   ],
   "source": [
    "histogram_boxplot(df[\"Mileage\"])"
   ]
  },
  {
   "cell_type": "markdown",
   "id": "7d297ba6",
   "metadata": {},
   "source": [
    "- The boxplot and histogram show a normal distribution"
   ]
  },
  {
   "cell_type": "code",
   "execution_count": 1420,
   "id": "74d94c1a",
   "metadata": {},
   "outputs": [
    {
     "data": {
      "image/png": "[encoded data removed]",
      "text/plain": [
       "<Figure size 1080x720 with 2 Axes>"
      ]
     },
     "metadata": {},
     "output_type": "display_data"
    },
    {
     "data": {
      "application/javascript": [
       "\n",
       "            setTimeout(function() {\n",
       "                var nbb_cell_id = 1420;\n",
       "                var nbb_unformatted_code = \"histogram_boxplot(df[\\\"Kilometers_Driven\\\"])\";\n",
       "                var nbb_formatted_code = \"histogram_boxplot(df[\\\"Kilometers_Driven\\\"])\";\n",
       "                var nbb_cells = Jupyter.notebook.get_cells();\n",
       "                for (var i = 0; i < nbb_cells.length; ++i) {\n",
       "                    if (nbb_cells[i].input_prompt_number == nbb_cell_id) {\n",
       "                        if (nbb_cells[i].get_text() == nbb_unformatted_code) {\n",
       "                             nbb_cells[i].set_text(nbb_formatted_code);\n",
       "                        }\n",
       "                        break;\n",
       "                    }\n",
       "                }\n",
       "            }, 500);\n",
       "            "
      ],
      "text/plain": [
       "<IPython.core.display.Javascript object>"
      ]
     },
     "metadata": {},
     "output_type": "display_data"
    }
   ],
   "source": [
    "histogram_boxplot(df[\"Kilometers_Driven\"])"
   ]
  },
  {
   "cell_type": "markdown",
   "id": "90fdc889",
   "metadata": {},
   "source": [
    "- The plots for the kilometers driven is very right skewed with a clear outlier."
   ]
  },
  {
   "cell_type": "code",
   "execution_count": 1421,
   "id": "8dc013b3",
   "metadata": {},
   "outputs": [
    {
     "data": {
      "image/png": "[encoded data removed]",
      "text/plain": [
       "<Figure size 1080x720 with 2 Axes>"
      ]
     },
     "metadata": {},
     "output_type": "display_data"
    },
    {
     "data": {
      "application/javascript": [
       "\n",
       "            setTimeout(function() {\n",
       "                var nbb_cell_id = 1421;\n",
       "                var nbb_unformatted_code = \"histogram_boxplot(df[\\\"Engine\\\"])\";\n",
       "                var nbb_formatted_code = \"histogram_boxplot(df[\\\"Engine\\\"])\";\n",
       "                var nbb_cells = Jupyter.notebook.get_cells();\n",
       "                for (var i = 0; i < nbb_cells.length; ++i) {\n",
       "                    if (nbb_cells[i].input_prompt_number == nbb_cell_id) {\n",
       "                        if (nbb_cells[i].get_text() == nbb_unformatted_code) {\n",
       "                             nbb_cells[i].set_text(nbb_formatted_code);\n",
       "                        }\n",
       "                        break;\n",
       "                    }\n",
       "                }\n",
       "            }, 500);\n",
       "            "
      ],
      "text/plain": [
       "<IPython.core.display.Javascript object>"
      ]
     },
     "metadata": {},
     "output_type": "display_data"
    }
   ],
   "source": [
    "histogram_boxplot(df[\"Engine\"])"
   ]
  },
  {
   "cell_type": "markdown",
   "id": "fdbd36c4",
   "metadata": {},
   "source": [
    "- The engine values are roughly normally distributed, however there are a good amount of outliers according to the boxplot"
   ]
  },
  {
   "cell_type": "code",
   "execution_count": 1422,
   "id": "032e95f5",
   "metadata": {},
   "outputs": [
    {
     "data": {
      "image/png": "[encoded data removed]",
      "text/plain": [
       "<Figure size 1080x720 with 2 Axes>"
      ]
     },
     "metadata": {},
     "output_type": "display_data"
    },
    {
     "data": {
      "application/javascript": [
       "\n",
       "            setTimeout(function() {\n",
       "                var nbb_cell_id = 1422;\n",
       "                var nbb_unformatted_code = \"histogram_boxplot(df[\\\"Power\\\"])\";\n",
       "                var nbb_formatted_code = \"histogram_boxplot(df[\\\"Power\\\"])\";\n",
       "                var nbb_cells = Jupyter.notebook.get_cells();\n",
       "                for (var i = 0; i < nbb_cells.length; ++i) {\n",
       "                    if (nbb_cells[i].input_prompt_number == nbb_cell_id) {\n",
       "                        if (nbb_cells[i].get_text() == nbb_unformatted_code) {\n",
       "                             nbb_cells[i].set_text(nbb_formatted_code);\n",
       "                        }\n",
       "                        break;\n",
       "                    }\n",
       "                }\n",
       "            }, 500);\n",
       "            "
      ],
      "text/plain": [
       "<IPython.core.display.Javascript object>"
      ]
     },
     "metadata": {},
     "output_type": "display_data"
    }
   ],
   "source": [
    "histogram_boxplot(df[\"Power\"])"
   ]
  },
  {
   "cell_type": "markdown",
   "id": "7f066e7d",
   "metadata": {},
   "source": [
    "Power seems almost relatively normally distributed with some right skew according to the boxplot and histogram."
   ]
  },
  {
   "cell_type": "code",
   "execution_count": 1423,
   "id": "b13f3d09",
   "metadata": {},
   "outputs": [
    {
     "data": {
      "image/png": "[encoded data removed]",
      "text/plain": [
       "<Figure size 1080x720 with 2 Axes>"
      ]
     },
     "metadata": {},
     "output_type": "display_data"
    },
    {
     "data": {
      "application/javascript": [
       "\n",
       "            setTimeout(function() {\n",
       "                var nbb_cell_id = 1423;\n",
       "                var nbb_unformatted_code = \"histogram_boxplot(df[\\\"New_Price\\\"])\";\n",
       "                var nbb_formatted_code = \"histogram_boxplot(df[\\\"New_Price\\\"])\";\n",
       "                var nbb_cells = Jupyter.notebook.get_cells();\n",
       "                for (var i = 0; i < nbb_cells.length; ++i) {\n",
       "                    if (nbb_cells[i].input_prompt_number == nbb_cell_id) {\n",
       "                        if (nbb_cells[i].get_text() == nbb_unformatted_code) {\n",
       "                             nbb_cells[i].set_text(nbb_formatted_code);\n",
       "                        }\n",
       "                        break;\n",
       "                    }\n",
       "                }\n",
       "            }, 500);\n",
       "            "
      ],
      "text/plain": [
       "<IPython.core.display.Javascript object>"
      ]
     },
     "metadata": {},
     "output_type": "display_data"
    }
   ],
   "source": [
    "histogram_boxplot(df[\"New_Price\"])"
   ]
  },
  {
   "cell_type": "markdown",
   "id": "95a23d36",
   "metadata": {},
   "source": [
    "- Distribution is very right skewed and most new prices fall near 12 INR Lakhs."
   ]
  },
  {
   "cell_type": "code",
   "execution_count": 1424,
   "id": "084a19e5",
   "metadata": {},
   "outputs": [
    {
     "data": {
      "image/png": "[encoded data removed]",
      "text/plain": [
       "<Figure size 1080x720 with 2 Axes>"
      ]
     },
     "metadata": {},
     "output_type": "display_data"
    },
    {
     "data": {
      "application/javascript": [
       "\n",
       "            setTimeout(function() {\n",
       "                var nbb_cell_id = 1424;\n",
       "                var nbb_unformatted_code = \"histogram_boxplot(df[\\\"Price\\\"])  # Target Variable\";\n",
       "                var nbb_formatted_code = \"histogram_boxplot(df[\\\"Price\\\"])  # Target Variable\";\n",
       "                var nbb_cells = Jupyter.notebook.get_cells();\n",
       "                for (var i = 0; i < nbb_cells.length; ++i) {\n",
       "                    if (nbb_cells[i].input_prompt_number == nbb_cell_id) {\n",
       "                        if (nbb_cells[i].get_text() == nbb_unformatted_code) {\n",
       "                             nbb_cells[i].set_text(nbb_formatted_code);\n",
       "                        }\n",
       "                        break;\n",
       "                    }\n",
       "                }\n",
       "            }, 500);\n",
       "            "
      ],
      "text/plain": [
       "<IPython.core.display.Javascript object>"
      ]
     },
     "metadata": {},
     "output_type": "display_data"
    }
   ],
   "source": [
    "histogram_boxplot(df[\"Price\"])  # Target Variable"
   ]
  },
  {
   "cell_type": "markdown",
   "id": "36fdff1d",
   "metadata": {},
   "source": [
    "- Target variable is pretty right skewed with most prices being from 0-10 INR Lakhs"
   ]
  },
  {
   "cell_type": "code",
   "execution_count": 1425,
   "id": "7b37e598",
   "metadata": {},
   "outputs": [
    {
     "data": {
      "application/javascript": [
       "\n",
       "            setTimeout(function() {\n",
       "                var nbb_cell_id = 1425;\n",
       "                var nbb_unformatted_code = \"# getting a categorical bar graph to show percentage on top\\ndef percent_bar(data, z):\\n\\n    total = len(data[z])  # length of the column\\n    plt.figure(figsize=(15, 5))\\n    plt.xticks(rotation=45)\\n    ax = sns.countplot(data[z], palette=\\\"Paired\\\")\\n    for p in ax.patches:\\n        percentage = \\\"{:.1f}%\\\".format(100 * p.get_height() / total)\\n        x = p.get_x() + p.get_width() / 2 - 0.05\\n        y = p.get_y() + p.get_height()\\n\\n        ax.annotate(percentage, (x, y), size=10)  # annotating the percentage\\n    plt.show()\";\n",
       "                var nbb_formatted_code = \"# getting a categorical bar graph to show percentage on top\\ndef percent_bar(data, z):\\n\\n    total = len(data[z])  # length of the column\\n    plt.figure(figsize=(15, 5))\\n    plt.xticks(rotation=45)\\n    ax = sns.countplot(data[z], palette=\\\"Paired\\\")\\n    for p in ax.patches:\\n        percentage = \\\"{:.1f}%\\\".format(100 * p.get_height() / total)\\n        x = p.get_x() + p.get_width() / 2 - 0.05\\n        y = p.get_y() + p.get_height()\\n\\n        ax.annotate(percentage, (x, y), size=10)  # annotating the percentage\\n    plt.show()\";\n",
       "                var nbb_cells = Jupyter.notebook.get_cells();\n",
       "                for (var i = 0; i < nbb_cells.length; ++i) {\n",
       "                    if (nbb_cells[i].input_prompt_number == nbb_cell_id) {\n",
       "                        if (nbb_cells[i].get_text() == nbb_unformatted_code) {\n",
       "                             nbb_cells[i].set_text(nbb_formatted_code);\n",
       "                        }\n",
       "                        break;\n",
       "                    }\n",
       "                }\n",
       "            }, 500);\n",
       "            "
      ],
      "text/plain": [
       "<IPython.core.display.Javascript object>"
      ]
     },
     "metadata": {},
     "output_type": "display_data"
    }
   ],
   "source": [
    "# getting a categorical bar graph to show percentage on top\n",
    "def percent_bar(data, z):\n",
    "\n",
    "    total = len(data[z])  # length of the column\n",
    "    plt.figure(figsize=(15, 5))\n",
    "    plt.xticks(rotation=45)\n",
    "    ax = sns.countplot(data[z], palette=\"Paired\")\n",
    "    for p in ax.patches:\n",
    "        percentage = \"{:.1f}%\".format(100 * p.get_height() / total)\n",
    "        x = p.get_x() + p.get_width() / 2 - 0.05\n",
    "        y = p.get_y() + p.get_height()\n",
    "\n",
    "        ax.annotate(percentage, (x, y), size=10)  # annotating the percentage\n",
    "    plt.show()"
   ]
  },
  {
   "cell_type": "code",
   "execution_count": 1426,
   "id": "60949025",
   "metadata": {},
   "outputs": [
    {
     "data": {
      "image/png": "[encoded data removed]",
      "text/plain": [
       "<Figure size 1080x360 with 1 Axes>"
      ]
     },
     "metadata": {},
     "output_type": "display_data"
    },
    {
     "data": {
      "application/javascript": [
       "\n",
       "            setTimeout(function() {\n",
       "                var nbb_cell_id = 1426;\n",
       "                var nbb_unformatted_code = \"percent_bar(df, \\\"Owner_Type\\\")\";\n",
       "                var nbb_formatted_code = \"percent_bar(df, \\\"Owner_Type\\\")\";\n",
       "                var nbb_cells = Jupyter.notebook.get_cells();\n",
       "                for (var i = 0; i < nbb_cells.length; ++i) {\n",
       "                    if (nbb_cells[i].input_prompt_number == nbb_cell_id) {\n",
       "                        if (nbb_cells[i].get_text() == nbb_unformatted_code) {\n",
       "                             nbb_cells[i].set_text(nbb_formatted_code);\n",
       "                        }\n",
       "                        break;\n",
       "                    }\n",
       "                }\n",
       "            }, 500);\n",
       "            "
      ],
      "text/plain": [
       "<IPython.core.display.Javascript object>"
      ]
     },
     "metadata": {},
     "output_type": "display_data"
    }
   ],
   "source": [
    "percent_bar(df, \"Owner_Type\")"
   ]
  },
  {
   "cell_type": "markdown",
   "id": "897a0143",
   "metadata": {},
   "source": [
    "- Most cars that are being sold are by first owners, with the next common being second owners but at a much smaller number"
   ]
  },
  {
   "cell_type": "code",
   "execution_count": 1427,
   "id": "502074ab",
   "metadata": {},
   "outputs": [
    {
     "data": {
      "image/png": "[encoded data removed]",
      "text/plain": [
       "<Figure size 1080x360 with 1 Axes>"
      ]
     },
     "metadata": {},
     "output_type": "display_data"
    },
    {
     "data": {
      "application/javascript": [
       "\n",
       "            setTimeout(function() {\n",
       "                var nbb_cell_id = 1427;\n",
       "                var nbb_unformatted_code = \"percent_bar(df, \\\"Fuel_Type\\\")\";\n",
       "                var nbb_formatted_code = \"percent_bar(df, \\\"Fuel_Type\\\")\";\n",
       "                var nbb_cells = Jupyter.notebook.get_cells();\n",
       "                for (var i = 0; i < nbb_cells.length; ++i) {\n",
       "                    if (nbb_cells[i].input_prompt_number == nbb_cell_id) {\n",
       "                        if (nbb_cells[i].get_text() == nbb_unformatted_code) {\n",
       "                             nbb_cells[i].set_text(nbb_formatted_code);\n",
       "                        }\n",
       "                        break;\n",
       "                    }\n",
       "                }\n",
       "            }, 500);\n",
       "            "
      ],
      "text/plain": [
       "<IPython.core.display.Javascript object>"
      ]
     },
     "metadata": {},
     "output_type": "display_data"
    }
   ],
   "source": [
    "percent_bar(df, \"Fuel_Type\")"
   ]
  },
  {
   "cell_type": "markdown",
   "id": "18d3dd66",
   "metadata": {},
   "source": [
    "- Most common fuel type is diesel with Petrol following closely behind"
   ]
  },
  {
   "cell_type": "code",
   "execution_count": 1428,
   "id": "95bb323c",
   "metadata": {},
   "outputs": [
    {
     "data": {
      "image/png": "[encoded data removed]",
      "text/plain": [
       "<Figure size 1080x360 with 1 Axes>"
      ]
     },
     "metadata": {},
     "output_type": "display_data"
    },
    {
     "data": {
      "application/javascript": [
       "\n",
       "            setTimeout(function() {\n",
       "                var nbb_cell_id = 1428;\n",
       "                var nbb_unformatted_code = \"percent_bar(df, \\\"Transmission\\\")\";\n",
       "                var nbb_formatted_code = \"percent_bar(df, \\\"Transmission\\\")\";\n",
       "                var nbb_cells = Jupyter.notebook.get_cells();\n",
       "                for (var i = 0; i < nbb_cells.length; ++i) {\n",
       "                    if (nbb_cells[i].input_prompt_number == nbb_cell_id) {\n",
       "                        if (nbb_cells[i].get_text() == nbb_unformatted_code) {\n",
       "                             nbb_cells[i].set_text(nbb_formatted_code);\n",
       "                        }\n",
       "                        break;\n",
       "                    }\n",
       "                }\n",
       "            }, 500);\n",
       "            "
      ],
      "text/plain": [
       "<IPython.core.display.Javascript object>"
      ]
     },
     "metadata": {},
     "output_type": "display_data"
    }
   ],
   "source": [
    "percent_bar(df, \"Transmission\")"
   ]
  },
  {
   "cell_type": "markdown",
   "id": "4f1875e0",
   "metadata": {},
   "source": [
    "- Most cars are manual transmission with automatic being less than half that of manual."
   ]
  },
  {
   "cell_type": "code",
   "execution_count": 1429,
   "id": "a3da5a21",
   "metadata": {},
   "outputs": [
    {
     "data": {
      "image/png": "[encoded data removed]",
      "text/plain": [
       "<Figure size 1080x360 with 1 Axes>"
      ]
     },
     "metadata": {},
     "output_type": "display_data"
    },
    {
     "data": {
      "application/javascript": [
       "\n",
       "            setTimeout(function() {\n",
       "                var nbb_cell_id = 1429;\n",
       "                var nbb_unformatted_code = \"percent_bar(df, \\\"Location\\\")\";\n",
       "                var nbb_formatted_code = \"percent_bar(df, \\\"Location\\\")\";\n",
       "                var nbb_cells = Jupyter.notebook.get_cells();\n",
       "                for (var i = 0; i < nbb_cells.length; ++i) {\n",
       "                    if (nbb_cells[i].input_prompt_number == nbb_cell_id) {\n",
       "                        if (nbb_cells[i].get_text() == nbb_unformatted_code) {\n",
       "                             nbb_cells[i].set_text(nbb_formatted_code);\n",
       "                        }\n",
       "                        break;\n",
       "                    }\n",
       "                }\n",
       "            }, 500);\n",
       "            "
      ],
      "text/plain": [
       "<IPython.core.display.Javascript object>"
      ]
     },
     "metadata": {},
     "output_type": "display_data"
    }
   ],
   "source": [
    "percent_bar(df, \"Location\")"
   ]
  },
  {
   "cell_type": "markdown",
   "id": "6511ec05",
   "metadata": {},
   "source": [
    "- With the cars that are being sold in India, most are from Mumbai at 13% with next most from Hyderabad. There seems to be a decent spread of cars being sold bought from various regions."
   ]
  },
  {
   "cell_type": "code",
   "execution_count": 1430,
   "id": "55ea3048",
   "metadata": {},
   "outputs": [
    {
     "data": {
      "application/javascript": [
       "\n",
       "            setTimeout(function() {\n",
       "                var nbb_cell_id = 1430;\n",
       "                var nbb_unformatted_code = \"# Outlier treatment for numerical variables\\nQ1 = df_outliertreat.quantile(0.25)\\nQ2 = df_outliertreat.quantile(0.5)\\nQ3 = df_outliertreat.quantile(0.75)\\n\\nIQR = Q3 - Q1\\nMin = Q1 - (1.5 * IQR)\\nMax = Q3 + (1.5 * IQR)\\n\\n\\ndf = df[\\n    ~(\\n        (df[[\\\"Kilometers_Driven\\\", \\\"Power\\\", \\\"Engine\\\", \\\"Mileage\\\"]] < Min)\\n        | (df[[\\\"Kilometers_Driven\\\", \\\"Power\\\", \\\"Engine\\\", \\\"Mileage\\\"]] > Max)\\n    ).any(axis=1)\\n]\";\n",
       "                var nbb_formatted_code = \"# Outlier treatment for numerical variables\\nQ1 = df_outliertreat.quantile(0.25)\\nQ2 = df_outliertreat.quantile(0.5)\\nQ3 = df_outliertreat.quantile(0.75)\\n\\nIQR = Q3 - Q1\\nMin = Q1 - (1.5 * IQR)\\nMax = Q3 + (1.5 * IQR)\\n\\n\\ndf = df[\\n    ~(\\n        (df[[\\\"Kilometers_Driven\\\", \\\"Power\\\", \\\"Engine\\\", \\\"Mileage\\\"]] < Min)\\n        | (df[[\\\"Kilometers_Driven\\\", \\\"Power\\\", \\\"Engine\\\", \\\"Mileage\\\"]] > Max)\\n    ).any(axis=1)\\n]\";\n",
       "                var nbb_cells = Jupyter.notebook.get_cells();\n",
       "                for (var i = 0; i < nbb_cells.length; ++i) {\n",
       "                    if (nbb_cells[i].input_prompt_number == nbb_cell_id) {\n",
       "                        if (nbb_cells[i].get_text() == nbb_unformatted_code) {\n",
       "                             nbb_cells[i].set_text(nbb_formatted_code);\n",
       "                        }\n",
       "                        break;\n",
       "                    }\n",
       "                }\n",
       "            }, 500);\n",
       "            "
      ],
      "text/plain": [
       "<IPython.core.display.Javascript object>"
      ]
     },
     "metadata": {},
     "output_type": "display_data"
    }
   ],
   "source": [
    "# Outlier treatment for numerical variables\n",
    "Q1 = df_outliertreat.quantile(0.25)\n",
    "Q2 = df_outliertreat.quantile(0.5)\n",
    "Q3 = df_outliertreat.quantile(0.75)\n",
    "\n",
    "IQR = Q3 - Q1\n",
    "Min = Q1 - (1.5 * IQR)\n",
    "Max = Q3 + (1.5 * IQR)\n",
    "\n",
    "\n",
    "df = df[\n",
    "    ~(\n",
    "        (df[[\"Kilometers_Driven\", \"Power\", \"Engine\", \"Mileage\"]] < Min)\n",
    "        | (df[[\"Kilometers_Driven\", \"Power\", \"Engine\", \"Mileage\"]] > Max)\n",
    "    ).any(axis=1)\n",
    "]"
   ]
  },
  {
   "cell_type": "code",
   "execution_count": 1431,
   "id": "9cdd000c",
   "metadata": {},
   "outputs": [
    {
     "data": {
      "image/png": "[encoded data removed]",
      "text/plain": [
       "<Figure size 1080x864 with 16 Axes>"
      ]
     },
     "metadata": {},
     "output_type": "display_data"
    },
    {
     "data": {
      "application/javascript": [
       "\n",
       "            setTimeout(function() {\n",
       "                var nbb_cell_id = 1431;\n",
       "                var nbb_unformatted_code = \"df_outliertreat = df[[\\\"Kilometers_Driven\\\", \\\"Mileage\\\", \\\"Engine\\\", \\\"Power\\\"]]\\ndf_outliertreat.plot(\\n    kind=\\\"density\\\",\\n    subplots=True,\\n    layout=(4, 4),\\n    sharex=False,\\n    legend=True,\\n    fontsize=1,\\n    figsize=(15, 12),\\n)\\nplt.show()\";\n",
       "                var nbb_formatted_code = \"df_outliertreat = df[[\\\"Kilometers_Driven\\\", \\\"Mileage\\\", \\\"Engine\\\", \\\"Power\\\"]]\\ndf_outliertreat.plot(\\n    kind=\\\"density\\\",\\n    subplots=True,\\n    layout=(4, 4),\\n    sharex=False,\\n    legend=True,\\n    fontsize=1,\\n    figsize=(15, 12),\\n)\\nplt.show()\";\n",
       "                var nbb_cells = Jupyter.notebook.get_cells();\n",
       "                for (var i = 0; i < nbb_cells.length; ++i) {\n",
       "                    if (nbb_cells[i].input_prompt_number == nbb_cell_id) {\n",
       "                        if (nbb_cells[i].get_text() == nbb_unformatted_code) {\n",
       "                             nbb_cells[i].set_text(nbb_formatted_code);\n",
       "                        }\n",
       "                        break;\n",
       "                    }\n",
       "                }\n",
       "            }, 500);\n",
       "            "
      ],
      "text/plain": [
       "<IPython.core.display.Javascript object>"
      ]
     },
     "metadata": {},
     "output_type": "display_data"
    }
   ],
   "source": [
    "df_outliertreat = df[[\"Kilometers_Driven\", \"Mileage\", \"Engine\", \"Power\"]]\n",
    "df_outliertreat.plot(\n",
    "    kind=\"density\",\n",
    "    subplots=True,\n",
    "    layout=(4, 4),\n",
    "    sharex=False,\n",
    "    legend=True,\n",
    "    fontsize=1,\n",
    "    figsize=(15, 12),\n",
    ")\n",
    "plt.show()"
   ]
  },
  {
   "cell_type": "code",
   "execution_count": 1432,
   "id": "181b0395",
   "metadata": {},
   "outputs": [
    {
     "data": {
      "image/png": "[encoded data removed]",
      "text/plain": [
       "<Figure size 2160x2160 with 16 Axes>"
      ]
     },
     "metadata": {},
     "output_type": "display_data"
    },
    {
     "data": {
      "application/javascript": [
       "\n",
       "            setTimeout(function() {\n",
       "                var nbb_cell_id = 1432;\n",
       "                var nbb_unformatted_code = \"df_outliertreat.plot(\\n    kind=\\\"box\\\",\\n    subplots=True,\\n    layout=(4, 4),\\n    sharex=False,\\n    sharey=False,\\n    fontsize=10,\\n    figsize=(30, 30),\\n)\\nplt.show()\";\n",
       "                var nbb_formatted_code = \"df_outliertreat.plot(\\n    kind=\\\"box\\\",\\n    subplots=True,\\n    layout=(4, 4),\\n    sharex=False,\\n    sharey=False,\\n    fontsize=10,\\n    figsize=(30, 30),\\n)\\nplt.show()\";\n",
       "                var nbb_cells = Jupyter.notebook.get_cells();\n",
       "                for (var i = 0; i < nbb_cells.length; ++i) {\n",
       "                    if (nbb_cells[i].input_prompt_number == nbb_cell_id) {\n",
       "                        if (nbb_cells[i].get_text() == nbb_unformatted_code) {\n",
       "                             nbb_cells[i].set_text(nbb_formatted_code);\n",
       "                        }\n",
       "                        break;\n",
       "                    }\n",
       "                }\n",
       "            }, 500);\n",
       "            "
      ],
      "text/plain": [
       "<IPython.core.display.Javascript object>"
      ]
     },
     "metadata": {},
     "output_type": "display_data"
    }
   ],
   "source": [
    "df_outliertreat.plot(\n",
    "    kind=\"box\",\n",
    "    subplots=True,\n",
    "    layout=(4, 4),\n",
    "    sharex=False,\n",
    "    sharey=False,\n",
    "    fontsize=10,\n",
    "    figsize=(30, 30),\n",
    ")\n",
    "plt.show()"
   ]
  },
  {
   "cell_type": "markdown",
   "id": "079dfcb4",
   "metadata": {},
   "source": [
    "### Bivariate"
   ]
  },
  {
   "cell_type": "code",
   "execution_count": 1433,
   "id": "8aabf07e",
   "metadata": {},
   "outputs": [
    {
     "data": {
      "image/png": "[encoded data removed]",
      "text/plain": [
       "<Figure size 864x720 with 2 Axes>"
      ]
     },
     "metadata": {},
     "output_type": "display_data"
    },
    {
     "data": {
      "application/javascript": [
       "\n",
       "            setTimeout(function() {\n",
       "                var nbb_cell_id = 1433;\n",
       "                var nbb_unformatted_code = \"plt.figure(figsize=(12, 10))\\nsns.heatmap(df.corr(), annot=True)\\nplt.show()\";\n",
       "                var nbb_formatted_code = \"plt.figure(figsize=(12, 10))\\nsns.heatmap(df.corr(), annot=True)\\nplt.show()\";\n",
       "                var nbb_cells = Jupyter.notebook.get_cells();\n",
       "                for (var i = 0; i < nbb_cells.length; ++i) {\n",
       "                    if (nbb_cells[i].input_prompt_number == nbb_cell_id) {\n",
       "                        if (nbb_cells[i].get_text() == nbb_unformatted_code) {\n",
       "                             nbb_cells[i].set_text(nbb_formatted_code);\n",
       "                        }\n",
       "                        break;\n",
       "                    }\n",
       "                }\n",
       "            }, 500);\n",
       "            "
      ],
      "text/plain": [
       "<IPython.core.display.Javascript object>"
      ]
     },
     "metadata": {},
     "output_type": "display_data"
    }
   ],
   "source": [
    "plt.figure(figsize=(12, 10))\n",
    "sns.heatmap(df.corr(), annot=True)\n",
    "plt.show()"
   ]
  },
  {
   "cell_type": "markdown",
   "id": "575e1d01",
   "metadata": {},
   "source": [
    "- Engine and Power have a strong correlation of 0.82\n",
    "- Engine and Price and Power and Price also display a strong correlation as well\n",
    "- Year and Car age show an obvious correlation due to one variable being used to calculate the other\n",
    "- Mileage has a negative correlation with Price, Car age, Engine and Power\n",
    "- Price and Car age show a relative negative correlation"
   ]
  },
  {
   "cell_type": "code",
   "execution_count": 1434,
   "id": "d33eea0d",
   "metadata": {},
   "outputs": [
    {
     "data": {
      "text/plain": [
       "<AxesSubplot:xlabel='Owner_Type', ylabel='Price'>"
      ]
     },
     "execution_count": 1434,
     "metadata": {},
     "output_type": "execute_result"
    },
    {
     "data": {
      "image/png": "[encoded data removed]",
      "text/plain": [
       "<Figure size 720x360 with 1 Axes>"
      ]
     },
     "metadata": {},
     "output_type": "display_data"
    },
    {
     "data": {
      "application/javascript": [
       "\n",
       "            setTimeout(function() {\n",
       "                var nbb_cell_id = 1434;\n",
       "                var nbb_unformatted_code = \"plt.figure(figsize=(10, 5))\\nsns.boxplot(x=\\\"Owner_Type\\\", y=\\\"Price\\\", data=df)\";\n",
       "                var nbb_formatted_code = \"plt.figure(figsize=(10, 5))\\nsns.boxplot(x=\\\"Owner_Type\\\", y=\\\"Price\\\", data=df)\";\n",
       "                var nbb_cells = Jupyter.notebook.get_cells();\n",
       "                for (var i = 0; i < nbb_cells.length; ++i) {\n",
       "                    if (nbb_cells[i].input_prompt_number == nbb_cell_id) {\n",
       "                        if (nbb_cells[i].get_text() == nbb_unformatted_code) {\n",
       "                             nbb_cells[i].set_text(nbb_formatted_code);\n",
       "                        }\n",
       "                        break;\n",
       "                    }\n",
       "                }\n",
       "            }, 500);\n",
       "            "
      ],
      "text/plain": [
       "<IPython.core.display.Javascript object>"
      ]
     },
     "metadata": {},
     "output_type": "display_data"
    }
   ],
   "source": [
    "plt.figure(figsize=(10, 5))\n",
    "sns.boxplot(x=\"Owner_Type\", y=\"Price\", data=df)"
   ]
  },
  {
   "cell_type": "markdown",
   "id": "d70b5a76",
   "metadata": {},
   "source": [
    "- First owners seem to very slightly sell for higher prices than the rest, with second owners following closely"
   ]
  },
  {
   "cell_type": "code",
   "execution_count": 1435,
   "id": "f6d701c0",
   "metadata": {},
   "outputs": [
    {
     "data": {
      "text/plain": [
       "<AxesSubplot:xlabel='Transmission', ylabel='Price'>"
      ]
     },
     "execution_count": 1435,
     "metadata": {},
     "output_type": "execute_result"
    },
    {
     "data": {
      "image/png": "[encoded data removed]",
      "text/plain": [
       "<Figure size 720x360 with 1 Axes>"
      ]
     },
     "metadata": {},
     "output_type": "display_data"
    },
    {
     "data": {
      "application/javascript": [
       "\n",
       "            setTimeout(function() {\n",
       "                var nbb_cell_id = 1435;\n",
       "                var nbb_unformatted_code = \"plt.figure(figsize=(10, 5))\\nsns.boxplot(x=\\\"Transmission\\\", y=\\\"Price\\\", data=df)\";\n",
       "                var nbb_formatted_code = \"plt.figure(figsize=(10, 5))\\nsns.boxplot(x=\\\"Transmission\\\", y=\\\"Price\\\", data=df)\";\n",
       "                var nbb_cells = Jupyter.notebook.get_cells();\n",
       "                for (var i = 0; i < nbb_cells.length; ++i) {\n",
       "                    if (nbb_cells[i].input_prompt_number == nbb_cell_id) {\n",
       "                        if (nbb_cells[i].get_text() == nbb_unformatted_code) {\n",
       "                             nbb_cells[i].set_text(nbb_formatted_code);\n",
       "                        }\n",
       "                        break;\n",
       "                    }\n",
       "                }\n",
       "            }, 500);\n",
       "            "
      ],
      "text/plain": [
       "<IPython.core.display.Javascript object>"
      ]
     },
     "metadata": {},
     "output_type": "display_data"
    }
   ],
   "source": [
    "plt.figure(figsize=(10, 5))\n",
    "sns.boxplot(x=\"Transmission\", y=\"Price\", data=df)"
   ]
  },
  {
   "cell_type": "markdown",
   "id": "73d44649",
   "metadata": {},
   "source": [
    "- It seems like automatic generally tends to sell for higher prices than manual transmission"
   ]
  },
  {
   "cell_type": "code",
   "execution_count": 1436,
   "id": "f1d4c6a9",
   "metadata": {},
   "outputs": [
    {
     "data": {
      "text/plain": [
       "<AxesSubplot:xlabel='Fuel_Type', ylabel='Price'>"
      ]
     },
     "execution_count": 1436,
     "metadata": {},
     "output_type": "execute_result"
    },
    {
     "data": {
      "image/png": "[encoded data removed]",
      "text/plain": [
       "<Figure size 720x360 with 1 Axes>"
      ]
     },
     "metadata": {},
     "output_type": "display_data"
    },
    {
     "data": {
      "application/javascript": [
       "\n",
       "            setTimeout(function() {\n",
       "                var nbb_cell_id = 1436;\n",
       "                var nbb_unformatted_code = \"plt.figure(figsize=(10, 5))\\nsns.boxplot(x=\\\"Fuel_Type\\\", y=\\\"Price\\\", data=df)\";\n",
       "                var nbb_formatted_code = \"plt.figure(figsize=(10, 5))\\nsns.boxplot(x=\\\"Fuel_Type\\\", y=\\\"Price\\\", data=df)\";\n",
       "                var nbb_cells = Jupyter.notebook.get_cells();\n",
       "                for (var i = 0; i < nbb_cells.length; ++i) {\n",
       "                    if (nbb_cells[i].input_prompt_number == nbb_cell_id) {\n",
       "                        if (nbb_cells[i].get_text() == nbb_unformatted_code) {\n",
       "                             nbb_cells[i].set_text(nbb_formatted_code);\n",
       "                        }\n",
       "                        break;\n",
       "                    }\n",
       "                }\n",
       "            }, 500);\n",
       "            "
      ],
      "text/plain": [
       "<IPython.core.display.Javascript object>"
      ]
     },
     "metadata": {},
     "output_type": "display_data"
    }
   ],
   "source": [
    "plt.figure(figsize=(10, 5))\n",
    "sns.boxplot(x=\"Fuel_Type\", y=\"Price\", data=df)"
   ]
  },
  {
   "cell_type": "markdown",
   "id": "71655663",
   "metadata": {},
   "source": [
    "- Diesel has a wider spread than the other types of fuel but both diesel and petrol sell for higher than CNG or LPG Fuel types"
   ]
  },
  {
   "cell_type": "code",
   "execution_count": 1437,
   "id": "feaf36fc",
   "metadata": {},
   "outputs": [
    {
     "data": {
      "text/plain": [
       "<AxesSubplot:xlabel='Location', ylabel='Price'>"
      ]
     },
     "execution_count": 1437,
     "metadata": {},
     "output_type": "execute_result"
    },
    {
     "data": {
      "image/png": "[encoded data removed]",
      "text/plain": [
       "<Figure size 720x360 with 1 Axes>"
      ]
     },
     "metadata": {},
     "output_type": "display_data"
    },
    {
     "data": {
      "application/javascript": [
       "\n",
       "            setTimeout(function() {\n",
       "                var nbb_cell_id = 1437;\n",
       "                var nbb_unformatted_code = \"plt.figure(figsize=(10, 5))\\nsns.boxplot(x=\\\"Location\\\", y=\\\"Price\\\", data=df)\";\n",
       "                var nbb_formatted_code = \"plt.figure(figsize=(10, 5))\\nsns.boxplot(x=\\\"Location\\\", y=\\\"Price\\\", data=df)\";\n",
       "                var nbb_cells = Jupyter.notebook.get_cells();\n",
       "                for (var i = 0; i < nbb_cells.length; ++i) {\n",
       "                    if (nbb_cells[i].input_prompt_number == nbb_cell_id) {\n",
       "                        if (nbb_cells[i].get_text() == nbb_unformatted_code) {\n",
       "                             nbb_cells[i].set_text(nbb_formatted_code);\n",
       "                        }\n",
       "                        break;\n",
       "                    }\n",
       "                }\n",
       "            }, 500);\n",
       "            "
      ],
      "text/plain": [
       "<IPython.core.display.Javascript object>"
      ]
     },
     "metadata": {},
     "output_type": "display_data"
    }
   ],
   "source": [
    "plt.figure(figsize=(10, 5))\n",
    "sns.boxplot(x=\"Location\", y=\"Price\", data=df)"
   ]
  },
  {
   "cell_type": "markdown",
   "id": "0d93aa4c",
   "metadata": {},
   "source": [
    "- There doesn't seem to be a significant difference in prices between cars sold from various regions"
   ]
  },
  {
   "cell_type": "markdown",
   "id": "6eddc2e6",
   "metadata": {},
   "source": [
    "### Variable Transformation"
   ]
  },
  {
   "cell_type": "code",
   "execution_count": 1438,
   "id": "b0b730c0",
   "metadata": {},
   "outputs": [
    {
     "data": {
      "image/png": "[encoded data removed]",
      "text/plain": [
       "<Figure size 432x288 with 1 Axes>"
      ]
     },
     "metadata": {},
     "output_type": "display_data"
    },
    {
     "name": "stdout",
     "output_type": "stream",
     "text": [
      "0\n"
     ]
    },
    {
     "data": {
      "image/png": "[encoded data removed]",
      "text/plain": [
       "<Figure size 432x288 with 1 Axes>"
      ]
     },
     "metadata": {},
     "output_type": "display_data"
    },
    {
     "name": "stdout",
     "output_type": "stream",
     "text": [
      "0\n"
     ]
    },
    {
     "data": {
      "image/png": "[encoded data removed]",
      "text/plain": [
       "<Figure size 432x288 with 1 Axes>"
      ]
     },
     "metadata": {},
     "output_type": "display_data"
    },
    {
     "name": "stdout",
     "output_type": "stream",
     "text": [
      "0\n"
     ]
    },
    {
     "data": {
      "application/javascript": [
       "\n",
       "            setTimeout(function() {\n",
       "                var nbb_cell_id = 1438;\n",
       "                var nbb_unformatted_code = \"cols_to_log = [\\\"Kilometers_Driven\\\", \\\"Engine\\\", \\\"Power\\\"]\\nfor colname in cols_to_log:\\n    plt.hist(df[colname], bins=50)\\n    plt.title(colname)\\n    plt.show()\\n    print(np.sum(df[colname] <= 0))\";\n",
       "                var nbb_formatted_code = \"cols_to_log = [\\\"Kilometers_Driven\\\", \\\"Engine\\\", \\\"Power\\\"]\\nfor colname in cols_to_log:\\n    plt.hist(df[colname], bins=50)\\n    plt.title(colname)\\n    plt.show()\\n    print(np.sum(df[colname] <= 0))\";\n",
       "                var nbb_cells = Jupyter.notebook.get_cells();\n",
       "                for (var i = 0; i < nbb_cells.length; ++i) {\n",
       "                    if (nbb_cells[i].input_prompt_number == nbb_cell_id) {\n",
       "                        if (nbb_cells[i].get_text() == nbb_unformatted_code) {\n",
       "                             nbb_cells[i].set_text(nbb_formatted_code);\n",
       "                        }\n",
       "                        break;\n",
       "                    }\n",
       "                }\n",
       "            }, 500);\n",
       "            "
      ],
      "text/plain": [
       "<IPython.core.display.Javascript object>"
      ]
     },
     "metadata": {},
     "output_type": "display_data"
    }
   ],
   "source": [
    "cols_to_log = [\"Kilometers_Driven\", \"Engine\", \"Power\"]\n",
    "for colname in cols_to_log:\n",
    "    plt.hist(df[colname], bins=50)\n",
    "    plt.title(colname)\n",
    "    plt.show()\n",
    "    print(np.sum(df[colname] <= 0))"
   ]
  },
  {
   "cell_type": "markdown",
   "id": "73f4b406",
   "metadata": {},
   "source": [
    "Most of these are pretty skewed so I will be running a log transformation on them"
   ]
  },
  {
   "cell_type": "code",
   "execution_count": 1439,
   "id": "97b8f109",
   "metadata": {},
   "outputs": [
    {
     "data": {
      "image/png": "[encoded data removed]",
      "text/plain": [
       "<Figure size 432x288 with 1 Axes>"
      ]
     },
     "metadata": {},
     "output_type": "display_data"
    },
    {
     "data": {
      "image/png": "[encoded data removed]",
      "text/plain": [
       "<Figure size 432x288 with 1 Axes>"
      ]
     },
     "metadata": {},
     "output_type": "display_data"
    },
    {
     "data": {
      "image/png": "[encoded data removed]",
      "text/plain": [
       "<Figure size 432x288 with 1 Axes>"
      ]
     },
     "metadata": {},
     "output_type": "display_data"
    },
    {
     "data": {
      "application/javascript": [
       "\n",
       "            setTimeout(function() {\n",
       "                var nbb_cell_id = 1439;\n",
       "                var nbb_unformatted_code = \"plt.hist(np.log(df[\\\"Kilometers_Driven\\\"] + 1), 50)\\nplt.title(\\\"log(Kilometers_Driven+1)\\\")\\nplt.show()\\nplt.hist(np.arcsinh(df[\\\"Kilometers_Driven\\\"] + 1), 50)\\nplt.title(\\\"arcsinh(Kilometers_Driven+1)\\\")\\nplt.show()\\nplt.hist(np.sqrt(df[\\\"Kilometers_Driven\\\"] + 1), 50)\\nplt.title(\\\"sqrt(Kilometers_Driven+1)\\\")\\nplt.show()\";\n",
       "                var nbb_formatted_code = \"plt.hist(np.log(df[\\\"Kilometers_Driven\\\"] + 1), 50)\\nplt.title(\\\"log(Kilometers_Driven+1)\\\")\\nplt.show()\\nplt.hist(np.arcsinh(df[\\\"Kilometers_Driven\\\"] + 1), 50)\\nplt.title(\\\"arcsinh(Kilometers_Driven+1)\\\")\\nplt.show()\\nplt.hist(np.sqrt(df[\\\"Kilometers_Driven\\\"] + 1), 50)\\nplt.title(\\\"sqrt(Kilometers_Driven+1)\\\")\\nplt.show()\";\n",
       "                var nbb_cells = Jupyter.notebook.get_cells();\n",
       "                for (var i = 0; i < nbb_cells.length; ++i) {\n",
       "                    if (nbb_cells[i].input_prompt_number == nbb_cell_id) {\n",
       "                        if (nbb_cells[i].get_text() == nbb_unformatted_code) {\n",
       "                             nbb_cells[i].set_text(nbb_formatted_code);\n",
       "                        }\n",
       "                        break;\n",
       "                    }\n",
       "                }\n",
       "            }, 500);\n",
       "            "
      ],
      "text/plain": [
       "<IPython.core.display.Javascript object>"
      ]
     },
     "metadata": {},
     "output_type": "display_data"
    }
   ],
   "source": [
    "plt.hist(np.log(df[\"Kilometers_Driven\"] + 1), 50)\n",
    "plt.title(\"log(Kilometers_Driven+1)\")\n",
    "plt.show()\n",
    "plt.hist(np.arcsinh(df[\"Kilometers_Driven\"] + 1), 50)\n",
    "plt.title(\"arcsinh(Kilometers_Driven+1)\")\n",
    "plt.show()\n",
    "plt.hist(np.sqrt(df[\"Kilometers_Driven\"] + 1), 50)\n",
    "plt.title(\"sqrt(Kilometers_Driven+1)\")\n",
    "plt.show()"
   ]
  },
  {
   "cell_type": "markdown",
   "id": "1feaad13",
   "metadata": {},
   "source": [
    "The log function did a pretty good job of normalizing the distribution but sqrt seems slightly better"
   ]
  },
  {
   "cell_type": "code",
   "execution_count": 1440,
   "id": "db037962",
   "metadata": {},
   "outputs": [
    {
     "data": {
      "image/png": "[encoded data removed]",
      "text/plain": [
       "<Figure size 432x288 with 1 Axes>"
      ]
     },
     "metadata": {},
     "output_type": "display_data"
    },
    {
     "data": {
      "image/png": "[encoded data removed]",
      "text/plain": [
       "<Figure size 432x288 with 1 Axes>"
      ]
     },
     "metadata": {},
     "output_type": "display_data"
    },
    {
     "data": {
      "image/png": "[encoded data removed]",
      "text/plain": [
       "<Figure size 432x288 with 1 Axes>"
      ]
     },
     "metadata": {},
     "output_type": "display_data"
    },
    {
     "data": {
      "application/javascript": [
       "\n",
       "            setTimeout(function() {\n",
       "                var nbb_cell_id = 1440;\n",
       "                var nbb_unformatted_code = \"plt.hist(np.log(df[\\\"Engine\\\"] + 1), 50)\\nplt.title(\\\"log(Engine+1)\\\")\\nplt.show()\\nplt.hist(np.arcsinh(df[\\\"Engine\\\"] + 1), 50)\\nplt.title(\\\"arcsinh(Engine+1)\\\")\\nplt.show()\\nplt.hist(np.sqrt(df[\\\"Engine\\\"] + 1), 50)\\nplt.title(\\\"sqrt(Engine+1)\\\")\\nplt.show()\";\n",
       "                var nbb_formatted_code = \"plt.hist(np.log(df[\\\"Engine\\\"] + 1), 50)\\nplt.title(\\\"log(Engine+1)\\\")\\nplt.show()\\nplt.hist(np.arcsinh(df[\\\"Engine\\\"] + 1), 50)\\nplt.title(\\\"arcsinh(Engine+1)\\\")\\nplt.show()\\nplt.hist(np.sqrt(df[\\\"Engine\\\"] + 1), 50)\\nplt.title(\\\"sqrt(Engine+1)\\\")\\nplt.show()\";\n",
       "                var nbb_cells = Jupyter.notebook.get_cells();\n",
       "                for (var i = 0; i < nbb_cells.length; ++i) {\n",
       "                    if (nbb_cells[i].input_prompt_number == nbb_cell_id) {\n",
       "                        if (nbb_cells[i].get_text() == nbb_unformatted_code) {\n",
       "                             nbb_cells[i].set_text(nbb_formatted_code);\n",
       "                        }\n",
       "                        break;\n",
       "                    }\n",
       "                }\n",
       "            }, 500);\n",
       "            "
      ],
      "text/plain": [
       "<IPython.core.display.Javascript object>"
      ]
     },
     "metadata": {},
     "output_type": "display_data"
    }
   ],
   "source": [
    "plt.hist(np.log(df[\"Engine\"] + 1), 50)\n",
    "plt.title(\"log(Engine+1)\")\n",
    "plt.show()\n",
    "plt.hist(np.arcsinh(df[\"Engine\"] + 1), 50)\n",
    "plt.title(\"arcsinh(Engine+1)\")\n",
    "plt.show()\n",
    "plt.hist(np.sqrt(df[\"Engine\"] + 1), 50)\n",
    "plt.title(\"sqrt(Engine+1)\")\n",
    "plt.show()"
   ]
  },
  {
   "cell_type": "markdown",
   "id": "4444be76",
   "metadata": {},
   "source": [
    "- The transformation does not seem to have made too much of a difference but still relatively normally distributed."
   ]
  },
  {
   "cell_type": "code",
   "execution_count": 1441,
   "id": "844b724b",
   "metadata": {},
   "outputs": [
    {
     "data": {
      "image/png": "[encoded data removed]",
      "text/plain": [
       "<Figure size 432x288 with 1 Axes>"
      ]
     },
     "metadata": {},
     "output_type": "display_data"
    },
    {
     "data": {
      "image/png": "[encoded data removed]",
      "text/plain": [
       "<Figure size 432x288 with 1 Axes>"
      ]
     },
     "metadata": {},
     "output_type": "display_data"
    },
    {
     "data": {
      "image/png": "[encoded data removed]",
      "text/plain": [
       "<Figure size 432x288 with 1 Axes>"
      ]
     },
     "metadata": {},
     "output_type": "display_data"
    },
    {
     "data": {
      "application/javascript": [
       "\n",
       "            setTimeout(function() {\n",
       "                var nbb_cell_id = 1441;\n",
       "                var nbb_unformatted_code = \"plt.hist(np.log(df[\\\"Power\\\"] + 1), 50)\\nplt.title(\\\"log(Power+1)\\\")\\nplt.show()\\nplt.hist(np.arcsinh(df[\\\"Power\\\"] + 1), 50)\\nplt.title(\\\"arcsinh(Power+1)\\\")\\nplt.show()\\nplt.hist(np.sqrt(df[\\\"Power\\\"] + 1), 50)\\nplt.title(\\\"sqrt(Power+1)\\\")\\nplt.show()\";\n",
       "                var nbb_formatted_code = \"plt.hist(np.log(df[\\\"Power\\\"] + 1), 50)\\nplt.title(\\\"log(Power+1)\\\")\\nplt.show()\\nplt.hist(np.arcsinh(df[\\\"Power\\\"] + 1), 50)\\nplt.title(\\\"arcsinh(Power+1)\\\")\\nplt.show()\\nplt.hist(np.sqrt(df[\\\"Power\\\"] + 1), 50)\\nplt.title(\\\"sqrt(Power+1)\\\")\\nplt.show()\";\n",
       "                var nbb_cells = Jupyter.notebook.get_cells();\n",
       "                for (var i = 0; i < nbb_cells.length; ++i) {\n",
       "                    if (nbb_cells[i].input_prompt_number == nbb_cell_id) {\n",
       "                        if (nbb_cells[i].get_text() == nbb_unformatted_code) {\n",
       "                             nbb_cells[i].set_text(nbb_formatted_code);\n",
       "                        }\n",
       "                        break;\n",
       "                    }\n",
       "                }\n",
       "            }, 500);\n",
       "            "
      ],
      "text/plain": [
       "<IPython.core.display.Javascript object>"
      ]
     },
     "metadata": {},
     "output_type": "display_data"
    }
   ],
   "source": [
    "plt.hist(np.log(df[\"Power\"] + 1), 50)\n",
    "plt.title(\"log(Power+1)\")\n",
    "plt.show()\n",
    "plt.hist(np.arcsinh(df[\"Power\"] + 1), 50)\n",
    "plt.title(\"arcsinh(Power+1)\")\n",
    "plt.show()\n",
    "plt.hist(np.sqrt(df[\"Power\"] + 1), 50)\n",
    "plt.title(\"sqrt(Power+1)\")\n",
    "plt.show()"
   ]
  },
  {
   "cell_type": "markdown",
   "id": "06ded4ad",
   "metadata": {},
   "source": [
    "- The log transformation here seems to have normally distributed the power values."
   ]
  },
  {
   "cell_type": "code",
   "execution_count": 1442,
   "id": "10c714b7",
   "metadata": {},
   "outputs": [
    {
     "data": {
      "image/png": "[encoded data removed]",
      "text/plain": [
       "<Figure size 432x288 with 1 Axes>"
      ]
     },
     "metadata": {},
     "output_type": "display_data"
    },
    {
     "data": {
      "image/png": "[encoded data removed]",
      "text/plain": [
       "<Figure size 432x288 with 1 Axes>"
      ]
     },
     "metadata": {},
     "output_type": "display_data"
    },
    {
     "data": {
      "image/png": "[encoded data removed]",
      "text/plain": [
       "<Figure size 432x288 with 1 Axes>"
      ]
     },
     "metadata": {},
     "output_type": "display_data"
    },
    {
     "data": {
      "application/javascript": [
       "\n",
       "            setTimeout(function() {\n",
       "                var nbb_cell_id = 1442;\n",
       "                var nbb_unformatted_code = \"plt.hist(np.log(df[\\\"New_Price\\\"] + 1), 50)\\nplt.title(\\\"log(New_Price+1)\\\")\\nplt.show()\\nplt.hist(np.arcsinh(df[\\\"New_Price\\\"] + 1), 50)\\nplt.title(\\\"arcsinh(New_Price+1)\\\")\\nplt.show()\\nplt.hist(np.sqrt(df[\\\"New_Price\\\"] + 1), 50)\\nplt.title(\\\"sqrt(New_Price+1)\\\")\\nplt.show()\";\n",
       "                var nbb_formatted_code = \"plt.hist(np.log(df[\\\"New_Price\\\"] + 1), 50)\\nplt.title(\\\"log(New_Price+1)\\\")\\nplt.show()\\nplt.hist(np.arcsinh(df[\\\"New_Price\\\"] + 1), 50)\\nplt.title(\\\"arcsinh(New_Price+1)\\\")\\nplt.show()\\nplt.hist(np.sqrt(df[\\\"New_Price\\\"] + 1), 50)\\nplt.title(\\\"sqrt(New_Price+1)\\\")\\nplt.show()\";\n",
       "                var nbb_cells = Jupyter.notebook.get_cells();\n",
       "                for (var i = 0; i < nbb_cells.length; ++i) {\n",
       "                    if (nbb_cells[i].input_prompt_number == nbb_cell_id) {\n",
       "                        if (nbb_cells[i].get_text() == nbb_unformatted_code) {\n",
       "                             nbb_cells[i].set_text(nbb_formatted_code);\n",
       "                        }\n",
       "                        break;\n",
       "                    }\n",
       "                }\n",
       "            }, 500);\n",
       "            "
      ],
      "text/plain": [
       "<IPython.core.display.Javascript object>"
      ]
     },
     "metadata": {},
     "output_type": "display_data"
    }
   ],
   "source": [
    "plt.hist(np.log(df[\"New_Price\"] + 1), 50)\n",
    "plt.title(\"log(New_Price+1)\")\n",
    "plt.show()\n",
    "plt.hist(np.arcsinh(df[\"New_Price\"] + 1), 50)\n",
    "plt.title(\"arcsinh(New_Price+1)\")\n",
    "plt.show()\n",
    "plt.hist(np.sqrt(df[\"New_Price\"] + 1), 50)\n",
    "plt.title(\"sqrt(New_Price+1)\")\n",
    "plt.show()"
   ]
  },
  {
   "cell_type": "markdown",
   "id": "792e1be7",
   "metadata": {},
   "source": [
    "- There does not seem to be a difference in skewness after the transformations here"
   ]
  },
  {
   "cell_type": "code",
   "execution_count": 1443,
   "id": "b746e40e",
   "metadata": {},
   "outputs": [
    {
     "data": {
      "application/javascript": [
       "\n",
       "            setTimeout(function() {\n",
       "                var nbb_cell_id = 1443;\n",
       "                var nbb_unformatted_code = \"# Creating new column with column name and log appended\\nfor colname in cols_to_log:\\n    df[colname + \\\"_log\\\"] = np.log(df[colname] + 1)\\ndf.drop(cols_to_log, axis=1, inplace=True)\";\n",
       "                var nbb_formatted_code = \"# Creating new column with column name and log appended\\nfor colname in cols_to_log:\\n    df[colname + \\\"_log\\\"] = np.log(df[colname] + 1)\\ndf.drop(cols_to_log, axis=1, inplace=True)\";\n",
       "                var nbb_cells = Jupyter.notebook.get_cells();\n",
       "                for (var i = 0; i < nbb_cells.length; ++i) {\n",
       "                    if (nbb_cells[i].input_prompt_number == nbb_cell_id) {\n",
       "                        if (nbb_cells[i].get_text() == nbb_unformatted_code) {\n",
       "                             nbb_cells[i].set_text(nbb_formatted_code);\n",
       "                        }\n",
       "                        break;\n",
       "                    }\n",
       "                }\n",
       "            }, 500);\n",
       "            "
      ],
      "text/plain": [
       "<IPython.core.display.Javascript object>"
      ]
     },
     "metadata": {},
     "output_type": "display_data"
    }
   ],
   "source": [
    "# Creating new column with column name and log appended\n",
    "for colname in cols_to_log:\n",
    "    df[colname + \"_log\"] = np.log(df[colname] + 1)\n",
    "df.drop(cols_to_log, axis=1, inplace=True)"
   ]
  },
  {
   "cell_type": "code",
   "execution_count": 1444,
   "id": "7f030e60",
   "metadata": {},
   "outputs": [
    {
     "data": {
      "image/png": "[encoded data removed]",
      "text/plain": [
       "<Figure size 864x720 with 2 Axes>"
      ]
     },
     "metadata": {},
     "output_type": "display_data"
    },
    {
     "data": {
      "application/javascript": [
       "\n",
       "            setTimeout(function() {\n",
       "                var nbb_cell_id = 1444;\n",
       "                var nbb_unformatted_code = \"# showing modified log heatmap\\nplt.figure(figsize=(12, 10))\\nsns.heatmap(df.corr(), annot=True)\\nplt.show()\";\n",
       "                var nbb_formatted_code = \"# showing modified log heatmap\\nplt.figure(figsize=(12, 10))\\nsns.heatmap(df.corr(), annot=True)\\nplt.show()\";\n",
       "                var nbb_cells = Jupyter.notebook.get_cells();\n",
       "                for (var i = 0; i < nbb_cells.length; ++i) {\n",
       "                    if (nbb_cells[i].input_prompt_number == nbb_cell_id) {\n",
       "                        if (nbb_cells[i].get_text() == nbb_unformatted_code) {\n",
       "                             nbb_cells[i].set_text(nbb_formatted_code);\n",
       "                        }\n",
       "                        break;\n",
       "                    }\n",
       "                }\n",
       "            }, 500);\n",
       "            "
      ],
      "text/plain": [
       "<IPython.core.display.Javascript object>"
      ]
     },
     "metadata": {},
     "output_type": "display_data"
    }
   ],
   "source": [
    "# showing modified log heatmap\n",
    "plt.figure(figsize=(12, 10))\n",
    "sns.heatmap(df.corr(), annot=True)\n",
    "plt.show()"
   ]
  },
  {
   "cell_type": "markdown",
   "id": "16f5944b",
   "metadata": {},
   "source": [
    "- Log of engine and log of power highly correlated\n",
    "- km driven and year are also relatively negatively correlated\n",
    "- engine_log and price are strongly correlated as well as the power_log and price"
   ]
  },
  {
   "cell_type": "markdown",
   "id": "c5b30429",
   "metadata": {},
   "source": [
    "### Building Model"
   ]
  },
  {
   "cell_type": "code",
   "execution_count": 1445,
   "id": "17df9231",
   "metadata": {},
   "outputs": [
    {
     "data": {
      "application/javascript": [
       "\n",
       "            setTimeout(function() {\n",
       "                var nbb_cell_id = 1445;\n",
       "                var nbb_unformatted_code = \"# defining the dependent variable\\ndf.drop([\\\"Name\\\"], axis=1, inplace=True)\\nind_vars = df.drop([\\\"Price\\\"], axis=1)\\ndep_var = df[[\\\"Price\\\"]]\";\n",
       "                var nbb_formatted_code = \"# defining the dependent variable\\ndf.drop([\\\"Name\\\"], axis=1, inplace=True)\\nind_vars = df.drop([\\\"Price\\\"], axis=1)\\ndep_var = df[[\\\"Price\\\"]]\";\n",
       "                var nbb_cells = Jupyter.notebook.get_cells();\n",
       "                for (var i = 0; i < nbb_cells.length; ++i) {\n",
       "                    if (nbb_cells[i].input_prompt_number == nbb_cell_id) {\n",
       "                        if (nbb_cells[i].get_text() == nbb_unformatted_code) {\n",
       "                             nbb_cells[i].set_text(nbb_formatted_code);\n",
       "                        }\n",
       "                        break;\n",
       "                    }\n",
       "                }\n",
       "            }, 500);\n",
       "            "
      ],
      "text/plain": [
       "<IPython.core.display.Javascript object>"
      ]
     },
     "metadata": {},
     "output_type": "display_data"
    }
   ],
   "source": [
    "# defining the dependent variable\n",
    "df.drop([\"Name\"], axis=1, inplace=True)\n",
    "ind_vars = df.drop([\"Price\"], axis=1)\n",
    "dep_var = df[[\"Price\"]]"
   ]
  },
  {
   "cell_type": "code",
   "execution_count": 1446,
   "id": "fd26c6d2",
   "metadata": {},
   "outputs": [
    {
     "data": {
      "text/html": [
       "<div>\n",
       "<style scoped>\n",
       "    .dataframe tbody tr th:only-of-type {\n",
       "        vertical-align: middle;\n",
       "    }\n",
       "\n",
       "    .dataframe tbody tr th {\n",
       "        vertical-align: top;\n",
       "    }\n",
       "\n",
       "    .dataframe thead th {\n",
       "        text-align: right;\n",
       "    }\n",
       "</style>\n",
       "<table border=\"1\" class=\"dataframe\">\n",
       "  <thead>\n",
       "    <tr style=\"text-align: right;\">\n",
       "      <th></th>\n",
       "      <th>Year</th>\n",
       "      <th>Mileage</th>\n",
       "      <th>Seats</th>\n",
       "      <th>New_Price</th>\n",
       "      <th>Car_Age</th>\n",
       "      <th>Kilometers_Driven_log</th>\n",
       "      <th>Engine_log</th>\n",
       "      <th>Power_log</th>\n",
       "      <th>Location_Bangalore</th>\n",
       "      <th>Location_Chennai</th>\n",
       "      <th>Location_Coimbatore</th>\n",
       "      <th>Location_Delhi</th>\n",
       "      <th>Location_Hyderabad</th>\n",
       "      <th>Location_Jaipur</th>\n",
       "      <th>Location_Kochi</th>\n",
       "      <th>Location_Kolkata</th>\n",
       "      <th>Location_Mumbai</th>\n",
       "      <th>Location_Pune</th>\n",
       "      <th>Fuel_Type_Diesel</th>\n",
       "      <th>Fuel_Type_LPG</th>\n",
       "      <th>Fuel_Type_Petrol</th>\n",
       "      <th>Transmission_Manual</th>\n",
       "      <th>Owner_Type_Fourth &amp; Above</th>\n",
       "      <th>Owner_Type_Second</th>\n",
       "      <th>Owner_Type_Third</th>\n",
       "      <th>Brand_Audi</th>\n",
       "      <th>Brand_BMW</th>\n",
       "      <th>Brand_Bentley</th>\n",
       "      <th>Brand_Chevrolet</th>\n",
       "      <th>Brand_Datsun</th>\n",
       "      <th>Brand_Fiat</th>\n",
       "      <th>Brand_Force</th>\n",
       "      <th>Brand_Ford</th>\n",
       "      <th>Brand_Honda</th>\n",
       "      <th>Brand_Hyundai</th>\n",
       "      <th>Brand_Isuzu</th>\n",
       "      <th>Brand_Jaguar</th>\n",
       "      <th>Brand_Jeep</th>\n",
       "      <th>Brand_Lamborghini</th>\n",
       "      <th>Brand_Land Rover</th>\n",
       "      <th>Brand_Mahindra</th>\n",
       "      <th>Brand_Maruti</th>\n",
       "      <th>Brand_Mercedes-Benz</th>\n",
       "      <th>Brand_Mini Cooper</th>\n",
       "      <th>Brand_Mitsubishi</th>\n",
       "      <th>Brand_Nissan</th>\n",
       "      <th>Brand_Porsche</th>\n",
       "      <th>Brand_Renault</th>\n",
       "      <th>Brand_Skoda</th>\n",
       "      <th>Brand_Smart</th>\n",
       "      <th>Brand_Tata</th>\n",
       "      <th>Brand_Toyota</th>\n",
       "      <th>Brand_Volkswagen</th>\n",
       "      <th>Brand_Volvo</th>\n",
       "    </tr>\n",
       "  </thead>\n",
       "  <tbody>\n",
       "    <tr>\n",
       "      <th>0</th>\n",
       "      <td>2010</td>\n",
       "      <td>26.60</td>\n",
       "      <td>5.0</td>\n",
       "      <td>11.39</td>\n",
       "      <td>11</td>\n",
       "      <td>11.184435</td>\n",
       "      <td>6.906755</td>\n",
       "      <td>4.080246</td>\n",
       "      <td>0</td>\n",
       "      <td>0</td>\n",
       "      <td>0</td>\n",
       "      <td>0</td>\n",
       "      <td>0</td>\n",
       "      <td>0</td>\n",
       "      <td>0</td>\n",
       "      <td>0</td>\n",
       "      <td>1</td>\n",
       "      <td>0</td>\n",
       "      <td>0</td>\n",
       "      <td>0</td>\n",
       "      <td>0</td>\n",
       "      <td>1</td>\n",
       "      <td>0</td>\n",
       "      <td>0</td>\n",
       "      <td>0</td>\n",
       "      <td>0</td>\n",
       "      <td>0</td>\n",
       "      <td>0</td>\n",
       "      <td>0</td>\n",
       "      <td>0</td>\n",
       "      <td>0</td>\n",
       "      <td>0</td>\n",
       "      <td>0</td>\n",
       "      <td>0</td>\n",
       "      <td>0</td>\n",
       "      <td>0</td>\n",
       "      <td>0</td>\n",
       "      <td>0</td>\n",
       "      <td>0</td>\n",
       "      <td>0</td>\n",
       "      <td>0</td>\n",
       "      <td>1</td>\n",
       "      <td>0</td>\n",
       "      <td>0</td>\n",
       "      <td>0</td>\n",
       "      <td>0</td>\n",
       "      <td>0</td>\n",
       "      <td>0</td>\n",
       "      <td>0</td>\n",
       "      <td>0</td>\n",
       "      <td>0</td>\n",
       "      <td>0</td>\n",
       "      <td>0</td>\n",
       "      <td>0</td>\n",
       "    </tr>\n",
       "    <tr>\n",
       "      <th>1</th>\n",
       "      <td>2015</td>\n",
       "      <td>19.67</td>\n",
       "      <td>5.0</td>\n",
       "      <td>11.39</td>\n",
       "      <td>6</td>\n",
       "      <td>10.621352</td>\n",
       "      <td>7.367077</td>\n",
       "      <td>4.845761</td>\n",
       "      <td>0</td>\n",
       "      <td>0</td>\n",
       "      <td>0</td>\n",
       "      <td>0</td>\n",
       "      <td>0</td>\n",
       "      <td>0</td>\n",
       "      <td>0</td>\n",
       "      <td>0</td>\n",
       "      <td>0</td>\n",
       "      <td>1</td>\n",
       "      <td>1</td>\n",
       "      <td>0</td>\n",
       "      <td>0</td>\n",
       "      <td>1</td>\n",
       "      <td>0</td>\n",
       "      <td>0</td>\n",
       "      <td>0</td>\n",
       "      <td>0</td>\n",
       "      <td>0</td>\n",
       "      <td>0</td>\n",
       "      <td>0</td>\n",
       "      <td>0</td>\n",
       "      <td>0</td>\n",
       "      <td>0</td>\n",
       "      <td>0</td>\n",
       "      <td>0</td>\n",
       "      <td>1</td>\n",
       "      <td>0</td>\n",
       "      <td>0</td>\n",
       "      <td>0</td>\n",
       "      <td>0</td>\n",
       "      <td>0</td>\n",
       "      <td>0</td>\n",
       "      <td>0</td>\n",
       "      <td>0</td>\n",
       "      <td>0</td>\n",
       "      <td>0</td>\n",
       "      <td>0</td>\n",
       "      <td>0</td>\n",
       "      <td>0</td>\n",
       "      <td>0</td>\n",
       "      <td>0</td>\n",
       "      <td>0</td>\n",
       "      <td>0</td>\n",
       "      <td>0</td>\n",
       "      <td>0</td>\n",
       "    </tr>\n",
       "    <tr>\n",
       "      <th>2</th>\n",
       "      <td>2011</td>\n",
       "      <td>18.20</td>\n",
       "      <td>5.0</td>\n",
       "      <td>8.61</td>\n",
       "      <td>10</td>\n",
       "      <td>10.736418</td>\n",
       "      <td>7.090077</td>\n",
       "      <td>4.496471</td>\n",
       "      <td>0</td>\n",
       "      <td>1</td>\n",
       "      <td>0</td>\n",
       "      <td>0</td>\n",
       "      <td>0</td>\n",
       "      <td>0</td>\n",
       "      <td>0</td>\n",
       "      <td>0</td>\n",
       "      <td>0</td>\n",
       "      <td>0</td>\n",
       "      <td>0</td>\n",
       "      <td>0</td>\n",
       "      <td>1</td>\n",
       "      <td>1</td>\n",
       "      <td>0</td>\n",
       "      <td>0</td>\n",
       "      <td>0</td>\n",
       "      <td>0</td>\n",
       "      <td>0</td>\n",
       "      <td>0</td>\n",
       "      <td>0</td>\n",
       "      <td>0</td>\n",
       "      <td>0</td>\n",
       "      <td>0</td>\n",
       "      <td>0</td>\n",
       "      <td>1</td>\n",
       "      <td>0</td>\n",
       "      <td>0</td>\n",
       "      <td>0</td>\n",
       "      <td>0</td>\n",
       "      <td>0</td>\n",
       "      <td>0</td>\n",
       "      <td>0</td>\n",
       "      <td>0</td>\n",
       "      <td>0</td>\n",
       "      <td>0</td>\n",
       "      <td>0</td>\n",
       "      <td>0</td>\n",
       "      <td>0</td>\n",
       "      <td>0</td>\n",
       "      <td>0</td>\n",
       "      <td>0</td>\n",
       "      <td>0</td>\n",
       "      <td>0</td>\n",
       "      <td>0</td>\n",
       "      <td>0</td>\n",
       "    </tr>\n",
       "    <tr>\n",
       "      <th>3</th>\n",
       "      <td>2012</td>\n",
       "      <td>20.77</td>\n",
       "      <td>7.0</td>\n",
       "      <td>11.39</td>\n",
       "      <td>9</td>\n",
       "      <td>11.373675</td>\n",
       "      <td>7.130099</td>\n",
       "      <td>4.497139</td>\n",
       "      <td>0</td>\n",
       "      <td>1</td>\n",
       "      <td>0</td>\n",
       "      <td>0</td>\n",
       "      <td>0</td>\n",
       "      <td>0</td>\n",
       "      <td>0</td>\n",
       "      <td>0</td>\n",
       "      <td>0</td>\n",
       "      <td>0</td>\n",
       "      <td>1</td>\n",
       "      <td>0</td>\n",
       "      <td>0</td>\n",
       "      <td>1</td>\n",
       "      <td>0</td>\n",
       "      <td>0</td>\n",
       "      <td>0</td>\n",
       "      <td>0</td>\n",
       "      <td>0</td>\n",
       "      <td>0</td>\n",
       "      <td>0</td>\n",
       "      <td>0</td>\n",
       "      <td>0</td>\n",
       "      <td>0</td>\n",
       "      <td>0</td>\n",
       "      <td>0</td>\n",
       "      <td>0</td>\n",
       "      <td>0</td>\n",
       "      <td>0</td>\n",
       "      <td>0</td>\n",
       "      <td>0</td>\n",
       "      <td>0</td>\n",
       "      <td>0</td>\n",
       "      <td>1</td>\n",
       "      <td>0</td>\n",
       "      <td>0</td>\n",
       "      <td>0</td>\n",
       "      <td>0</td>\n",
       "      <td>0</td>\n",
       "      <td>0</td>\n",
       "      <td>0</td>\n",
       "      <td>0</td>\n",
       "      <td>0</td>\n",
       "      <td>0</td>\n",
       "      <td>0</td>\n",
       "      <td>0</td>\n",
       "    </tr>\n",
       "    <tr>\n",
       "      <th>4</th>\n",
       "      <td>2013</td>\n",
       "      <td>15.20</td>\n",
       "      <td>5.0</td>\n",
       "      <td>11.39</td>\n",
       "      <td>8</td>\n",
       "      <td>10.613271</td>\n",
       "      <td>7.585281</td>\n",
       "      <td>4.954418</td>\n",
       "      <td>0</td>\n",
       "      <td>0</td>\n",
       "      <td>1</td>\n",
       "      <td>0</td>\n",
       "      <td>0</td>\n",
       "      <td>0</td>\n",
       "      <td>0</td>\n",
       "      <td>0</td>\n",
       "      <td>0</td>\n",
       "      <td>0</td>\n",
       "      <td>1</td>\n",
       "      <td>0</td>\n",
       "      <td>0</td>\n",
       "      <td>0</td>\n",
       "      <td>0</td>\n",
       "      <td>1</td>\n",
       "      <td>0</td>\n",
       "      <td>1</td>\n",
       "      <td>0</td>\n",
       "      <td>0</td>\n",
       "      <td>0</td>\n",
       "      <td>0</td>\n",
       "      <td>0</td>\n",
       "      <td>0</td>\n",
       "      <td>0</td>\n",
       "      <td>0</td>\n",
       "      <td>0</td>\n",
       "      <td>0</td>\n",
       "      <td>0</td>\n",
       "      <td>0</td>\n",
       "      <td>0</td>\n",
       "      <td>0</td>\n",
       "      <td>0</td>\n",
       "      <td>0</td>\n",
       "      <td>0</td>\n",
       "      <td>0</td>\n",
       "      <td>0</td>\n",
       "      <td>0</td>\n",
       "      <td>0</td>\n",
       "      <td>0</td>\n",
       "      <td>0</td>\n",
       "      <td>0</td>\n",
       "      <td>0</td>\n",
       "      <td>0</td>\n",
       "      <td>0</td>\n",
       "      <td>0</td>\n",
       "    </tr>\n",
       "  </tbody>\n",
       "</table>\n",
       "</div>"
      ],
      "text/plain": [
       "   Year  Mileage  Seats  New_Price  Car_Age  Kilometers_Driven_log  \\\n",
       "0  2010    26.60    5.0      11.39       11              11.184435   \n",
       "1  2015    19.67    5.0      11.39        6              10.621352   \n",
       "2  2011    18.20    5.0       8.61       10              10.736418   \n",
       "3  2012    20.77    7.0      11.39        9              11.373675   \n",
       "4  2013    15.20    5.0      11.39        8              10.613271   \n",
       "\n",
       "   Engine_log  Power_log  Location_Bangalore  Location_Chennai  \\\n",
       "0    6.906755   4.080246                   0                 0   \n",
       "1    7.367077   4.845761                   0                 0   \n",
       "2    7.090077   4.496471                   0                 1   \n",
       "3    7.130099   4.497139                   0                 1   \n",
       "4    7.585281   4.954418                   0                 0   \n",
       "\n",
       "   Location_Coimbatore  Location_Delhi  Location_Hyderabad  Location_Jaipur  \\\n",
       "0                    0               0                   0                0   \n",
       "1                    0               0                   0                0   \n",
       "2                    0               0                   0                0   \n",
       "3                    0               0                   0                0   \n",
       "4                    1               0                   0                0   \n",
       "\n",
       "   Location_Kochi  Location_Kolkata  Location_Mumbai  Location_Pune  \\\n",
       "0               0                 0                1              0   \n",
       "1               0                 0                0              1   \n",
       "2               0                 0                0              0   \n",
       "3               0                 0                0              0   \n",
       "4               0                 0                0              0   \n",
       "\n",
       "   Fuel_Type_Diesel  Fuel_Type_LPG  Fuel_Type_Petrol  Transmission_Manual  \\\n",
       "0                 0              0                 0                    1   \n",
       "1                 1              0                 0                    1   \n",
       "2                 0              0                 1                    1   \n",
       "3                 1              0                 0                    1   \n",
       "4                 1              0                 0                    0   \n",
       "\n",
       "   Owner_Type_Fourth & Above  Owner_Type_Second  Owner_Type_Third  Brand_Audi  \\\n",
       "0                          0                  0                 0           0   \n",
       "1                          0                  0                 0           0   \n",
       "2                          0                  0                 0           0   \n",
       "3                          0                  0                 0           0   \n",
       "4                          0                  1                 0           1   \n",
       "\n",
       "   Brand_BMW  Brand_Bentley  Brand_Chevrolet  Brand_Datsun  Brand_Fiat  \\\n",
       "0          0              0                0             0           0   \n",
       "1          0              0                0             0           0   \n",
       "2          0              0                0             0           0   \n",
       "3          0              0                0             0           0   \n",
       "4          0              0                0             0           0   \n",
       "\n",
       "   Brand_Force  Brand_Ford  Brand_Honda  Brand_Hyundai  Brand_Isuzu  \\\n",
       "0            0           0            0              0            0   \n",
       "1            0           0            0              1            0   \n",
       "2            0           0            1              0            0   \n",
       "3            0           0            0              0            0   \n",
       "4            0           0            0              0            0   \n",
       "\n",
       "   Brand_Jaguar  Brand_Jeep  Brand_Lamborghini  Brand_Land Rover  \\\n",
       "0             0           0                  0                 0   \n",
       "1             0           0                  0                 0   \n",
       "2             0           0                  0                 0   \n",
       "3             0           0                  0                 0   \n",
       "4             0           0                  0                 0   \n",
       "\n",
       "   Brand_Mahindra  Brand_Maruti  Brand_Mercedes-Benz  Brand_Mini Cooper  \\\n",
       "0               0             1                    0                  0   \n",
       "1               0             0                    0                  0   \n",
       "2               0             0                    0                  0   \n",
       "3               0             1                    0                  0   \n",
       "4               0             0                    0                  0   \n",
       "\n",
       "   Brand_Mitsubishi  Brand_Nissan  Brand_Porsche  Brand_Renault  Brand_Skoda  \\\n",
       "0                 0             0              0              0            0   \n",
       "1                 0             0              0              0            0   \n",
       "2                 0             0              0              0            0   \n",
       "3                 0             0              0              0            0   \n",
       "4                 0             0              0              0            0   \n",
       "\n",
       "   Brand_Smart  Brand_Tata  Brand_Toyota  Brand_Volkswagen  Brand_Volvo  \n",
       "0            0           0             0                 0            0  \n",
       "1            0           0             0                 0            0  \n",
       "2            0           0             0                 0            0  \n",
       "3            0           0             0                 0            0  \n",
       "4            0           0             0                 0            0  "
      ]
     },
     "execution_count": 1446,
     "metadata": {},
     "output_type": "execute_result"
    },
    {
     "data": {
      "application/javascript": [
       "\n",
       "            setTimeout(function() {\n",
       "                var nbb_cell_id = 1446;\n",
       "                var nbb_unformatted_code = \"# creating dummies for categorical variables\\ndef encode_cat_vars(x):\\n    x = pd.get_dummies(\\n        x,\\n        columns=x.select_dtypes(include=[\\\"category\\\"]).columns.tolist(),\\n        drop_first=True,\\n    )\\n    return x\\n\\n\\nind_vars = encode_cat_vars(ind_vars)\\nind_vars.head()\";\n",
       "                var nbb_formatted_code = \"# creating dummies for categorical variables\\ndef encode_cat_vars(x):\\n    x = pd.get_dummies(\\n        x,\\n        columns=x.select_dtypes(include=[\\\"category\\\"]).columns.tolist(),\\n        drop_first=True,\\n    )\\n    return x\\n\\n\\nind_vars = encode_cat_vars(ind_vars)\\nind_vars.head()\";\n",
       "                var nbb_cells = Jupyter.notebook.get_cells();\n",
       "                for (var i = 0; i < nbb_cells.length; ++i) {\n",
       "                    if (nbb_cells[i].input_prompt_number == nbb_cell_id) {\n",
       "                        if (nbb_cells[i].get_text() == nbb_unformatted_code) {\n",
       "                             nbb_cells[i].set_text(nbb_formatted_code);\n",
       "                        }\n",
       "                        break;\n",
       "                    }\n",
       "                }\n",
       "            }, 500);\n",
       "            "
      ],
      "text/plain": [
       "<IPython.core.display.Javascript object>"
      ]
     },
     "metadata": {},
     "output_type": "display_data"
    }
   ],
   "source": [
    "# creating dummies for categorical variables\n",
    "def encode_cat_vars(x):\n",
    "    x = pd.get_dummies(\n",
    "        x,\n",
    "        columns=x.select_dtypes(include=[\"category\"]).columns.tolist(),\n",
    "        drop_first=True,\n",
    "    )\n",
    "    return x\n",
    "\n",
    "\n",
    "ind_vars = encode_cat_vars(ind_vars)\n",
    "ind_vars.head()"
   ]
  },
  {
   "cell_type": "code",
   "execution_count": 1447,
   "id": "dc258722",
   "metadata": {},
   "outputs": [
    {
     "data": {
      "text/plain": [
       "(4826, 54)"
      ]
     },
     "execution_count": 1447,
     "metadata": {},
     "output_type": "execute_result"
    },
    {
     "data": {
      "application/javascript": [
       "\n",
       "            setTimeout(function() {\n",
       "                var nbb_cell_id = 1447;\n",
       "                var nbb_unformatted_code = \"ind_vars.shape\";\n",
       "                var nbb_formatted_code = \"ind_vars.shape\";\n",
       "                var nbb_cells = Jupyter.notebook.get_cells();\n",
       "                for (var i = 0; i < nbb_cells.length; ++i) {\n",
       "                    if (nbb_cells[i].input_prompt_number == nbb_cell_id) {\n",
       "                        if (nbb_cells[i].get_text() == nbb_unformatted_code) {\n",
       "                             nbb_cells[i].set_text(nbb_formatted_code);\n",
       "                        }\n",
       "                        break;\n",
       "                    }\n",
       "                }\n",
       "            }, 500);\n",
       "            "
      ],
      "text/plain": [
       "<IPython.core.display.Javascript object>"
      ]
     },
     "metadata": {},
     "output_type": "display_data"
    }
   ],
   "source": [
    "ind_vars.shape"
   ]
  },
  {
   "cell_type": "code",
   "execution_count": 1448,
   "id": "0f59be05",
   "metadata": {},
   "outputs": [
    {
     "data": {
      "application/javascript": [
       "\n",
       "            setTimeout(function() {\n",
       "                var nbb_cell_id = 1448;\n",
       "                var nbb_unformatted_code = \"# splitting into training and testing data\\n\\nfrom sklearn.model_selection import train_test_split\\n\\nx_train, x_test, y_train, y_test = train_test_split(\\n    ind_vars, dep_var, test_size=0.3, random_state=1\\n)\";\n",
       "                var nbb_formatted_code = \"# splitting into training and testing data\\n\\nfrom sklearn.model_selection import train_test_split\\n\\nx_train, x_test, y_train, y_test = train_test_split(\\n    ind_vars, dep_var, test_size=0.3, random_state=1\\n)\";\n",
       "                var nbb_cells = Jupyter.notebook.get_cells();\n",
       "                for (var i = 0; i < nbb_cells.length; ++i) {\n",
       "                    if (nbb_cells[i].input_prompt_number == nbb_cell_id) {\n",
       "                        if (nbb_cells[i].get_text() == nbb_unformatted_code) {\n",
       "                             nbb_cells[i].set_text(nbb_formatted_code);\n",
       "                        }\n",
       "                        break;\n",
       "                    }\n",
       "                }\n",
       "            }, 500);\n",
       "            "
      ],
      "text/plain": [
       "<IPython.core.display.Javascript object>"
      ]
     },
     "metadata": {},
     "output_type": "display_data"
    }
   ],
   "source": [
    "# splitting into training and testing data\n",
    "\n",
    "from sklearn.model_selection import train_test_split\n",
    "\n",
    "x_train, x_test, y_train, y_test = train_test_split(\n",
    "    ind_vars, dep_var, test_size=0.3, random_state=1\n",
    ")"
   ]
  },
  {
   "cell_type": "code",
   "execution_count": 1449,
   "id": "07a50e22",
   "metadata": {},
   "outputs": [
    {
     "name": "stdout",
     "output_type": "stream",
     "text": [
      "Number of rows in train data = 3378\n",
      "Number of rows in test data = 1448\n"
     ]
    },
    {
     "data": {
      "application/javascript": [
       "\n",
       "            setTimeout(function() {\n",
       "                var nbb_cell_id = 1449;\n",
       "                var nbb_unformatted_code = \"print(\\\"Number of rows in train data =\\\", x_train.shape[0])\\nprint(\\\"Number of rows in test data =\\\", x_test.shape[0])\";\n",
       "                var nbb_formatted_code = \"print(\\\"Number of rows in train data =\\\", x_train.shape[0])\\nprint(\\\"Number of rows in test data =\\\", x_test.shape[0])\";\n",
       "                var nbb_cells = Jupyter.notebook.get_cells();\n",
       "                for (var i = 0; i < nbb_cells.length; ++i) {\n",
       "                    if (nbb_cells[i].input_prompt_number == nbb_cell_id) {\n",
       "                        if (nbb_cells[i].get_text() == nbb_unformatted_code) {\n",
       "                             nbb_cells[i].set_text(nbb_formatted_code);\n",
       "                        }\n",
       "                        break;\n",
       "                    }\n",
       "                }\n",
       "            }, 500);\n",
       "            "
      ],
      "text/plain": [
       "<IPython.core.display.Javascript object>"
      ]
     },
     "metadata": {},
     "output_type": "display_data"
    }
   ],
   "source": [
    "print(\"Number of rows in train data =\", x_train.shape[0])\n",
    "print(\"Number of rows in test data =\", x_test.shape[0])"
   ]
  },
  {
   "cell_type": "code",
   "execution_count": 1450,
   "id": "777b2e86",
   "metadata": {},
   "outputs": [
    {
     "data": {
      "text/plain": [
       "LinearRegression()"
      ]
     },
     "execution_count": 1450,
     "metadata": {},
     "output_type": "execute_result"
    },
    {
     "data": {
      "application/javascript": [
       "\n",
       "            setTimeout(function() {\n",
       "                var nbb_cell_id = 1450;\n",
       "                var nbb_unformatted_code = \"# finding lin regression model\\nlin_reg_model = LinearRegression()\\nlin_reg_model.fit(x_train, y_train)\";\n",
       "                var nbb_formatted_code = \"# finding lin regression model\\nlin_reg_model = LinearRegression()\\nlin_reg_model.fit(x_train, y_train)\";\n",
       "                var nbb_cells = Jupyter.notebook.get_cells();\n",
       "                for (var i = 0; i < nbb_cells.length; ++i) {\n",
       "                    if (nbb_cells[i].input_prompt_number == nbb_cell_id) {\n",
       "                        if (nbb_cells[i].get_text() == nbb_unformatted_code) {\n",
       "                             nbb_cells[i].set_text(nbb_formatted_code);\n",
       "                        }\n",
       "                        break;\n",
       "                    }\n",
       "                }\n",
       "            }, 500);\n",
       "            "
      ],
      "text/plain": [
       "<IPython.core.display.Javascript object>"
      ]
     },
     "metadata": {},
     "output_type": "display_data"
    }
   ],
   "source": [
    "# finding lin regression model\n",
    "lin_reg_model = LinearRegression()\n",
    "lin_reg_model.fit(x_train, y_train)"
   ]
  },
  {
   "cell_type": "code",
   "execution_count": 1451,
   "id": "91757600",
   "metadata": {},
   "outputs": [
    {
     "data": {
      "text/html": [
       "<div>\n",
       "<style scoped>\n",
       "    .dataframe tbody tr th:only-of-type {\n",
       "        vertical-align: middle;\n",
       "    }\n",
       "\n",
       "    .dataframe tbody tr th {\n",
       "        vertical-align: top;\n",
       "    }\n",
       "\n",
       "    .dataframe thead th {\n",
       "        text-align: right;\n",
       "    }\n",
       "</style>\n",
       "<table border=\"1\" class=\"dataframe\">\n",
       "  <thead>\n",
       "    <tr style=\"text-align: right;\">\n",
       "      <th></th>\n",
       "      <th>Coefficients</th>\n",
       "    </tr>\n",
       "  </thead>\n",
       "  <tbody>\n",
       "    <tr>\n",
       "      <th>Year</th>\n",
       "      <td>7.470199e+11</td>\n",
       "    </tr>\n",
       "    <tr>\n",
       "      <th>Mileage</th>\n",
       "      <td>-1.239014e-01</td>\n",
       "    </tr>\n",
       "    <tr>\n",
       "      <th>Seats</th>\n",
       "      <td>3.518677e-02</td>\n",
       "    </tr>\n",
       "    <tr>\n",
       "      <th>New_Price</th>\n",
       "      <td>2.209892e-01</td>\n",
       "    </tr>\n",
       "    <tr>\n",
       "      <th>Car_Age</th>\n",
       "      <td>7.470199e+11</td>\n",
       "    </tr>\n",
       "    <tr>\n",
       "      <th>Kilometers_Driven_log</th>\n",
       "      <td>-8.147469e-01</td>\n",
       "    </tr>\n",
       "    <tr>\n",
       "      <th>Engine_log</th>\n",
       "      <td>2.009468e-01</td>\n",
       "    </tr>\n",
       "    <tr>\n",
       "      <th>Power_log</th>\n",
       "      <td>4.468614e+00</td>\n",
       "    </tr>\n",
       "    <tr>\n",
       "      <th>Location_Bangalore</th>\n",
       "      <td>1.425608e+00</td>\n",
       "    </tr>\n",
       "    <tr>\n",
       "      <th>Location_Chennai</th>\n",
       "      <td>2.146144e-01</td>\n",
       "    </tr>\n",
       "    <tr>\n",
       "      <th>Location_Coimbatore</th>\n",
       "      <td>1.867259e+00</td>\n",
       "    </tr>\n",
       "    <tr>\n",
       "      <th>Location_Delhi</th>\n",
       "      <td>-6.126475e-01</td>\n",
       "    </tr>\n",
       "    <tr>\n",
       "      <th>Location_Hyderabad</th>\n",
       "      <td>7.803359e-01</td>\n",
       "    </tr>\n",
       "    <tr>\n",
       "      <th>Location_Jaipur</th>\n",
       "      <td>3.042027e-01</td>\n",
       "    </tr>\n",
       "    <tr>\n",
       "      <th>Location_Kochi</th>\n",
       "      <td>-3.633237e-02</td>\n",
       "    </tr>\n",
       "    <tr>\n",
       "      <th>Location_Kolkata</th>\n",
       "      <td>-1.250688e+00</td>\n",
       "    </tr>\n",
       "    <tr>\n",
       "      <th>Location_Mumbai</th>\n",
       "      <td>-5.520759e-01</td>\n",
       "    </tr>\n",
       "    <tr>\n",
       "      <th>Location_Pune</th>\n",
       "      <td>-5.778486e-02</td>\n",
       "    </tr>\n",
       "    <tr>\n",
       "      <th>Fuel_Type_Diesel</th>\n",
       "      <td>6.391909e-01</td>\n",
       "    </tr>\n",
       "    <tr>\n",
       "      <th>Fuel_Type_LPG</th>\n",
       "      <td>2.973747e-02</td>\n",
       "    </tr>\n",
       "    <tr>\n",
       "      <th>Fuel_Type_Petrol</th>\n",
       "      <td>-8.014495e-01</td>\n",
       "    </tr>\n",
       "    <tr>\n",
       "      <th>Transmission_Manual</th>\n",
       "      <td>-6.772573e-01</td>\n",
       "    </tr>\n",
       "    <tr>\n",
       "      <th>Owner_Type_Fourth &amp; Above</th>\n",
       "      <td>-5.918006e-01</td>\n",
       "    </tr>\n",
       "    <tr>\n",
       "      <th>Owner_Type_Second</th>\n",
       "      <td>-5.599234e-01</td>\n",
       "    </tr>\n",
       "    <tr>\n",
       "      <th>Owner_Type_Third</th>\n",
       "      <td>3.910637e-02</td>\n",
       "    </tr>\n",
       "    <tr>\n",
       "      <th>Brand_Audi</th>\n",
       "      <td>6.697347e+00</td>\n",
       "    </tr>\n",
       "    <tr>\n",
       "      <th>Brand_BMW</th>\n",
       "      <td>4.109865e+00</td>\n",
       "    </tr>\n",
       "    <tr>\n",
       "      <th>Brand_Bentley</th>\n",
       "      <td>1.043081e-07</td>\n",
       "    </tr>\n",
       "    <tr>\n",
       "      <th>Brand_Chevrolet</th>\n",
       "      <td>-5.662734e+00</td>\n",
       "    </tr>\n",
       "    <tr>\n",
       "      <th>Brand_Datsun</th>\n",
       "      <td>-5.656616e+00</td>\n",
       "    </tr>\n",
       "    <tr>\n",
       "      <th>Brand_Fiat</th>\n",
       "      <td>-5.953678e+00</td>\n",
       "    </tr>\n",
       "    <tr>\n",
       "      <th>Brand_Force</th>\n",
       "      <td>-4.186009e+00</td>\n",
       "    </tr>\n",
       "    <tr>\n",
       "      <th>Brand_Ford</th>\n",
       "      <td>-4.849298e+00</td>\n",
       "    </tr>\n",
       "    <tr>\n",
       "      <th>Brand_Honda</th>\n",
       "      <td>-4.754883e+00</td>\n",
       "    </tr>\n",
       "    <tr>\n",
       "      <th>Brand_Hyundai</th>\n",
       "      <td>-4.710957e+00</td>\n",
       "    </tr>\n",
       "    <tr>\n",
       "      <th>Brand_Isuzu</th>\n",
       "      <td>3.725290e-09</td>\n",
       "    </tr>\n",
       "    <tr>\n",
       "      <th>Brand_Jaguar</th>\n",
       "      <td>1.616805e+01</td>\n",
       "    </tr>\n",
       "    <tr>\n",
       "      <th>Brand_Jeep</th>\n",
       "      <td>-6.333504e-01</td>\n",
       "    </tr>\n",
       "    <tr>\n",
       "      <th>Brand_Lamborghini</th>\n",
       "      <td>0.000000e+00</td>\n",
       "    </tr>\n",
       "    <tr>\n",
       "      <th>Brand_Land Rover</th>\n",
       "      <td>1.754416e+01</td>\n",
       "    </tr>\n",
       "    <tr>\n",
       "      <th>Brand_Mahindra</th>\n",
       "      <td>-4.564274e+00</td>\n",
       "    </tr>\n",
       "    <tr>\n",
       "      <th>Brand_Maruti</th>\n",
       "      <td>-4.095973e+00</td>\n",
       "    </tr>\n",
       "    <tr>\n",
       "      <th>Brand_Mercedes-Benz</th>\n",
       "      <td>6.777491e+00</td>\n",
       "    </tr>\n",
       "    <tr>\n",
       "      <th>Brand_Mini Cooper</th>\n",
       "      <td>7.978281e+00</td>\n",
       "    </tr>\n",
       "    <tr>\n",
       "      <th>Brand_Mitsubishi</th>\n",
       "      <td>-3.137477e+00</td>\n",
       "    </tr>\n",
       "    <tr>\n",
       "      <th>Brand_Nissan</th>\n",
       "      <td>-4.882042e+00</td>\n",
       "    </tr>\n",
       "    <tr>\n",
       "      <th>Brand_Porsche</th>\n",
       "      <td>-1.164153e-09</td>\n",
       "    </tr>\n",
       "    <tr>\n",
       "      <th>Brand_Renault</th>\n",
       "      <td>-4.856207e+00</td>\n",
       "    </tr>\n",
       "    <tr>\n",
       "      <th>Brand_Skoda</th>\n",
       "      <td>-4.053330e+00</td>\n",
       "    </tr>\n",
       "    <tr>\n",
       "      <th>Brand_Smart</th>\n",
       "      <td>0.000000e+00</td>\n",
       "    </tr>\n",
       "    <tr>\n",
       "      <th>Brand_Tata</th>\n",
       "      <td>-5.911362e+00</td>\n",
       "    </tr>\n",
       "    <tr>\n",
       "      <th>Brand_Toyota</th>\n",
       "      <td>-4.302043e+00</td>\n",
       "    </tr>\n",
       "    <tr>\n",
       "      <th>Brand_Volkswagen</th>\n",
       "      <td>-5.124403e+00</td>\n",
       "    </tr>\n",
       "    <tr>\n",
       "      <th>Brand_Volvo</th>\n",
       "      <td>2.161732e+00</td>\n",
       "    </tr>\n",
       "    <tr>\n",
       "      <th>Intercept</th>\n",
       "      <td>-1.509727e+15</td>\n",
       "    </tr>\n",
       "  </tbody>\n",
       "</table>\n",
       "</div>"
      ],
      "text/plain": [
       "                           Coefficients\n",
       "Year                       7.470199e+11\n",
       "Mileage                   -1.239014e-01\n",
       "Seats                      3.518677e-02\n",
       "New_Price                  2.209892e-01\n",
       "Car_Age                    7.470199e+11\n",
       "Kilometers_Driven_log     -8.147469e-01\n",
       "Engine_log                 2.009468e-01\n",
       "Power_log                  4.468614e+00\n",
       "Location_Bangalore         1.425608e+00\n",
       "Location_Chennai           2.146144e-01\n",
       "Location_Coimbatore        1.867259e+00\n",
       "Location_Delhi            -6.126475e-01\n",
       "Location_Hyderabad         7.803359e-01\n",
       "Location_Jaipur            3.042027e-01\n",
       "Location_Kochi            -3.633237e-02\n",
       "Location_Kolkata          -1.250688e+00\n",
       "Location_Mumbai           -5.520759e-01\n",
       "Location_Pune             -5.778486e-02\n",
       "Fuel_Type_Diesel           6.391909e-01\n",
       "Fuel_Type_LPG              2.973747e-02\n",
       "Fuel_Type_Petrol          -8.014495e-01\n",
       "Transmission_Manual       -6.772573e-01\n",
       "Owner_Type_Fourth & Above -5.918006e-01\n",
       "Owner_Type_Second         -5.599234e-01\n",
       "Owner_Type_Third           3.910637e-02\n",
       "Brand_Audi                 6.697347e+00\n",
       "Brand_BMW                  4.109865e+00\n",
       "Brand_Bentley              1.043081e-07\n",
       "Brand_Chevrolet           -5.662734e+00\n",
       "Brand_Datsun              -5.656616e+00\n",
       "Brand_Fiat                -5.953678e+00\n",
       "Brand_Force               -4.186009e+00\n",
       "Brand_Ford                -4.849298e+00\n",
       "Brand_Honda               -4.754883e+00\n",
       "Brand_Hyundai             -4.710957e+00\n",
       "Brand_Isuzu                3.725290e-09\n",
       "Brand_Jaguar               1.616805e+01\n",
       "Brand_Jeep                -6.333504e-01\n",
       "Brand_Lamborghini          0.000000e+00\n",
       "Brand_Land Rover           1.754416e+01\n",
       "Brand_Mahindra            -4.564274e+00\n",
       "Brand_Maruti              -4.095973e+00\n",
       "Brand_Mercedes-Benz        6.777491e+00\n",
       "Brand_Mini Cooper          7.978281e+00\n",
       "Brand_Mitsubishi          -3.137477e+00\n",
       "Brand_Nissan              -4.882042e+00\n",
       "Brand_Porsche             -1.164153e-09\n",
       "Brand_Renault             -4.856207e+00\n",
       "Brand_Skoda               -4.053330e+00\n",
       "Brand_Smart                0.000000e+00\n",
       "Brand_Tata                -5.911362e+00\n",
       "Brand_Toyota              -4.302043e+00\n",
       "Brand_Volkswagen          -5.124403e+00\n",
       "Brand_Volvo                2.161732e+00\n",
       "Intercept                 -1.509727e+15"
      ]
     },
     "execution_count": 1451,
     "metadata": {},
     "output_type": "execute_result"
    },
    {
     "data": {
      "application/javascript": [
       "\n",
       "            setTimeout(function() {\n",
       "                var nbb_cell_id = 1451;\n",
       "                var nbb_unformatted_code = \"coef_df = pd.DataFrame(\\n    np.append(lin_reg_model.coef_.flatten(), lin_reg_model.intercept_),\\n    index=x_train.columns.tolist() + [\\\"Intercept\\\"],\\n    columns=[\\\"Coefficients\\\"],\\n)\\ncoef_df\";\n",
       "                var nbb_formatted_code = \"coef_df = pd.DataFrame(\\n    np.append(lin_reg_model.coef_.flatten(), lin_reg_model.intercept_),\\n    index=x_train.columns.tolist() + [\\\"Intercept\\\"],\\n    columns=[\\\"Coefficients\\\"],\\n)\\ncoef_df\";\n",
       "                var nbb_cells = Jupyter.notebook.get_cells();\n",
       "                for (var i = 0; i < nbb_cells.length; ++i) {\n",
       "                    if (nbb_cells[i].input_prompt_number == nbb_cell_id) {\n",
       "                        if (nbb_cells[i].get_text() == nbb_unformatted_code) {\n",
       "                             nbb_cells[i].set_text(nbb_formatted_code);\n",
       "                        }\n",
       "                        break;\n",
       "                    }\n",
       "                }\n",
       "            }, 500);\n",
       "            "
      ],
      "text/plain": [
       "<IPython.core.display.Javascript object>"
      ]
     },
     "metadata": {},
     "output_type": "display_data"
    }
   ],
   "source": [
    "coef_df = pd.DataFrame(\n",
    "    np.append(lin_reg_model.coef_.flatten(), lin_reg_model.intercept_),\n",
    "    index=x_train.columns.tolist() + [\"Intercept\"],\n",
    "    columns=[\"Coefficients\"],\n",
    ")\n",
    "coef_df"
   ]
  },
  {
   "cell_type": "code",
   "execution_count": 1452,
   "id": "dcd28392",
   "metadata": {},
   "outputs": [
    {
     "data": {
      "application/javascript": [
       "\n",
       "            setTimeout(function() {\n",
       "                var nbb_cell_id = 1452;\n",
       "                var nbb_unformatted_code = \"def adj_r2(ind_vars, targets, predictions):\\n    r2 = r2_score(targets, predictions)\\n    n = ind_vars.shape[0]\\n    k = ind_vars.shape[1]\\n    return 1 - ((1 - r2) * (n - 1) / (n - k - 1))\\n\\n\\n# Model performance check\\ndef model_perf(model, inp, out):\\n\\n    y_pred = model.predict(inp)\\n    y_act = out.values\\n\\n    return pd.DataFrame(\\n        {\\n            \\\"RMSE\\\": np.sqrt(mean_squared_error(y_act, y_pred)),\\n            \\\"MAE\\\": mean_absolute_error(y_act, y_pred),\\n            \\\"R^2\\\": r2_score(y_act, y_pred),\\n            \\\"Adjusted R^2\\\": adj_r2(inp, y_act, y_pred),\\n        },\\n        index=[0],\\n    )\";\n",
       "                var nbb_formatted_code = \"def adj_r2(ind_vars, targets, predictions):\\n    r2 = r2_score(targets, predictions)\\n    n = ind_vars.shape[0]\\n    k = ind_vars.shape[1]\\n    return 1 - ((1 - r2) * (n - 1) / (n - k - 1))\\n\\n\\n# Model performance check\\ndef model_perf(model, inp, out):\\n\\n    y_pred = model.predict(inp)\\n    y_act = out.values\\n\\n    return pd.DataFrame(\\n        {\\n            \\\"RMSE\\\": np.sqrt(mean_squared_error(y_act, y_pred)),\\n            \\\"MAE\\\": mean_absolute_error(y_act, y_pred),\\n            \\\"R^2\\\": r2_score(y_act, y_pred),\\n            \\\"Adjusted R^2\\\": adj_r2(inp, y_act, y_pred),\\n        },\\n        index=[0],\\n    )\";\n",
       "                var nbb_cells = Jupyter.notebook.get_cells();\n",
       "                for (var i = 0; i < nbb_cells.length; ++i) {\n",
       "                    if (nbb_cells[i].input_prompt_number == nbb_cell_id) {\n",
       "                        if (nbb_cells[i].get_text() == nbb_unformatted_code) {\n",
       "                             nbb_cells[i].set_text(nbb_formatted_code);\n",
       "                        }\n",
       "                        break;\n",
       "                    }\n",
       "                }\n",
       "            }, 500);\n",
       "            "
      ],
      "text/plain": [
       "<IPython.core.display.Javascript object>"
      ]
     },
     "metadata": {},
     "output_type": "display_data"
    }
   ],
   "source": [
    "def adj_r2(ind_vars, targets, predictions):\n",
    "    r2 = r2_score(targets, predictions)\n",
    "    n = ind_vars.shape[0]\n",
    "    k = ind_vars.shape[1]\n",
    "    return 1 - ((1 - r2) * (n - 1) / (n - k - 1))\n",
    "\n",
    "\n",
    "# Model performance check\n",
    "def model_perf(model, inp, out):\n",
    "\n",
    "    y_pred = model.predict(inp)\n",
    "    y_act = out.values\n",
    "\n",
    "    return pd.DataFrame(\n",
    "        {\n",
    "            \"RMSE\": np.sqrt(mean_squared_error(y_act, y_pred)),\n",
    "            \"MAE\": mean_absolute_error(y_act, y_pred),\n",
    "            \"R^2\": r2_score(y_act, y_pred),\n",
    "            \"Adjusted R^2\": adj_r2(inp, y_act, y_pred),\n",
    "        },\n",
    "        index=[0],\n",
    "    )"
   ]
  },
  {
   "cell_type": "code",
   "execution_count": 1453,
   "id": "5a21df0c",
   "metadata": {},
   "outputs": [
    {
     "name": "stdout",
     "output_type": "stream",
     "text": [
      "Training Performance\n",
      "\n",
      "       RMSE       MAE       R^2  Adjusted R^2\n",
      "0  2.710658  1.642484  0.849208      0.846758\n",
      "\n",
      "\n",
      "Test Performance\n",
      "\n",
      "       RMSE      MAE       R^2  Adjusted R^2\n",
      "0  2.619638  1.60788  0.844151       0.83811\n"
     ]
    },
    {
     "data": {
      "application/javascript": [
       "\n",
       "            setTimeout(function() {\n",
       "                var nbb_cell_id = 1453;\n",
       "                var nbb_unformatted_code = \"# finding RMSE, MAE, and  \\ud835\\udc452 as well as adjusted R2\\n\\n\\n# Checking model performance on train set\\nprint(\\\"Training Performance\\\\n\\\")\\nprint(model_perf(lin_reg_model, x_train, y_train))\\n\\n# Checking model performance on test set\\nprint(\\\"\\\\n\\\\nTest Performance\\\\n\\\")\\nprint(model_perf(lin_reg_model, x_test, y_test))\";\n",
       "                var nbb_formatted_code = \"# finding RMSE, MAE, and  \\ud835\\udc452 as well as adjusted R2\\n\\n\\n# Checking model performance on train set\\nprint(\\\"Training Performance\\\\n\\\")\\nprint(model_perf(lin_reg_model, x_train, y_train))\\n\\n# Checking model performance on test set\\nprint(\\\"\\\\n\\\\nTest Performance\\\\n\\\")\\nprint(model_perf(lin_reg_model, x_test, y_test))\";\n",
       "                var nbb_cells = Jupyter.notebook.get_cells();\n",
       "                for (var i = 0; i < nbb_cells.length; ++i) {\n",
       "                    if (nbb_cells[i].input_prompt_number == nbb_cell_id) {\n",
       "                        if (nbb_cells[i].get_text() == nbb_unformatted_code) {\n",
       "                             nbb_cells[i].set_text(nbb_formatted_code);\n",
       "                        }\n",
       "                        break;\n",
       "                    }\n",
       "                }\n",
       "            }, 500);\n",
       "            "
      ],
      "text/plain": [
       "<IPython.core.display.Javascript object>"
      ]
     },
     "metadata": {},
     "output_type": "display_data"
    }
   ],
   "source": [
    "# finding RMSE, MAE, and  𝑅2 as well as adjusted R2\n",
    "\n",
    "\n",
    "# Checking model performance on train set\n",
    "print(\"Training Performance\\n\")\n",
    "print(model_perf(lin_reg_model, x_train, y_train))\n",
    "\n",
    "# Checking model performance on test set\n",
    "print(\"\\n\\nTest Performance\\n\")\n",
    "print(model_perf(lin_reg_model, x_test, y_test))"
   ]
  },
  {
   "cell_type": "markdown",
   "id": "08410bd6",
   "metadata": {},
   "source": [
    "The training and testing 𝑅2 are 0.84 and 0.83, indicating that the model explains 84% and 83% of the total variation in the train and test sets respectively. These scores are comparable.\n",
    "\n",
    "RMSE values on the train and test sets are also comparable which exhibits that this model is not overfitting.\n",
    "\n",
    "MAE indicates that our current model is able to predict price ratings within a mean error of 1.76 on the test set.\n"
   ]
  },
  {
   "cell_type": "markdown",
   "id": "3b536610",
   "metadata": {},
   "source": [
    "Conclusions:\n",
    "\n",
    "With this model we were able to explain 84% of variation in data, however the MAE could be improved due to the amount of error.\n",
    "\n",
    "This model shows that the most significant predictors of price of used cars in this data set are age, engine power, mileage, km driven, seat number and transmission.\n",
    "The Newer cars seem to sell for higher prices as do those with an increasing amount of seats. Because older cars generally have higher mileage, they tend to sell for a lower price as well.\n",
    "Brand is also incredibly important in terms of predicting the price so higher end brands such as porche and bmw's, etc will generally trend towards higher selling prices while cars like honda and hyundai are lower end and will be more budget friendly/generally easier to sell due to affordability.\n",
    "\n",
    "Most of the cars in this set are manual so increasing the number of automatic transmission cars may aid in selling as well.\n",
    "\n",
    "Overall, marketing towards the highest demand will lead to best sales so marketing quality used cars towards those who can afford it will lead to best increase in sales.\n",
    "\n",
    "\n"
   ]
  },
  {
   "cell_type": "code",
   "execution_count": null,
   "id": "63c9c161",
   "metadata": {},
   "outputs": [],
   "source": []
  }
 ],
 "metadata": {
  "kernelspec": {
   "display_name": "Python 3",
   "language": "python",
   "name": "python3"
  },
  "language_info": {
   "codemirror_mode": {
    "name": "ipython",
    "version": 3
   },
   "file_extension": ".py",
   "mimetype": "text/x-python",
   "name": "python",
   "nbconvert_exporter": "python",
   "pygments_lexer": "ipython3",
   "version": "3.8.8"
  }
 },
 "nbformat": 4,
 "nbformat_minor": 5
}
